{
 "cells": [
  {
   "cell_type": "code",
   "execution_count": 42,
   "metadata": {},
   "outputs": [
    {
     "data": {
      "text/plain": [
       "'<span class=\"mi-split\"><i class=\"mi mi-mana mi-R\"></i><i class=\"mi mi-mana mi-G\"></i></span>: Add <i class=\"mi mi-mana mi-C\"></i><span class=\"mi-split\"><i class=\"mi mi-mana mi-W\"></i><i class=\"mi mi-mana mi-U\"></i></span><i class=\"mi mi-mana mi-R\"></i> to you mana pool'"
      ]
     },
     "execution_count": 42,
     "metadata": {},
     "output_type": "execute_result"
    }
   ],
   "source": [
    "#<div class=\"mi-split\"><i class=\"mi mi-w\"></i><i class=\"mi mi-r\"></i></div>\n",
    "import re\n",
    "\n",
    "def do_thing(text, scale=None):\n",
    "\n",
    "    def get_colour_tag(symbol, shadow=False):\n",
    "        classes = ['mi', 'mi-mana', f'mi-{symbol}']\n",
    "        if scale is not None:\n",
    "            classes.append(f'mi-{scale}x')\n",
    "\n",
    "        if shadow:\n",
    "            classes.append('mi-shadow')\n",
    "\n",
    "        return '<i class=\"' + ' '.join(classes) + '\"></i>'\n",
    "\n",
    "    def my_replace(match):\n",
    "        grp = match.groups()[0]\n",
    "        if '/' in grp:\n",
    "            return '<span class=\"mi-split\">' + ''.join([get_colour_tag(x) for x in grp.split('/')]) + '</span>'\n",
    "        return get_colour_tag(grp)\n",
    "\n",
    "\n",
    "    return re.sub(r'{(.+?)}', my_replace, text)\n",
    "    \n",
    "do_thing('{R/G}: Add {C}{W/U}{R} to you mana pool')"
   ]
  },
  {
   "cell_type": "code",
   "execution_count": 41,
   "metadata": {},
   "outputs": [
    {
     "data": {
      "text/plain": [
       "'All creatures get +2/+2.\\nWhenever you roll {CHAOS}, you may add {W}{U}{B}{R}{G} to your mana pool.'"
      ]
     },
     "execution_count": 41,
     "metadata": {},
     "output_type": "execute_result"
    }
   ],
   "source": [
    "from cards.models import *\n",
    "Card.objects.get(name='Krosa').rules_text"
   ]
  },
  {
   "cell_type": "code",
   "execution_count": 43,
   "metadata": {},
   "outputs": [
    {
     "data": {
      "text/plain": [
       "\"({G/P} can be paid with either {G} or 2 life.)\\n{1}{G/P}, {T}, Sacrifice a creature: Search your library for a creature card with converted mana cost equal to 1 plus the sacrificed creature's converted mana cost, put that card onto the battlefield, then shuffle your library. Activate this ability only any time you could cast a sorcery.\""
      ]
     },
     "execution_count": 43,
     "metadata": {},
     "output_type": "execute_result"
    }
   ],
   "source": [
    "Card.objects.get(name='Birthing Pod').rules_text"
   ]
  },
  {
   "cell_type": "code",
   "execution_count": 1,
   "metadata": {},
   "outputs": [
    {
     "data": {
      "text/plain": [
       "'<i class=\"mi mi-p mi-mana-g\"></i>'"
      ]
     },
     "execution_count": 1,
     "metadata": {},
     "output_type": "execute_result"
    }
   ],
   "source": [
    "from website.templatetags.mtg_font import  replace_mtg_font_symbols\n",
    "replace_mtg_font_symbols('{G/P}')\n"
   ]
  },
  {
   "cell_type": "code",
   "execution_count": 53,
   "metadata": {},
   "outputs": [
    {
     "data": {
      "text/plain": [
       "[(('Our Market Research Shows That Players Like Really Long Card Names So We Made this Card to Have the Absolute Longest Card Name Ever Elemental',),\n",
       "  Counter({'b': 1,\n",
       "           'c': 4,\n",
       "           'd': 4,\n",
       "           'g': 2,\n",
       "           'h': 6,\n",
       "           'k': 2,\n",
       "           'l': 9,\n",
       "           'm': 5,\n",
       "           'p': 1,\n",
       "           'v': 2,\n",
       "           'w': 2,\n",
       "           'y': 2})),\n",
       " (('Gallows at Willow Hill',), Counter({'g': 1, 'h': 1, 'l': 6, 'w': 3})),\n",
       " (('Thallid Shell-Dweller',), Counter({'d': 2, 'h': 2, 'l': 6, 'w': 1})),\n",
       " (('Bubbling Beebles',), Counter({'b': 5, 'g': 1, 'l': 2})),\n",
       " (('_____',), Counter({'_': 5})),\n",
       " (('All Shall Smolder in My Wake',),\n",
       "  Counter({'d': 1, 'h': 1, 'k': 1, 'l': 5, 'm': 2, 'w': 1, 'y': 1})),\n",
       " (('Pollen Lullaby',), Counter({'b': 1, 'l': 5, 'p': 1, 'y': 1})),\n",
       " ((\"Ghoulcaller's Bell\",),\n",
       "  Counter({\"'\": 1, 'b': 1, 'c': 1, 'g': 1, 'h': 1, 'l': 5})),\n",
       " (('Hellhole Flailer',), Counter({'f': 1, 'h': 2, 'l': 5})),\n",
       " ((\"Kazuul's Toll Collector\",),\n",
       "  Counter({\"'\": 1, 'c': 2, 'k': 1, 'l': 5, 'z': 1})),\n",
       " (('Distended Mindbender',), Counter({'b': 1, 'd': 5, 'm': 1})),\n",
       " (('Miasmic Mummy',), Counter({'c': 1, 'm': 5, 'y': 1})),\n",
       " (('Borrowing 100,000 Arrows',),\n",
       "  Counter({',': 1, '0': 5, '1': 1, 'b': 1, 'g': 1, 'w': 2})),\n",
       " (('Quick-Stick Lick Trick',), Counter({'c': 4, 'k': 4, 'l': 1, 'q': 1})),\n",
       " (('Chipper Chopper',), Counter({'c': 2, 'h': 2, 'p': 4})),\n",
       " (('Hammer Jammer',), Counter({'h': 1, 'j': 1, 'm': 4})),\n",
       " (('Cherished Hatchling',), Counter({'c': 2, 'd': 1, 'g': 1, 'h': 4, 'l': 1})),\n",
       " (('Goblin Flotilla',), Counter({'b': 1, 'f': 1, 'g': 1, 'l': 4})),\n",
       " (('Flooded Woodlands',), Counter({'d': 4, 'f': 1, 'l': 2, 'w': 1})),\n",
       " (('Lapis Lazuli Talisman',), Counter({'l': 4, 'm': 1, 'p': 1, 'z': 1})),\n",
       " (('Unlikely Alliance',), Counter({'c': 1, 'k': 1, 'l': 4, 'y': 1})),\n",
       " (('Granger Guildmage',), Counter({'d': 1, 'g': 4, 'l': 1, 'm': 1})),\n",
       " (('Command of Unsummoning',),\n",
       "  Counter({'c': 1, 'd': 1, 'f': 1, 'g': 1, 'm': 4})),\n",
       " (('Jagged Lightning',), Counter({'d': 1, 'g': 4, 'h': 1, 'j': 1, 'l': 1})),\n",
       " (('Crenellated Wall',), Counter({'c': 1, 'd': 1, 'l': 4, 'w': 1})),\n",
       " (('Latulla, Keldon Overseer',),\n",
       "  Counter({',': 1, 'd': 1, 'k': 1, 'l': 4, 'v': 1})),\n",
       " (('Well-Laid Plans',), Counter({'d': 1, 'l': 4, 'p': 1, 'w': 1})),\n",
       " (('Goblin Digging Team',), Counter({'b': 1, 'd': 1, 'g': 4, 'l': 1, 'm': 1})),\n",
       " (('Woodland Druid',), Counter({'d': 4, 'l': 1, 'w': 1})),\n",
       " (('Parallel Evolution',), Counter({'l': 4, 'p': 1, 'v': 1})),\n",
       " (('Soulgorger Orgg',), Counter({'g': 4, 'l': 1})),\n",
       " (('Elvish Soultiller',), Counter({'h': 1, 'l': 4, 'v': 1})),\n",
       " (('Trolls of Tel-Jilad',), Counter({'d': 1, 'f': 1, 'j': 1, 'l': 4})),\n",
       " (('Circle of Protection: Artifacts',),\n",
       "  Counter({':': 1, 'c': 4, 'f': 2, 'l': 1, 'p': 1})),\n",
       " (('Psychic Puppetry',), Counter({'c': 2, 'h': 1, 'p': 4, 'y': 2})),\n",
       " (('Akki Rockspeaker',), Counter({'c': 1, 'k': 4, 'p': 1})),\n",
       " (('Infernal Spawn of Infernal Spawn of Evil',),\n",
       "  Counter({'f': 4, 'l': 3, 'p': 2, 'v': 1, 'w': 2})),\n",
       " (('Skull Collector',), Counter({'c': 2, 'k': 1, 'l': 4})),\n",
       " (('Circle of Protection: Black',),\n",
       "  Counter({':': 1, 'b': 1, 'c': 4, 'f': 1, 'k': 1, 'l': 2, 'p': 1})),\n",
       " (('Bloodletter Quill',), Counter({'b': 1, 'd': 1, 'l': 4, 'q': 1})),\n",
       " (('Orzhova, the Church of Deals',),\n",
       "  Counter({',': 1, 'c': 2, 'd': 1, 'f': 1, 'h': 4, 'l': 1, 'v': 1, 'z': 1})),\n",
       " (('Illusionary Wall',), Counter({'l': 4, 'w': 1, 'y': 1})),\n",
       " (('Ifh-Bíff Efreet',), Counter({'b': 1, 'f': 4, 'h': 1, 'í': 1})),\n",
       " (('Goldmeadow Dodger',), Counter({'d': 4, 'g': 2, 'l': 1, 'm': 1, 'w': 1})),\n",
       " (('Turtleshell Changeling',), Counter({'c': 1, 'g': 2, 'h': 2, 'l': 4})),\n",
       " (('Boggart Loggers',), Counter({'b': 1, 'g': 4, 'l': 1})),\n",
       " (('Fistful of Force',), Counter({'c': 1, 'f': 4, 'l': 1})),\n",
       " (('Devoted Druid',), Counter({'d': 4, 'v': 1})),\n",
       " (('Noggle Hedge-Mage',), Counter({'d': 1, 'g': 4, 'h': 1, 'l': 1, 'm': 1})),\n",
       " (('Thought Hemorrhage',), Counter({'g': 2, 'h': 4, 'm': 1})),\n",
       " (('Silverglade Elemental',),\n",
       "  Counter({'d': 1, 'g': 1, 'l': 4, 'm': 1, 'v': 1})),\n",
       " ((\"All Hallow's Eve\",), Counter({\"'\": 1, 'h': 1, 'l': 4, 'v': 1, 'w': 1})),\n",
       " (('Rohgahh of Kher Keep',),\n",
       "  Counter({'f': 1, 'g': 1, 'h': 4, 'k': 2, 'p': 1})),\n",
       " (('The Tabernacle at Pendrell Vale',),\n",
       "  Counter({'b': 1, 'c': 1, 'd': 1, 'h': 1, 'l': 4, 'p': 1, 'v': 1})),\n",
       " (('Ruthless Cullblade',), Counter({'b': 1, 'c': 1, 'd': 1, 'h': 1, 'l': 4})),\n",
       " (('Perish the Thought',), Counter({'g': 1, 'h': 4, 'p': 1})),\n",
       " (('I Know All, I See All',), Counter({',': 1, 'k': 1, 'l': 4, 'w': 1})),\n",
       " (('Oxidda Daredevil',), Counter({'d': 4, 'l': 1, 'v': 1, 'x': 1})),\n",
       " (('Tel-Jilad Fallen',), Counter({'d': 1, 'f': 1, 'j': 1, 'l': 4})),\n",
       " (('Blue Elemental Blast',), Counter({'b': 2, 'l': 4, 'm': 1})),\n",
       " (('Boggart Ram-Gang',), Counter({'b': 1, 'g': 4, 'm': 1})),\n",
       " (('Corrupted Conscience',), Counter({'c': 4, 'd': 1, 'p': 1})),\n",
       " (('Parallel Lives',), Counter({'l': 4, 'p': 1, 'v': 1})),\n",
       " (('Skillful Lunge',), Counter({'f': 1, 'g': 1, 'k': 1, 'l': 4})),\n",
       " (('Duty-Bound Dead',), Counter({'b': 1, 'd': 4, 'y': 1})),\n",
       " (('Golgari Longlegs',), Counter({'g': 4, 'l': 3})),\n",
       " (('Millennial Gargoyle',), Counter({'g': 2, 'l': 4, 'm': 1, 'y': 1})),\n",
       " (('Hellspark Elemental',), Counter({'h': 1, 'k': 1, 'l': 4, 'm': 1, 'p': 1})),\n",
       " (('Golgari Guildmage',), Counter({'d': 1, 'g': 4, 'l': 2, 'm': 1})),\n",
       " (('Tidehollow Sculler',), Counter({'c': 1, 'd': 1, 'h': 1, 'l': 4, 'w': 1})),\n",
       " (('Kongming, \"Sleeping Dragon\"',),\n",
       "  Counter({'\"': 2, ',': 1, 'd': 1, 'g': 4, 'k': 1, 'l': 1, 'm': 1, 'p': 1})),\n",
       " (('Rofellos, Llanowar Emissary',),\n",
       "  Counter({',': 1, 'f': 1, 'l': 4, 'm': 1, 'w': 1, 'y': 1})),\n",
       " (('Kurkesh, Onakke Ancient',), Counter({',': 1, 'c': 1, 'h': 1, 'k': 4})),\n",
       " (('Staff of the Flame Magus',),\n",
       "  Counter({'f': 4, 'g': 1, 'h': 1, 'l': 1, 'm': 2})),\n",
       " (('Belltoll Dragon',), Counter({'b': 1, 'd': 1, 'g': 1, 'l': 4})),\n",
       " (('Pillory of the Sleepless',),\n",
       "  Counter({'f': 1, 'h': 1, 'l': 4, 'p': 2, 'y': 1})),\n",
       " (('Knight of the White Orchid',),\n",
       "  Counter({'c': 1, 'd': 1, 'f': 1, 'g': 1, 'h': 4, 'k': 1, 'w': 1})),\n",
       " (('Malakir Cullblade',),\n",
       "  Counter({'b': 1, 'c': 1, 'd': 1, 'k': 1, 'l': 4, 'm': 1})),\n",
       " (('Call of the Full Moon',),\n",
       "  Counter({'c': 1, 'f': 2, 'h': 1, 'l': 4, 'm': 1})),\n",
       " (('Null Caller',), Counter({'c': 1, 'l': 4})),\n",
       " (('Village Bell-Ringer',), Counter({'b': 1, 'g': 2, 'l': 4, 'v': 1})),\n",
       " (('Nagging Thoughts',), Counter({'g': 4, 'h': 2})),\n",
       " (('Call the Bloodline',), Counter({'b': 1, 'c': 1, 'd': 1, 'h': 1, 'l': 4})),\n",
       " ((\"Ghoulcaller's Accomplice\",),\n",
       "  Counter({\"'\": 1, 'c': 4, 'g': 1, 'h': 1, 'l': 4, 'm': 1, 'p': 1})),\n",
       " (('Glacial Wall',), Counter({'c': 1, 'g': 1, 'l': 4, 'w': 1})),\n",
       " (('Spell Queller',), Counter({'l': 4, 'p': 1, 'q': 1})),\n",
       " (('Throne of the High City',),\n",
       "  Counter({'c': 1, 'f': 1, 'g': 1, 'h': 4, 'y': 1})),\n",
       " (('Hundred-Handed One',), Counter({'d': 4, 'h': 2})),\n",
       " (('Sword of Body and Mind',),\n",
       "  Counter({'b': 1, 'd': 4, 'f': 1, 'm': 1, 'w': 1, 'y': 1})),\n",
       " (('Underhanded Designs',), Counter({'d': 4, 'g': 1, 'h': 1})),\n",
       " (('Kambal, Consul of Allocation',),\n",
       "  Counter({',': 1, 'b': 1, 'c': 2, 'f': 1, 'k': 1, 'l': 4, 'm': 1})),\n",
       " (('Vorel of the Hull Clade',),\n",
       "  Counter({'c': 1, 'd': 1, 'f': 1, 'h': 2, 'l': 4, 'v': 1})),\n",
       " (('Mammoth Umbra',), Counter({'b': 1, 'h': 1, 'm': 4})),\n",
       " (('Thorn-Thrash Viashino',), Counter({'h': 4, 'v': 1})),\n",
       " (('Dreampod Druid',), Counter({'d': 4, 'm': 1, 'p': 1})),\n",
       " (('Crackdown Construct',), Counter({'c': 4, 'd': 1, 'k': 1, 'w': 1})),\n",
       " (('Implement of Improvement',),\n",
       "  Counter({'f': 1, 'l': 1, 'm': 4, 'p': 2, 'v': 1})),\n",
       " ((\"Grafdigger's Cage\",), Counter({\"'\": 1, 'c': 1, 'd': 1, 'f': 1, 'g': 4})),\n",
       " (('Through the Breach',), Counter({'b': 1, 'c': 1, 'g': 1, 'h': 4})),\n",
       " (('Throne of the God-Pharaoh',),\n",
       "  Counter({'d': 1, 'f': 1, 'g': 1, 'h': 4, 'p': 1})),\n",
       " (('Cascading Cataracts',), Counter({'c': 4, 'd': 1, 'g': 1})),\n",
       " (('Collective Unconscious',), Counter({'c': 4, 'l': 2, 'v': 1})),\n",
       " ((\"Wolfcaller's Howl\",),\n",
       "  Counter({\"'\": 1, 'c': 1, 'f': 1, 'h': 1, 'l': 4, 'w': 2})),\n",
       " (('Lotleth Troll',), Counter({'h': 1, 'l': 4})),\n",
       " (('Golgari Guildgate',), Counter({'d': 1, 'g': 4, 'l': 2})),\n",
       " (('The Mighty Will Fall',),\n",
       "  Counter({'f': 1, 'g': 1, 'h': 2, 'l': 4, 'm': 1, 'w': 1, 'y': 1})),\n",
       " (('Nicol Bolas, Planeswalker',),\n",
       "  Counter({',': 1, 'b': 1, 'c': 1, 'k': 1, 'l': 4, 'p': 1, 'w': 1})),\n",
       " (('Mummy Paramount',), Counter({'m': 4, 'p': 1, 'y': 1})),\n",
       " (('Frilled Sandwalla',), Counter({'d': 2, 'f': 1, 'l': 4, 'w': 1})),\n",
       " ((\"Kinjalli's Caller\",), Counter({\"'\": 1, 'c': 1, 'j': 1, 'k': 1, 'l': 4})),\n",
       " (('Thrill-Kill Assassin',), Counter({'h': 1, 'k': 1, 'l': 4})),\n",
       " (('Kiki-Jiki, Mirror Breaker',),\n",
       "  Counter({',': 1, 'b': 1, 'j': 1, 'k': 4, 'm': 1})),\n",
       " (('Krallenhorde Killer',), Counter({'d': 1, 'h': 1, 'k': 2, 'l': 4})),\n",
       " (('Liliana, Heretical Healer',), Counter({',': 1, 'c': 1, 'h': 2, 'l': 4})),\n",
       " (('Lone Wolf of the Natterknolls',),\n",
       "  Counter({'f': 2, 'h': 1, 'k': 1, 'l': 4, 'w': 1})),\n",
       " (('Hanweir, the Writhing Township',),\n",
       "  Counter({',': 1, 'g': 1, 'h': 4, 'p': 1, 'w': 3})),\n",
       " (('Rapid Prototyper',), Counter({'d': 1, 'p': 3, 'y': 1})),\n",
       " (('Thud-for-Duds',), Counter({'d': 3, 'f': 1, 'h': 1})),\n",
       " (('Knight of the Kitchen Sink',),\n",
       "  Counter({'c': 1, 'f': 1, 'g': 1, 'h': 3, 'k': 3})),\n",
       " (('Riveting Rigger',), Counter({'g': 3, 'v': 1})),\n",
       " (('Blurry Beeble',), Counter({'b': 3, 'l': 2, 'y': 1})),\n",
       " (('Graveyard Busybody',), Counter({'b': 2, 'd': 2, 'g': 1, 'v': 1, 'y': 3})),\n",
       " (('Half-Shark, Half-',), Counter({',': 1, 'f': 2, 'h': 3, 'k': 1, 'l': 2})),\n",
       " (('Novellamental',), Counter({'l': 3, 'm': 1, 'v': 1})),\n",
       " (('Very Cryptic Command',),\n",
       "  Counter({'c': 3, 'd': 1, 'm': 2, 'p': 1, 'v': 1, 'y': 2})),\n",
       " (('Over My Dead Bodies',), Counter({'b': 1, 'd': 3, 'm': 1, 'v': 1, 'y': 1})),\n",
       " (('Steady-Handed Mook',), Counter({'d': 3, 'h': 1, 'k': 1, 'm': 1, 'y': 1})),\n",
       " (('Hammerfest Boomtacular',),\n",
       "  Counter({'b': 1, 'c': 1, 'f': 1, 'h': 1, 'l': 1, 'm': 3})),\n",
       " (('It That Gets Left Hanging',), Counter({'f': 1, 'g': 3, 'h': 2, 'l': 1})),\n",
       " (('Druid of the Sacred Beaker',),\n",
       "  Counter({'b': 1, 'c': 1, 'd': 3, 'f': 1, 'h': 1, 'k': 1})),\n",
       " (('Half-Squirrel, Half-',),\n",
       "  Counter({',': 1, 'f': 2, 'h': 2, 'l': 3, 'q': 1})),\n",
       " (('Hydradoodle',), Counter({'d': 3, 'h': 1, 'l': 1, 'y': 1})),\n",
       " (('Handy Dandy Clone Machine',),\n",
       "  Counter({'c': 2, 'd': 3, 'h': 2, 'l': 1, 'm': 1, 'y': 2})),\n",
       " (('Lobe Lobber',), Counter({'b': 3, 'l': 2})),\n",
       " (('Mad Science Fair Project',),\n",
       "  Counter({'c': 3, 'd': 1, 'f': 1, 'j': 1, 'm': 1, 'p': 1})),\n",
       " (('Staff of the Letter Magus',),\n",
       "  Counter({'f': 3, 'g': 1, 'h': 1, 'l': 1, 'm': 1})),\n",
       " (('Stamp of Approval',), Counter({'f': 1, 'l': 1, 'm': 1, 'p': 3, 'v': 1})),\n",
       " (('Sword of Dungeons & Dragons',),\n",
       "  Counter({'&': 1, 'd': 3, 'f': 1, 'g': 2, 'w': 1})),\n",
       " (('Lackey Recycler',), Counter({'c': 3, 'k': 1, 'l': 2, 'y': 2})),\n",
       " (('Moment of Triumph',), Counter({'f': 1, 'h': 1, 'm': 3, 'p': 1})),\n",
       " (('Flood of Recollection',), Counter({'c': 2, 'd': 1, 'f': 2, 'l': 3})),\n",
       " (('Tomb Robber',), Counter({'b': 3, 'm': 1})),\n",
       " (('Dire Fleet Daredevil',), Counter({'d': 3, 'f': 1, 'l': 2, 'v': 1})),\n",
       " (('Goblin Trailblazer',), Counter({'b': 2, 'g': 1, 'l': 3, 'z': 1})),\n",
       " (('Swaggering Corsair',), Counter({'c': 1, 'g': 3, 'w': 1})),\n",
       " ((\"Tilonalli's Crown\",), Counter({\"'\": 1, 'c': 1, 'l': 3, 'w': 1})),\n",
       " ((\"Tilonalli's Summoner\",), Counter({\"'\": 1, 'l': 3, 'm': 2})),\n",
       " (('Tendershoot Dryad',), Counter({'d': 3, 'h': 1, 'y': 1})),\n",
       " (('Wayward Swordtooth',), Counter({'d': 2, 'h': 1, 'w': 3, 'y': 1})),\n",
       " (('Angrath, the Flame-Chained',),\n",
       "  Counter({',': 1, 'c': 1, 'd': 1, 'f': 1, 'g': 1, 'h': 3, 'l': 1, 'm': 1})),\n",
       " (('Raging Regisaur',), Counter({'g': 3})),\n",
       " (('Zacama, Primal Calamity',),\n",
       "  Counter({',': 1, 'c': 2, 'l': 2, 'm': 3, 'p': 1, 'y': 1, 'z': 1})),\n",
       " (('Vraska, Scheming Gorgon',),\n",
       "  Counter({',': 1, 'c': 1, 'g': 3, 'h': 1, 'k': 1, 'm': 1, 'v': 1})),\n",
       " (('Gold-Forge Garrison',), Counter({'d': 1, 'f': 1, 'g': 3, 'l': 1})),\n",
       " (('Sandals of Abdallah',), Counter({'b': 1, 'd': 2, 'f': 1, 'h': 1, 'l': 3})),\n",
       " (('Wall of Caltrops',), Counter({'c': 1, 'f': 1, 'l': 3, 'p': 1, 'w': 1})),\n",
       " (('Wall of Putrid Flesh',),\n",
       "  Counter({'d': 1, 'f': 2, 'h': 1, 'l': 3, 'p': 1, 'w': 1})),\n",
       " (('Niall Silvain',), Counter({'l': 3, 'v': 1})),\n",
       " (('El-Hajjâj',), Counter({'h': 1, 'j': 3, 'l': 1, 'â': 1})),\n",
       " (('Juniper Order Druid',), Counter({'d': 3, 'j': 1, 'p': 1})),\n",
       " (('Kjeldoran Skyknight',),\n",
       "  Counter({'d': 1, 'g': 1, 'h': 1, 'j': 1, 'k': 3, 'l': 1, 'y': 1})),\n",
       " (('Maddening Wind',), Counter({'d': 3, 'g': 1, 'm': 1, 'w': 1})),\n",
       " (('Staff of the Ages',), Counter({'f': 3, 'g': 1, 'h': 1})),\n",
       " (('Wall of Lava',), Counter({'f': 1, 'l': 3, 'v': 1, 'w': 1})),\n",
       " (('Wall of Pine Needles',),\n",
       "  Counter({'d': 1, 'f': 1, 'l': 3, 'p': 1, 'w': 1})),\n",
       " (('Wall of Shields',), Counter({'d': 1, 'f': 1, 'h': 1, 'l': 3, 'w': 1})),\n",
       " (('Puppet Master',), Counter({'m': 1, 'p': 3})),\n",
       " (('Hazduhr the Abbot',), Counter({'b': 2, 'd': 1, 'h': 3, 'z': 1})),\n",
       " (('Koskun Keep',), Counter({'k': 3, 'p': 1})),\n",
       " (('Mammoth Harness',), Counter({'h': 2, 'm': 3})),\n",
       " (('Fyndhorn Druid',), Counter({'d': 3, 'f': 1, 'h': 1, 'y': 1})),\n",
       " ((\"Lim-Dûl's Paladin\",),\n",
       "  Counter({\"'\": 1, 'd': 2, 'l': 3, 'm': 1, 'p': 1, 'û': 1})),\n",
       " (('Sheltered Valley',), Counter({'d': 1, 'h': 1, 'l': 3, 'v': 1, 'y': 1})),\n",
       " (('Barbed-Back Wurm',),\n",
       "  Counter({'b': 3, 'c': 1, 'd': 1, 'k': 1, 'm': 1, 'w': 1})),\n",
       " (('Flame Elemental',), Counter({'f': 1, 'l': 3, 'm': 2})),\n",
       " (('Jungle Troll',), Counter({'g': 1, 'j': 1, 'l': 3})),\n",
       " (('Leering Gargoyle',), Counter({'g': 3, 'l': 2, 'y': 1})),\n",
       " (('Prismatic Circle',), Counter({'c': 3, 'l': 1, 'm': 1, 'p': 1})),\n",
       " (('Unfulfilled Desires',), Counter({'d': 2, 'f': 2, 'l': 3})),\n",
       " (('Brood of Cockroaches',),\n",
       "  Counter({'b': 1, 'c': 3, 'd': 1, 'f': 1, 'h': 1, 'k': 1})),\n",
       " (('Bull Elephant',), Counter({'b': 1, 'h': 1, 'l': 3, 'p': 1})),\n",
       " (('Diamond Kaleidoscope',),\n",
       "  Counter({'c': 1, 'd': 3, 'k': 1, 'l': 1, 'm': 1, 'p': 1})),\n",
       " (('Hearth Charm',), Counter({'c': 1, 'h': 3, 'm': 1})),\n",
       " (('Juju Bubble',), Counter({'b': 3, 'j': 2, 'l': 1})),\n",
       " (('Keeper of Kookus',), Counter({'f': 1, 'k': 3, 'p': 1})),\n",
       " (('Lead-Belly Chimera',),\n",
       "  Counter({'b': 1, 'c': 1, 'd': 1, 'h': 1, 'l': 3, 'm': 1, 'y': 1})),\n",
       " (('Magma Mine',), Counter({'g': 1, 'm': 3})),\n",
       " (('Pygmy Hippo',), Counter({'g': 1, 'h': 1, 'm': 1, 'p': 3, 'y': 2})),\n",
       " (('Raging Gorilla',), Counter({'g': 3, 'l': 2})),\n",
       " (('Undiscovered Paradise',), Counter({'c': 1, 'd': 3, 'p': 1, 'v': 1})),\n",
       " (('Wall of Brambles',), Counter({'b': 2, 'f': 1, 'l': 3, 'm': 1, 'w': 1})),\n",
       " (('Capricious Sorcerer',), Counter({'c': 3, 'p': 1})),\n",
       " (('Plant Elemental',), Counter({'l': 3, 'm': 1, 'p': 1})),\n",
       " (('Raging Cougar',), Counter({'c': 1, 'g': 3})),\n",
       " (('Skeletal Crocodile',), Counter({'c': 2, 'd': 1, 'k': 1, 'l': 3})),\n",
       " (('Fallen Angel Avatar',), Counter({'f': 1, 'g': 1, 'l': 3, 'v': 1})),\n",
       " (('Phage the Untouchable Avatar',),\n",
       "  Counter({'b': 1, 'c': 1, 'g': 1, 'h': 3, 'l': 1, 'p': 1, 'v': 1})),\n",
       " (('Lyzolda, the Blood Witch Avatar',),\n",
       "  Counter({',': 1,\n",
       "           'b': 1,\n",
       "           'c': 1,\n",
       "           'd': 2,\n",
       "           'h': 2,\n",
       "           'l': 3,\n",
       "           'v': 1,\n",
       "           'w': 1,\n",
       "           'y': 1,\n",
       "           'z': 1})),\n",
       " (('Momir Vig, Simic Visionary Avatar',),\n",
       "  Counter({',': 1, 'c': 1, 'g': 1, 'm': 3, 'v': 3, 'y': 1})),\n",
       " (('Jhoira of the Ghitu Avatar',),\n",
       "  Counter({'f': 1, 'g': 1, 'h': 3, 'j': 1, 'v': 1})),\n",
       " (('Squee, Goblin Nabob Avatar',),\n",
       "  Counter({',': 1, 'b': 3, 'g': 1, 'l': 1, 'q': 1, 'v': 1})),\n",
       " (('Dakkon Blackblade Avatar',),\n",
       "  Counter({'b': 2, 'c': 1, 'd': 2, 'k': 3, 'l': 2, 'v': 1})),\n",
       " (('Ashling, the Extinguisher Avatar',),\n",
       "  Counter({',': 1, 'g': 2, 'h': 3, 'l': 1, 'v': 1, 'x': 1})),\n",
       " (('Kresh the Bloodbraided Avatar',),\n",
       "  Counter({'b': 2, 'd': 3, 'h': 2, 'k': 1, 'l': 1, 'v': 1})),\n",
       " (('Eladamri, Lord of Leaves Avatar',),\n",
       "  Counter({',': 1, 'd': 2, 'f': 1, 'l': 3, 'm': 1, 'v': 2})),\n",
       " (('Tradewind Rider Avatar',), Counter({'d': 3, 'v': 1, 'w': 1})),\n",
       " (('Bubble Matrix',), Counter({'b': 3, 'l': 1, 'm': 1, 'x': 1})),\n",
       " (('Goblin Bomb',), Counter({'b': 3, 'g': 1, 'l': 1, 'm': 1})),\n",
       " (('Liege of the Hollows',),\n",
       "  Counter({'f': 1, 'g': 1, 'h': 2, 'l': 3, 'w': 1})),\n",
       " (('Vodalian Illusionist',), Counter({'d': 1, 'l': 3, 'v': 1})),\n",
       " (('Well of Knowledge',),\n",
       "  Counter({'d': 1, 'f': 1, 'g': 1, 'k': 1, 'l': 3, 'w': 2})),\n",
       " (('Circle of Protection: Shadow',),\n",
       "  Counter({':': 1, 'c': 3, 'd': 1, 'f': 1, 'h': 1, 'l': 1, 'p': 1, 'w': 1})),\n",
       " (('Eladamri, Lord of Leaves',),\n",
       "  Counter({',': 1, 'd': 2, 'f': 1, 'l': 3, 'm': 1, 'v': 1})),\n",
       " (('Brush with Death',), Counter({'b': 1, 'd': 1, 'h': 3, 'w': 1})),\n",
       " (('Mask of the Mimic',), Counter({'c': 1, 'f': 1, 'h': 1, 'k': 1, 'm': 3})),\n",
       " (('Convalescence',), Counter({'c': 3, 'l': 1, 'v': 1})),\n",
       " (('Scare Tactics',), Counter({'c': 3})),\n",
       " (('Dizzying Gaze',), Counter({'d': 1, 'g': 2, 'y': 1, 'z': 3})),\n",
       " (('Knight of the Hokey Pokey',),\n",
       "  Counter({'f': 1, 'g': 1, 'h': 3, 'k': 3, 'p': 1, 'y': 2})),\n",
       " (('Checks and Balances',),\n",
       "  Counter({'b': 1, 'c': 3, 'd': 1, 'h': 1, 'k': 1, 'l': 1})),\n",
       " (('Deadhead',), Counter({'d': 3, 'h': 1})),\n",
       " (('Burning Cinder Fury of Crimson Chaos Fire',),\n",
       "  Counter({'b': 1, 'c': 3, 'd': 1, 'f': 3, 'g': 1, 'h': 1, 'm': 1, 'y': 1})),\n",
       " (('Landfill',), Counter({'d': 1, 'f': 1, 'l': 3})),\n",
       " (('The Ultimate Nightmare of Wizards of the Coast® Customer Service',),\n",
       "  Counter({'c': 3,\n",
       "           'd': 1,\n",
       "           'f': 2,\n",
       "           'g': 1,\n",
       "           'h': 3,\n",
       "           'l': 1,\n",
       "           'm': 3,\n",
       "           'v': 1,\n",
       "           'w': 1,\n",
       "           'z': 1,\n",
       "           '®': 1})),\n",
       " (('Cardboard Carapace',), Counter({'b': 1, 'c': 3, 'd': 2, 'p': 1})),\n",
       " (('Hungry Hungry Heifer',), Counter({'f': 1, 'g': 2, 'h': 3, 'y': 2})),\n",
       " (('Mine, Mine, Mine!',), Counter({'!': 1, ',': 2, 'm': 3})),\n",
       " (('Timmy, Power Gamer',),\n",
       "  Counter({',': 1, 'g': 1, 'm': 3, 'p': 1, 'w': 1, 'y': 1})),\n",
       " ((\"Urza's Science Fair Project\",),\n",
       "  Counter({\"'\": 1, 'c': 3, 'f': 1, 'j': 1, 'p': 1, 'z': 1})),\n",
       " (('Gilded Drake',), Counter({'d': 3, 'g': 1, 'k': 1, 'l': 1})),\n",
       " (('Lingering Mirage',), Counter({'g': 3, 'l': 1, 'm': 1})),\n",
       " (('Pendrell Flux',), Counter({'d': 1, 'f': 1, 'l': 3, 'p': 1, 'x': 1})),\n",
       " (('Discordant Dirge',), Counter({'c': 1, 'd': 3, 'g': 1})),\n",
       " (('Goblin War Buggy',), Counter({'b': 2, 'g': 3, 'l': 1, 'w': 1, 'y': 1})),\n",
       " (('Hidden Herd',), Counter({'d': 3, 'h': 2})),\n",
       " (('Hidden Predators',), Counter({'d': 3, 'h': 1, 'p': 1})),\n",
       " (('Hidden Spider',), Counter({'d': 3, 'h': 1, 'p': 1})),\n",
       " (('Lull',), Counter({'l': 3})),\n",
       " (('Midsummer Revel',), Counter({'d': 1, 'l': 1, 'm': 3, 'v': 1})),\n",
       " (('Planar Collapse',), Counter({'c': 1, 'l': 3, 'p': 2})),\n",
       " (('Bouncing Beebles',), Counter({'b': 3, 'c': 1, 'g': 1, 'l': 1})),\n",
       " (('Second Chance',), Counter({'c': 3, 'd': 1, 'h': 1})),\n",
       " (('Harmonic Convergence',),\n",
       "  Counter({'c': 3, 'g': 1, 'h': 1, 'm': 1, 'v': 1})),\n",
       " (('Huang Zhong, Shu General',),\n",
       "  Counter({',': 1, 'g': 3, 'h': 3, 'l': 1, 'z': 1})),\n",
       " (('Pang Tong, \"Young Phoenix\"',),\n",
       "  Counter({'\"': 2, ',': 1, 'g': 3, 'h': 1, 'p': 2, 'x': 1, 'y': 1})),\n",
       " (('Zhao Zilong, Tiger General',),\n",
       "  Counter({',': 1, 'g': 3, 'h': 1, 'l': 2, 'z': 2})),\n",
       " (('Corrupt Court Official',), Counter({'c': 3, 'f': 2, 'l': 1, 'p': 1})),\n",
       " (('Zhang Liao, Hero of Hefei',),\n",
       "  Counter({',': 1, 'f': 2, 'g': 1, 'h': 3, 'l': 1, 'z': 1})),\n",
       " (('Yellow Scarves Cavalry',),\n",
       "  Counter({'c': 2, 'l': 3, 'v': 2, 'w': 1, 'y': 2})),\n",
       " (('Yellow Scarves General',),\n",
       "  Counter({'c': 1, 'g': 1, 'l': 3, 'v': 1, 'w': 1, 'y': 1})),\n",
       " (('Wielding the Green Dragon',),\n",
       "  Counter({'d': 2, 'g': 3, 'h': 1, 'l': 1, 'w': 1})),\n",
       " (('Fend Off',), Counter({'d': 1, 'f': 3})),\n",
       " (('Wall of Glare',), Counter({'f': 1, 'g': 1, 'l': 3, 'w': 1})),\n",
       " (('Rayne, Academy Chancellor',),\n",
       "  Counter({',': 1, 'c': 3, 'd': 1, 'h': 1, 'l': 2, 'm': 1, 'y': 2})),\n",
       " (('Bubbling Muck',),\n",
       "  Counter({'b': 3, 'c': 1, 'g': 1, 'k': 1, 'l': 1, 'm': 1})),\n",
       " (('Momentum',), Counter({'m': 3})),\n",
       " (('Alabaster Wall',), Counter({'b': 1, 'l': 3, 'w': 1})),\n",
       " (('Ramosian Commander',), Counter({'c': 1, 'd': 1, 'm': 3})),\n",
       " (('Balloon Peddler',), Counter({'b': 1, 'd': 2, 'l': 3, 'p': 1})),\n",
       " (('Diplomatic Immunity',),\n",
       "  Counter({'c': 1, 'd': 1, 'l': 1, 'm': 3, 'p': 1, 'y': 1})),\n",
       " (('Indentured Djinn',), Counter({'d': 3, 'j': 1})),\n",
       " (('Bog Smugglers',), Counter({'b': 1, 'g': 3, 'l': 1, 'm': 1})),\n",
       " (('Cackling Witch',),\n",
       "  Counter({'c': 3, 'g': 1, 'h': 1, 'k': 1, 'l': 1, 'w': 1})),\n",
       " (('Flailing Soldier',), Counter({'d': 1, 'f': 1, 'g': 1, 'l': 3})),\n",
       " (('Hammer Mage',), Counter({'g': 1, 'h': 1, 'm': 3})),\n",
       " ((\"Puppet's Verdict\",), Counter({\"'\": 1, 'c': 1, 'd': 1, 'p': 3, 'v': 1})),\n",
       " (('Uphill Battle',), Counter({'b': 1, 'h': 1, 'l': 3, 'p': 1})),\n",
       " (('Wild Jhovall',),\n",
       "  Counter({'d': 1, 'h': 1, 'j': 1, 'l': 3, 'v': 1, 'w': 1})),\n",
       " (('Deepwood Drummer',), Counter({'d': 3, 'm': 2, 'p': 1, 'w': 1})),\n",
       " (('Deepwood Elder',), Counter({'d': 3, 'l': 1, 'p': 1, 'w': 1})),\n",
       " (('Assembly Hall',), Counter({'b': 1, 'h': 1, 'l': 3, 'm': 1, 'y': 1})),\n",
       " (('Plated Rootwalla',), Counter({'d': 1, 'l': 3, 'p': 1, 'w': 1})),\n",
       " (('Village Elder',), Counter({'d': 1, 'g': 1, 'l': 3, 'v': 1})),\n",
       " ((\"Sivvi's Valor\",), Counter({\"'\": 1, 'l': 1, 'v': 3})),\n",
       " (('Spiteful Bully',), Counter({'b': 1, 'f': 1, 'l': 3, 'p': 1, 'y': 1})),\n",
       " (('Volrath the Fallen',), Counter({'f': 1, 'h': 2, 'l': 3, 'v': 1})),\n",
       " (('Flowstone Wall',), Counter({'f': 1, 'l': 3, 'w': 2})),\n",
       " (('Laccolith Whelp',), Counter({'c': 2, 'h': 2, 'l': 3, 'p': 1, 'w': 1})),\n",
       " (('Mogg Salvage',), Counter({'g': 3, 'l': 1, 'm': 1, 'v': 1})),\n",
       " (('Shrieking Mogg',), Counter({'g': 3, 'h': 1, 'k': 1, 'm': 1})),\n",
       " (('Skyshroud Behemoth',),\n",
       "  Counter({'b': 1, 'd': 1, 'h': 3, 'k': 1, 'm': 1, 'y': 1})),\n",
       " (('Wild Mammoth',), Counter({'d': 1, 'h': 1, 'l': 1, 'm': 3, 'w': 1})),\n",
       " (('Willow Elf',), Counter({'f': 1, 'l': 3, 'w': 2})),\n",
       " (('Celestial Convergence',), Counter({'c': 3, 'g': 1, 'l': 2, 'v': 1})),\n",
       " (('Rhystic Circle',), Counter({'c': 3, 'h': 1, 'l': 1, 'y': 1})),\n",
       " (('Quicksilver Wall',),\n",
       "  Counter({'c': 1, 'k': 1, 'l': 3, 'q': 1, 'v': 1, 'w': 1})),\n",
       " (('Coffin Puppets',), Counter({'c': 1, 'f': 2, 'p': 3})),\n",
       " ((\"Latulla's Orders\",), Counter({\"'\": 1, 'd': 1, 'l': 3})),\n",
       " (('Spur Grappler',), Counter({'g': 1, 'l': 1, 'p': 3})),\n",
       " (('Well of Life',), Counter({'f': 2, 'l': 3, 'w': 1})),\n",
       " (('Blizzard Elemental',), Counter({'b': 1, 'd': 1, 'l': 3, 'm': 1, 'z': 2})),\n",
       " (('Glimmering Angel',), Counter({'g': 3, 'l': 2, 'm': 2})),\n",
       " (('Pledge of Loyalty',),\n",
       "  Counter({'d': 1, 'f': 1, 'g': 1, 'l': 3, 'p': 1, 'y': 2})),\n",
       " (('Sunscape Apprentice',), Counter({'c': 2, 'p': 3})),\n",
       " (('Stormscape Apprentice',), Counter({'c': 2, 'm': 1, 'p': 3})),\n",
       " (('Nightscape Apprentice',), Counter({'c': 2, 'g': 1, 'h': 1, 'p': 3})),\n",
       " (('Thunderscape Apprentice',), Counter({'c': 2, 'd': 1, 'h': 1, 'p': 3})),\n",
       " (('Llanowar Cavalry',), Counter({'c': 1, 'l': 3, 'v': 1, 'w': 1, 'y': 1})),\n",
       " (('Llanowar Elite',), Counter({'l': 3, 'w': 1})),\n",
       " (('Pulse of Llanowar',), Counter({'f': 1, 'l': 3, 'p': 1, 'w': 1})),\n",
       " (('Horned Cheetah',), Counter({'c': 1, 'd': 1, 'h': 3})),\n",
       " (('Alloy Golem',), Counter({'g': 1, 'l': 3, 'm': 1, 'y': 1})),\n",
       " ((\"Eladamri's Call\",), Counter({\"'\": 1, 'c': 1, 'd': 1, 'l': 3, 'm': 1})),\n",
       " (('Phyrexian Tyranny',), Counter({'h': 1, 'p': 1, 'x': 1, 'y': 3})),\n",
       " (('Steel Leaf Paladin',), Counter({'d': 1, 'f': 1, 'l': 3, 'p': 1})),\n",
       " ((\"Crosis's Catacombs\",), Counter({\"'\": 1, 'b': 1, 'c': 3, 'm': 1})),\n",
       " (('Tahngarth, Talruum Hero',),\n",
       "  Counter({',': 1, 'g': 1, 'h': 3, 'l': 1, 'm': 1})),\n",
       " (('Skyship Weatherlight',),\n",
       "  Counter({'g': 1, 'h': 3, 'k': 1, 'l': 1, 'p': 1, 'w': 1, 'y': 1})),\n",
       " (('Shield Wall',), Counter({'d': 1, 'h': 1, 'l': 3, 'w': 1})),\n",
       " (('Benthic Behemoth',), Counter({'b': 2, 'c': 1, 'h': 3, 'm': 1})),\n",
       " (('Elder Druid',), Counter({'d': 3, 'l': 1})),\n",
       " (('Seeker of Skybreak',), Counter({'b': 1, 'f': 1, 'k': 3, 'y': 1})),\n",
       " (('Shanodin Dryads',), Counter({'d': 3, 'h': 1, 'y': 1})),\n",
       " (('Thoughtleech',), Counter({'c': 1, 'g': 1, 'h': 3, 'l': 1})),\n",
       " ((\"Jandor's Saddlebags\",),\n",
       "  Counter({\"'\": 1, 'b': 1, 'd': 3, 'g': 1, 'j': 1, 'l': 1})),\n",
       " (('Shield of Duty and Reason',),\n",
       "  Counter({'d': 3, 'f': 1, 'h': 1, 'l': 1, 'y': 1})),\n",
       " (('Shimmering Mirage',), Counter({'g': 2, 'h': 1, 'm': 3})),\n",
       " (('Dwarven Landslide',), Counter({'d': 3, 'l': 2, 'v': 1, 'w': 1})),\n",
       " (('Penumbra Bobcat',), Counter({'b': 3, 'c': 1, 'm': 1, 'p': 1})),\n",
       " (('Dedicated Martyr',), Counter({'c': 1, 'd': 3, 'm': 1, 'y': 1})),\n",
       " (('Hallowed Healer',), Counter({'d': 1, 'h': 2, 'l': 3, 'w': 1})),\n",
       " (('Pulsating Illusion',), Counter({'g': 1, 'l': 3, 'p': 1})),\n",
       " (('Childhood Horror',), Counter({'c': 1, 'd': 2, 'h': 3, 'l': 1})),\n",
       " (('Face of Fear',), Counter({'c': 1, 'f': 3})),\n",
       " (('Chance Encounter',), Counter({'c': 3, 'h': 1})),\n",
       " (('Metamorphic Wurm',), Counter({'c': 1, 'h': 1, 'm': 3, 'p': 1, 'w': 1})),\n",
       " (('Springing Tiger',), Counter({'g': 3, 'p': 1})),\n",
       " (('Still Life',), Counter({'f': 1, 'l': 3})),\n",
       " (('Sandstone Deadfall',), Counter({'d': 3, 'f': 1, 'l': 2})),\n",
       " (('Sungrass Egg',), Counter({'g': 3})),\n",
       " (('Balshan Collaborator',), Counter({'b': 2, 'c': 1, 'h': 1, 'l': 3})),\n",
       " (('Cephalid Illusionist',),\n",
       "  Counter({'c': 1, 'd': 1, 'h': 1, 'l': 3, 'p': 1})),\n",
       " (('Llawan, Cephalid Empress',),\n",
       "  Counter({',': 1, 'c': 1, 'd': 1, 'h': 1, 'l': 3, 'm': 1, 'p': 2, 'w': 1})),\n",
       " (('Dawn of the Dead',), Counter({'d': 3, 'f': 1, 'h': 1, 'w': 1})),\n",
       " (('Gravegouger',), Counter({'g': 3, 'v': 1})),\n",
       " (('Crackling Club',), Counter({'b': 1, 'c': 3, 'g': 1, 'k': 1, 'l': 2})),\n",
       " (('Flash of Defiance',), Counter({'c': 1, 'd': 1, 'f': 3, 'h': 1, 'l': 1})),\n",
       " (('Barbarian Bully',), Counter({'b': 3, 'l': 2, 'y': 1})),\n",
       " (('Fledgling Dragon',), Counter({'d': 2, 'f': 1, 'g': 3, 'l': 2})),\n",
       " (('Lightning Surge',), Counter({'g': 3, 'h': 1, 'l': 1})),\n",
       " (('Ironshell Beetle',), Counter({'b': 1, 'h': 1, 'l': 3})),\n",
       " (('Circle of Solace',), Counter({'c': 3, 'f': 1, 'l': 2})),\n",
       " (('Convalescent Care',), Counter({'c': 3, 'l': 1, 'v': 1})),\n",
       " (('Daunting Defender',), Counter({'d': 3, 'f': 1, 'g': 1})),\n",
       " (('Mistform Dreamer',), Counter({'d': 1, 'f': 1, 'm': 3})),\n",
       " (('Mistform Mask',), Counter({'f': 1, 'k': 1, 'm': 3})),\n",
       " (('Mistform Mutant',), Counter({'f': 1, 'm': 3})),\n",
       " (('Psychic Trance',), Counter({'c': 3, 'h': 1, 'p': 1, 'y': 1})),\n",
       " (('Accursed Centaur',), Counter({'c': 3, 'd': 1})),\n",
       " (('Wave of Indifference',),\n",
       "  Counter({'c': 1, 'd': 1, 'f': 3, 'v': 1, 'w': 1})),\n",
       " (('Fade from Memory',), Counter({'d': 1, 'f': 2, 'm': 3, 'y': 1})),\n",
       " (('Fallen Cleric',), Counter({'c': 2, 'f': 1, 'l': 3})),\n",
       " (('Gangrenous Goliath',), Counter({'g': 3, 'h': 1, 'l': 1})),\n",
       " (('Undead Gladiator',), Counter({'d': 3, 'g': 1, 'l': 1})),\n",
       " ((\"Lavamancer's Skill\",),\n",
       "  Counter({\"'\": 1, 'c': 1, 'k': 1, 'l': 3, 'm': 1, 'v': 1})),\n",
       " (('Snapping Thragg',), Counter({'g': 3, 'h': 1, 'p': 2})),\n",
       " (('Animal Magnetism',), Counter({'g': 1, 'l': 1, 'm': 3})),\n",
       " ((\"Kamahl's Summons\",), Counter({\"'\": 1, 'h': 1, 'k': 1, 'l': 1, 'm': 3})),\n",
       " (('Cloudreach Cavalry',),\n",
       "  Counter({'c': 3, 'd': 1, 'h': 1, 'l': 2, 'v': 1, 'y': 1})),\n",
       " (('Defender of the Order',), Counter({'d': 3, 'f': 2, 'h': 1})),\n",
       " (('Dripping Dead',), Counter({'d': 3, 'g': 1, 'p': 2})),\n",
       " (('Gempalm Polluter',), Counter({'g': 1, 'l': 3, 'm': 2, 'p': 2})),\n",
       " (('Glowering Rogon',), Counter({'g': 3, 'l': 1, 'w': 1})),\n",
       " (('Force Bubble',), Counter({'b': 3, 'c': 1, 'f': 1, 'l': 1})),\n",
       " (('Guilty Conscience',), Counter({'c': 3, 'g': 1, 'l': 1, 'y': 1})),\n",
       " (('Parallel Thoughts',), Counter({'g': 1, 'h': 2, 'l': 3, 'p': 1})),\n",
       " (('Thundercloud Elemental',),\n",
       "  Counter({'c': 1, 'd': 2, 'h': 1, 'l': 3, 'm': 1})),\n",
       " (('Circle of Protection: Blue',),\n",
       "  Counter({':': 1, 'b': 1, 'c': 3, 'f': 1, 'l': 2, 'p': 1})),\n",
       " (('Circle of Protection: Green',),\n",
       "  Counter({':': 1, 'c': 3, 'f': 1, 'g': 1, 'l': 1, 'p': 1})),\n",
       " (('Circle of Protection: White',),\n",
       "  Counter({':': 1, 'c': 3, 'f': 1, 'h': 1, 'l': 1, 'p': 1, 'w': 1})),\n",
       " (('Call of the Wild',),\n",
       "  Counter({'c': 1, 'd': 1, 'f': 1, 'h': 1, 'l': 3, 'w': 1})),\n",
       " (('Dingus Egg',), Counter({'d': 1, 'g': 3})),\n",
       " (('Inertia Bubble',), Counter({'b': 3, 'l': 1})),\n",
       " (('Quicksilver Elemental',),\n",
       "  Counter({'c': 1, 'k': 1, 'l': 3, 'm': 1, 'q': 1, 'v': 1})),\n",
       " (('Slith Bloodletter',), Counter({'b': 1, 'd': 1, 'h': 1, 'l': 3})),\n",
       " (('Wall of Blood',), Counter({'b': 1, 'd': 1, 'f': 1, 'l': 3, 'w': 1})),\n",
       " (('Tel-Jilad Exile',), Counter({'d': 1, 'j': 1, 'l': 3, 'x': 1})),\n",
       " (('Clockwork Vorrac',), Counter({'c': 3, 'k': 2, 'l': 1, 'v': 1, 'w': 1})),\n",
       " (('Culling Scales',), Counter({'c': 2, 'g': 1, 'l': 3})),\n",
       " (('Dead-Iron Sledge',), Counter({'d': 3, 'g': 1, 'l': 1})),\n",
       " (('Lifespark Spellbomb',),\n",
       "  Counter({'b': 2, 'f': 1, 'k': 1, 'l': 3, 'm': 1, 'p': 2})),\n",
       " (('Scythe of the Wretched',),\n",
       "  Counter({'c': 2, 'd': 1, 'f': 1, 'h': 3, 'w': 1, 'y': 1})),\n",
       " (('Spellweaver Helix',),\n",
       "  Counter({'h': 1, 'l': 3, 'p': 1, 'v': 1, 'w': 1, 'x': 1})),\n",
       " (('Sunbeam Spellbomb',), Counter({'b': 3, 'l': 2, 'm': 2, 'p': 1})),\n",
       " (('Tel-Jilad Stylus',), Counter({'d': 1, 'j': 1, 'l': 3, 'y': 1})),\n",
       " (('Blinkmoth Well',),\n",
       "  Counter({'b': 1, 'h': 1, 'k': 1, 'l': 3, 'm': 1, 'w': 1})),\n",
       " (('Steelshaper Apprentice',), Counter({'c': 1, 'h': 1, 'l': 1, 'p': 3})),\n",
       " (('Krark-Clan Stoker',), Counter({'c': 1, 'k': 3, 'l': 1})),\n",
       " (('Tel-Jilad Wolf',), Counter({'d': 1, 'f': 1, 'j': 1, 'l': 3, 'w': 1})),\n",
       " (('Voltaic Construct',), Counter({'c': 3, 'l': 1, 'v': 1})),\n",
       " (('Advanced Hoverguard',), Counter({'c': 1, 'd': 3, 'g': 1, 'h': 1, 'v': 2})),\n",
       " (('Plasma Elemental',), Counter({'l': 3, 'm': 2, 'p': 1})),\n",
       " (('Tel-Jilad Lifebreather',),\n",
       "  Counter({'b': 1, 'd': 1, 'f': 1, 'h': 1, 'j': 1, 'l': 3})),\n",
       " (('Chimeric Coils',), Counter({'c': 3, 'h': 1, 'l': 1, 'm': 1})),\n",
       " (('Krark-Clan Ironworks',), Counter({'c': 1, 'k': 3, 'l': 1, 'w': 1})),\n",
       " (('Sawtooth Thresher',), Counter({'h': 3, 'w': 1})),\n",
       " (('Call to Glory',), Counter({'c': 1, 'g': 1, 'l': 3, 'y': 1})),\n",
       " (('Cleanfall',), Counter({'c': 1, 'f': 1, 'l': 3})),\n",
       " (('Indomitable Will',), Counter({'b': 1, 'd': 1, 'l': 3, 'm': 1, 'w': 1})),\n",
       " (('Soratami Mirror-Mage',), Counter({'g': 1, 'm': 3})),\n",
       " (('Teller of Tales',), Counter({'f': 1, 'l': 3})),\n",
       " (('He Who Hungers',), Counter({'g': 1, 'h': 3, 'w': 1})),\n",
       " (('Soulless Revival',), Counter({'l': 3, 'v': 2})),\n",
       " (('Swallowing Plague',), Counter({'g': 2, 'l': 3, 'p': 1, 'w': 2})),\n",
       " (('Kumano, Master Yamabushi',),\n",
       "  Counter({',': 1, 'b': 1, 'h': 1, 'k': 1, 'm': 3, 'y': 1})),\n",
       " (('Dosan the Falling Leaf',),\n",
       "  Counter({'d': 1, 'f': 2, 'g': 1, 'h': 1, 'l': 3})),\n",
       " (('Orochi Leafcaller',), Counter({'c': 2, 'f': 1, 'h': 1, 'l': 3})),\n",
       " (('Sachi, Daughter of Seshiro',),\n",
       "  Counter({',': 1, 'c': 1, 'd': 1, 'f': 1, 'g': 1, 'h': 3})),\n",
       " (('Shisato, Whispering Hunter',),\n",
       "  Counter({',': 1, 'g': 1, 'h': 3, 'p': 1, 'w': 1})),\n",
       " (('Shell of the Last Kappa',),\n",
       "  Counter({'f': 1, 'h': 2, 'k': 1, 'l': 3, 'p': 2})),\n",
       " (('Hall of the Bandit Lord',),\n",
       "  Counter({'b': 1, 'd': 2, 'f': 1, 'h': 2, 'l': 3})),\n",
       " (('Shinka, the Bloodsoaked Keep',),\n",
       "  Counter({',': 1, 'b': 1, 'd': 2, 'h': 2, 'k': 3, 'l': 1, 'p': 1})),\n",
       " ((\"Shizo, Death's Storehouse\",),\n",
       "  Counter({\"'\": 1, ',': 1, 'd': 1, 'h': 3, 'z': 1})),\n",
       " (('Circle of Protection: Art',),\n",
       "  Counter({':': 1, 'c': 3, 'f': 1, 'l': 1, 'p': 1})),\n",
       " (('Collector Protector',), Counter({'c': 3, 'l': 2, 'p': 1})),\n",
       " (('Little Girl',), Counter({'g': 1, 'l': 3})),\n",
       " (('Bursting Beebles',), Counter({'b': 3, 'g': 1, 'l': 1})),\n",
       " (('Richard Garfield, Ph.D.',),\n",
       "  Counter({',': 1, 'c': 1, 'd': 3, 'f': 1, 'g': 1, 'h': 2, 'l': 1, 'p': 1})),\n",
       " (('When Fluffy Bunnies Attack',),\n",
       "  Counter({'b': 1, 'c': 1, 'f': 3, 'h': 1, 'k': 1, 'l': 1, 'w': 1, 'y': 1})),\n",
       " ((\"Zzzyxas's Abyss\",), Counter({\"'\": 1, 'b': 1, 'x': 1, 'y': 2, 'z': 3})),\n",
       " (('Monkey Monkey Monkey',), Counter({'k': 3, 'm': 3, 'y': 3})),\n",
       " (('Meddling Kids',), Counter({'d': 3, 'g': 1, 'k': 1, 'l': 1, 'm': 1})),\n",
       " (('Kami of the Honored Dead',),\n",
       "  Counter({'d': 3, 'f': 1, 'h': 2, 'k': 1, 'm': 1})),\n",
       " (('Oyobi, Who Split the Heavens',),\n",
       "  Counter({',': 1, 'b': 1, 'h': 3, 'l': 1, 'p': 1, 'v': 1, 'w': 1, 'y': 1})),\n",
       " (('Kaijin of the Vanishing Touch',),\n",
       "  Counter({'c': 1, 'f': 1, 'g': 1, 'h': 3, 'j': 1, 'k': 1, 'v': 1})),\n",
       " ((\"Minamo's Meddling\",), Counter({\"'\": 1, 'd': 2, 'g': 1, 'l': 1, 'm': 3})),\n",
       " ((\"Tomorrow, Azami's Familiar\",),\n",
       "  Counter({\"'\": 1, ',': 1, 'f': 1, 'l': 1, 'm': 3, 'w': 1, 'z': 1})),\n",
       " (('Call for Blood',), Counter({'b': 1, 'c': 1, 'd': 1, 'f': 1, 'l': 3})),\n",
       " (('Ishi-Ishi, Akki Crackshot',), Counter({',': 1, 'c': 2, 'h': 3, 'k': 3})),\n",
       " (('Loam Dweller',), Counter({'d': 1, 'l': 3, 'm': 1, 'w': 1})),\n",
       " (('Mark of Sakiko',), Counter({'f': 1, 'k': 3, 'm': 1})),\n",
       " (('Sakiko, Mother of Summer',),\n",
       "  Counter({',': 1, 'f': 1, 'h': 1, 'k': 2, 'm': 3})),\n",
       " (('That Which Was Taken',), Counter({'c': 1, 'h': 3, 'k': 1, 'w': 2})),\n",
       " (('Michiko Konda, Truth Seeker',),\n",
       "  Counter({',': 1, 'c': 1, 'd': 1, 'h': 2, 'k': 3, 'm': 1})),\n",
       " (('Kagemaro, First to Suffer',),\n",
       "  Counter({',': 1, 'f': 3, 'g': 1, 'k': 1, 'm': 1})),\n",
       " ((\"Shinen of Fury's Fire\",), Counter({\"'\": 1, 'f': 3, 'h': 1, 'y': 1})),\n",
       " (('Sokenzan Spellblade',),\n",
       "  Counter({'b': 1, 'd': 1, 'k': 1, 'l': 3, 'p': 1, 'z': 1})),\n",
       " (('Fiddlehead Kami',),\n",
       "  Counter({'d': 3, 'f': 1, 'h': 1, 'k': 1, 'l': 1, 'm': 1})),\n",
       " (('Kami of the Tended Garden',),\n",
       "  Counter({'d': 3, 'f': 1, 'g': 1, 'h': 1, 'k': 1, 'm': 1})),\n",
       " (('Circle of Protection: Red',),\n",
       "  Counter({':': 1, 'c': 3, 'd': 1, 'f': 1, 'l': 1, 'p': 1})),\n",
       " (('Giant Cockroach',), Counter({'c': 3, 'g': 1, 'h': 1, 'k': 1})),\n",
       " (('Balduvian Barbarians',), Counter({'b': 3, 'd': 1, 'l': 1, 'v': 1})),\n",
       " (('Summer Bloom',), Counter({'b': 1, 'l': 1, 'm': 3})),\n",
       " (('Dromad Purebred',), Counter({'b': 1, 'd': 3, 'm': 1, 'p': 1})),\n",
       " (('Flight of Fancy',),\n",
       "  Counter({'c': 1, 'f': 3, 'g': 1, 'h': 1, 'l': 1, 'y': 1})),\n",
       " (('Thoughtpicker Witch',),\n",
       "  Counter({'c': 2, 'g': 1, 'h': 3, 'k': 1, 'p': 1, 'w': 1})),\n",
       " (('Flame Fusillade',), Counter({'d': 1, 'f': 2, 'l': 3, 'm': 1})),\n",
       " (('Greater Forgeling',), Counter({'f': 1, 'g': 3, 'l': 1})),\n",
       " (('Rolling Spoil',), Counter({'g': 1, 'l': 3, 'p': 1})),\n",
       " (('Clutch of the Undercity',),\n",
       "  Counter({'c': 3, 'd': 1, 'f': 1, 'h': 2, 'l': 1, 'y': 1})),\n",
       " (('Tolsimir Wolfblood',),\n",
       "  Counter({'b': 1, 'd': 1, 'f': 1, 'l': 3, 'm': 1, 'w': 1})),\n",
       " (('Gaze of the Gorgon',), Counter({'f': 1, 'g': 3, 'h': 1, 'z': 1})),\n",
       " (('Crown of Convergence',),\n",
       "  Counter({'c': 3, 'f': 1, 'g': 1, 'v': 1, 'w': 1})),\n",
       " (('Nullstone Gargoyle',), Counter({'g': 2, 'l': 3, 'y': 1})),\n",
       " (('Absolver Thrull',), Counter({'b': 1, 'h': 1, 'l': 3, 'v': 1})),\n",
       " (('Leyline of Singularity',), Counter({'f': 1, 'g': 1, 'l': 3, 'y': 2})),\n",
       " ((\"Necromancer's Magemark\",),\n",
       "  Counter({\"'\": 1, 'c': 2, 'g': 1, 'k': 1, 'm': 3})),\n",
       " (('Bloodscale Prowler',),\n",
       "  Counter({'b': 1, 'c': 1, 'd': 1, 'l': 3, 'p': 1, 'w': 1})),\n",
       " (('Ghor-Clan Bloodscale',),\n",
       "  Counter({'b': 1, 'c': 2, 'd': 1, 'g': 1, 'h': 1, 'l': 3})),\n",
       " (('Leyline of Lightning',),\n",
       "  Counter({'f': 1, 'g': 2, 'h': 1, 'l': 3, 'y': 1})),\n",
       " (('Parallectric Feedback',),\n",
       "  Counter({'b': 1, 'c': 3, 'd': 1, 'f': 1, 'k': 1, 'l': 2, 'p': 1})),\n",
       " ((\"Beastmaster's Magemark\",),\n",
       "  Counter({\"'\": 1, 'b': 1, 'g': 1, 'k': 1, 'm': 3})),\n",
       " (('Leyline of Lifeforce',), Counter({'c': 1, 'f': 3, 'l': 3, 'y': 1})),\n",
       " (('Souls of the Faultless',), Counter({'f': 2, 'h': 1, 'l': 3})),\n",
       " (('Ulasht, the Hate Seed',), Counter({',': 1, 'd': 1, 'h': 3, 'l': 1})),\n",
       " (('Yore-Tiller Nephilim',),\n",
       "  Counter({'h': 1, 'l': 3, 'm': 1, 'p': 1, 'y': 1})),\n",
       " (('Gruul Guildmage',), Counter({'d': 1, 'g': 3, 'l': 2, 'm': 1})),\n",
       " (('Kill-Suit Cultist',), Counter({'c': 1, 'k': 1, 'l': 3})),\n",
       " (('Might of the Nephilim',),\n",
       "  Counter({'f': 1, 'g': 1, 'h': 3, 'l': 1, 'm': 2, 'p': 1})),\n",
       " (('Gobhobbler Rats',), Counter({'b': 3, 'g': 1, 'h': 1, 'l': 1})),\n",
       " (('Hellhole Rats',), Counter({'h': 2, 'l': 3})),\n",
       " (('Jagged Poppet',), Counter({'d': 1, 'g': 2, 'j': 1, 'p': 3})),\n",
       " (('Lyzolda, the Blood Witch',),\n",
       "  Counter({',': 1,\n",
       "           'b': 1,\n",
       "           'c': 1,\n",
       "           'd': 2,\n",
       "           'h': 2,\n",
       "           'l': 3,\n",
       "           'w': 1,\n",
       "           'y': 1,\n",
       "           'z': 1})),\n",
       " (('Minister of Impediments',), Counter({'d': 1, 'f': 1, 'm': 3, 'p': 1})),\n",
       " (('Bronze Bombshell',), Counter({'b': 3, 'h': 1, 'l': 2, 'm': 1, 'z': 1})),\n",
       " (('Skullmead Cauldron',), Counter({'c': 1, 'd': 2, 'k': 1, 'l': 3, 'm': 1})),\n",
       " (('Legions of Lim-Dûl',),\n",
       "  Counter({'d': 1, 'f': 1, 'g': 1, 'l': 3, 'm': 1, 'û': 1})),\n",
       " (('Glacial Plating',), Counter({'c': 1, 'g': 2, 'l': 3, 'p': 1})),\n",
       " (('Balduvian Fallen',), Counter({'b': 1, 'd': 1, 'f': 1, 'l': 3, 'v': 1})),\n",
       " (('Feast of Flesh',), Counter({'f': 3, 'h': 1, 'l': 1})),\n",
       " (('Rimebound Dead',), Counter({'b': 1, 'd': 3, 'm': 1})),\n",
       " (('Surging Might',), Counter({'g': 3, 'h': 1, 'm': 1})),\n",
       " (('Knight of the Holy Nimbus',),\n",
       "  Counter({'b': 1, 'f': 1, 'g': 1, 'h': 3, 'k': 1, 'l': 1, 'm': 1, 'y': 1})),\n",
       " (('Quilled Sliver',), Counter({'d': 1, 'l': 3, 'q': 1, 'v': 1})),\n",
       " (('Weathered Bodyguards',),\n",
       "  Counter({'b': 1, 'd': 3, 'g': 1, 'h': 1, 'w': 1, 'y': 1})),\n",
       " (('Call to the Netherworld',),\n",
       "  Counter({'c': 1, 'd': 1, 'h': 2, 'l': 3, 'w': 1})),\n",
       " (('Mana Skimmer',), Counter({'k': 1, 'm': 3})),\n",
       " (('Skulking Knight',), Counter({'g': 2, 'h': 1, 'k': 3, 'l': 1})),\n",
       " (('Sudden Death',), Counter({'d': 3, 'h': 1})),\n",
       " (('Aetherflame Wall',), Counter({'f': 1, 'h': 1, 'l': 3, 'm': 1, 'w': 1})),\n",
       " (('Puppeteer',), Counter({'p': 3})),\n",
       " (('Flamecore Elemental',), Counter({'c': 1, 'f': 1, 'l': 3, 'm': 2})),\n",
       " (('Squall Line',), Counter({'l': 3, 'q': 1})),\n",
       " (('Thrill of the Hunt',), Counter({'f': 1, 'h': 3, 'l': 2})),\n",
       " (('Wormwood Dryad',), Counter({'d': 3, 'm': 1, 'w': 2, 'y': 1})),\n",
       " (('Dralnu, Lich Lord',), Counter({',': 1, 'c': 1, 'd': 2, 'h': 1, 'l': 3})),\n",
       " (('Ith, High Arcanist',), Counter({',': 1, 'c': 1, 'g': 1, 'h': 3})),\n",
       " (('Mistform Ultimus',), Counter({'f': 1, 'l': 1, 'm': 3})),\n",
       " (('Soul Collector',), Counter({'c': 2, 'l': 3})),\n",
       " (('Cockatrice',), Counter({'c': 3, 'k': 1})),\n",
       " (('Dodecapod',), Counter({'c': 1, 'd': 3, 'p': 1})),\n",
       " (('Revered Dead',), Counter({'d': 3, 'v': 1})),\n",
       " (('Circle of Affliction',), Counter({'c': 3, 'f': 3, 'l': 2})),\n",
       " (('Lavacore Elemental',), Counter({'c': 1, 'l': 3, 'm': 1, 'v': 1})),\n",
       " (('Sulfur Elemental',), Counter({'f': 1, 'l': 3, 'm': 1})),\n",
       " (('Volcano Hellion',), Counter({'c': 1, 'h': 1, 'l': 3, 'v': 1})),\n",
       " (('Chronomantic Escape',), Counter({'c': 3, 'h': 1, 'm': 1, 'p': 1})),\n",
       " (('Unblinking Bleb',), Counter({'b': 3, 'g': 1, 'k': 1, 'l': 2})),\n",
       " (('Spellweaver Volute',), Counter({'l': 3, 'p': 1, 'v': 2, 'w': 1})),\n",
       " ((\"Minions' Murmurs\",), Counter({\"'\": 1, 'm': 3})),\n",
       " (('Korlash, Heir to Blackblade',),\n",
       "  Counter({',': 1, 'b': 2, 'c': 1, 'd': 1, 'h': 2, 'k': 2, 'l': 3})),\n",
       " (('Emblem of the Warmind',),\n",
       "  Counter({'b': 1, 'd': 1, 'f': 1, 'h': 1, 'l': 1, 'm': 3, 'w': 1})),\n",
       " (('Cyclical Evolution',), Counter({'c': 3, 'l': 3, 'v': 1, 'y': 1})),\n",
       " (('Spellwild Ouphe',), Counter({'d': 1, 'h': 1, 'l': 3, 'p': 2, 'w': 1})),\n",
       " (('Nomad Mythmaker',), Counter({'d': 1, 'h': 1, 'k': 1, 'm': 3, 'y': 1})),\n",
       " (('Lord of the Undead',), Counter({'d': 3, 'f': 1, 'h': 1, 'l': 1})),\n",
       " (('Bloodrock Cyclops',),\n",
       "  Counter({'b': 1, 'c': 3, 'd': 1, 'k': 1, 'l': 2, 'p': 1, 'y': 1})),\n",
       " (('Aggressive Urge',), Counter({'g': 3, 'v': 1})),\n",
       " (('Llanowar Sentinel',), Counter({'l': 3, 'w': 1})),\n",
       " (('Rushwood Dryad',), Counter({'d': 3, 'h': 1, 'w': 1, 'y': 1})),\n",
       " (('Chains of Mephistopheles',),\n",
       "  Counter({'c': 1, 'f': 1, 'h': 3, 'l': 1, 'm': 1, 'p': 2})),\n",
       " (('Basal Thrull',), Counter({'b': 1, 'h': 1, 'l': 3})),\n",
       " (('Crookshank Kobolds',),\n",
       "  Counter({'b': 1, 'c': 1, 'd': 1, 'h': 1, 'k': 3, 'l': 1})),\n",
       " (('Granite Gargoyle',), Counter({'g': 3, 'l': 1, 'y': 1})),\n",
       " (('Spinal Villain',), Counter({'l': 3, 'p': 1, 'v': 1})),\n",
       " (('Gargantuan Gorilla',), Counter({'g': 3, 'l': 2})),\n",
       " (('Wyluli Wolf',), Counter({'f': 1, 'l': 3, 'w': 2, 'y': 1})),\n",
       " (('Dakkon Blackblade',), Counter({'b': 2, 'c': 1, 'd': 2, 'k': 3, 'l': 2})),\n",
       " (('Walking Wall',), Counter({'g': 1, 'k': 1, 'l': 3, 'w': 2})),\n",
       " (('Kinsbaile Balloonist',), Counter({'b': 2, 'k': 1, 'l': 3})),\n",
       " (('Shields of Velis Vel',),\n",
       "  Counter({'d': 1, 'f': 1, 'h': 1, 'l': 3, 'v': 2})),\n",
       " (('Ethereal Whiskergill',),\n",
       "  Counter({'g': 1, 'h': 2, 'k': 1, 'l': 3, 'w': 1})),\n",
       " (('Merrow Commerce',), Counter({'c': 2, 'm': 3, 'w': 1})),\n",
       " (('Protective Bubble',), Counter({'b': 3, 'c': 1, 'l': 1, 'p': 1, 'v': 1})),\n",
       " (('Silvergill Adept',), Counter({'d': 1, 'g': 1, 'l': 3, 'p': 1, 'v': 1})),\n",
       " (('Sentinels of Glen Elendra',), Counter({'d': 1, 'f': 1, 'g': 1, 'l': 3})),\n",
       " (('Silvergill Douser',), Counter({'d': 1, 'g': 1, 'l': 3, 'v': 1})),\n",
       " (('Boggart Harbinger',), Counter({'b': 2, 'g': 3, 'h': 1})),\n",
       " (('Quill-Slinger Boggart',), Counter({'b': 1, 'g': 3, 'l': 3, 'q': 1})),\n",
       " (('Skeletal Changeling',), Counter({'c': 1, 'g': 2, 'h': 1, 'k': 1, 'l': 3})),\n",
       " (('Spiderwig Boggart',), Counter({'b': 1, 'd': 1, 'g': 3, 'p': 1, 'w': 1})),\n",
       " (('Thorntooth Witch',), Counter({'c': 1, 'h': 3, 'w': 1})),\n",
       " (('Boggart Forager',), Counter({'b': 1, 'f': 1, 'g': 3})),\n",
       " (('Caterwauling Boggart',),\n",
       "  Counter({'b': 1, 'c': 1, 'g': 3, 'l': 1, 'w': 1})),\n",
       " (('Flamekin Bladewhirl',),\n",
       "  Counter({'b': 1, 'd': 1, 'f': 1, 'h': 1, 'k': 1, 'l': 3, 'm': 1, 'w': 1})),\n",
       " (('Rebellion of the Flamekin',),\n",
       "  Counter({'b': 1, 'f': 2, 'h': 1, 'k': 1, 'l': 3, 'm': 1})),\n",
       " (('Epic Proportions',), Counter({'c': 1, 'p': 3})),\n",
       " (('Guardian of Cloverdell',),\n",
       "  Counter({'c': 1, 'd': 2, 'f': 1, 'g': 1, 'l': 3, 'v': 1})),\n",
       " (('Woodland Guidance',), Counter({'c': 1, 'd': 3, 'g': 1, 'l': 1, 'w': 1})),\n",
       " (('Sygg, River Guide',), Counter({',': 1, 'd': 1, 'g': 3, 'v': 1, 'y': 1})),\n",
       " (('Gilt-Leaf Palace',), Counter({'c': 1, 'f': 1, 'g': 1, 'l': 3, 'p': 1})),\n",
       " (('Howltooth Hollow',), Counter({'h': 3, 'l': 3, 'w': 2})),\n",
       " (('Shelldock Isle',), Counter({'c': 1, 'd': 1, 'h': 1, 'k': 1, 'l': 3})),\n",
       " ((\"Cenn's Tactician\",), Counter({\"'\": 1, 'c': 3})),\n",
       " (('Weight of Conscience',),\n",
       "  Counter({'c': 3, 'f': 1, 'g': 1, 'h': 1, 'w': 1})),\n",
       " (('Moonglove Changeling',),\n",
       "  Counter({'c': 1, 'g': 3, 'h': 1, 'l': 2, 'm': 1, 'v': 1})),\n",
       " (('Nightshade Schemers',), Counter({'c': 1, 'd': 1, 'g': 1, 'h': 3, 'm': 1})),\n",
       " (('Violet Pall',), Counter({'l': 3, 'p': 1, 'v': 1})),\n",
       " (('Weed-Pruner Poplar',), Counter({'d': 1, 'l': 1, 'p': 3, 'w': 1})),\n",
       " (('Brighthearth Banneret',), Counter({'b': 2, 'g': 1, 'h': 3})),\n",
       " (('Stingmoggie',), Counter({'g': 3, 'm': 1})),\n",
       " (('Game-Trail Changeling',),\n",
       "  Counter({'c': 1, 'g': 3, 'h': 1, 'l': 2, 'm': 1})),\n",
       " (('Wolf-Skull Shaman',),\n",
       "  Counter({'f': 1, 'h': 1, 'k': 1, 'l': 3, 'm': 1, 'w': 1})),\n",
       " (('Cursecatcher',), Counter({'c': 3, 'h': 1})),\n",
       " (('Cragganwick Cremator',),\n",
       "  Counter({'c': 3, 'g': 2, 'k': 1, 'm': 1, 'w': 1})),\n",
       " (('Wildslayer Elves',), Counter({'d': 1, 'l': 3, 'v': 1, 'w': 1, 'y': 1})),\n",
       " (('Gravelgill Axeshark',),\n",
       "  Counter({'g': 2, 'h': 1, 'k': 1, 'l': 3, 'v': 1, 'x': 1})),\n",
       " (('Gravelgill Duo',), Counter({'d': 1, 'g': 2, 'l': 3, 'v': 1})),\n",
       " (('Helm of the Ghastlord',),\n",
       "  Counter({'d': 1, 'f': 1, 'g': 1, 'h': 3, 'l': 2, 'm': 1})),\n",
       " (('Loamdragger Giant',), Counter({'d': 1, 'g': 3, 'l': 1, 'm': 1})),\n",
       " (('Scuzzback Scrapper',), Counter({'b': 1, 'c': 3, 'k': 1, 'p': 2, 'z': 2})),\n",
       " (('Barkshell Blessing',), Counter({'b': 2, 'g': 1, 'h': 1, 'k': 1, 'l': 3})),\n",
       " (('Elvish Hexhunter',), Counter({'h': 3, 'l': 1, 'v': 1, 'x': 1})),\n",
       " (('Grim Poppet',), Counter({'g': 1, 'm': 1, 'p': 3})),\n",
       " (('Illuminated Folio',), Counter({'d': 1, 'f': 1, 'l': 3, 'm': 1})),\n",
       " (('Thornwatch Scarecrow',), Counter({'c': 3, 'h': 2, 'w': 2})),\n",
       " (('Watchwing Scarecrow',), Counter({'c': 3, 'g': 1, 'h': 1, 'w': 3})),\n",
       " (('Wicker Warcrawler',), Counter({'c': 2, 'k': 1, 'l': 1, 'w': 3})),\n",
       " (('Loyal Gyrfalcon',), Counter({'c': 1, 'f': 1, 'g': 1, 'l': 3, 'y': 2})),\n",
       " (('Ashling, the Extinguisher',),\n",
       "  Counter({',': 1, 'g': 2, 'h': 3, 'l': 1, 'x': 1})),\n",
       " (('Chaotic Backlash',), Counter({'b': 1, 'c': 3, 'h': 2, 'k': 1, 'l': 1})),\n",
       " (('Swirling Spriggan',), Counter({'g': 3, 'l': 1, 'p': 1, 'w': 1})),\n",
       " (('Tilling Treefolk',), Counter({'f': 1, 'g': 1, 'k': 1, 'l': 3})),\n",
       " (('Stillmoon Cavalier',), Counter({'c': 1, 'l': 3, 'm': 1, 'v': 1})),\n",
       " (('Noggle Bridgebreaker',),\n",
       "  Counter({'b': 2, 'd': 1, 'g': 3, 'k': 1, 'l': 1})),\n",
       " (('Hag Hedge-Mage',), Counter({'d': 1, 'g': 3, 'h': 2, 'm': 1})),\n",
       " (('Belligerent Hatchling',),\n",
       "  Counter({'b': 1, 'c': 1, 'g': 2, 'h': 2, 'l': 3})),\n",
       " (('Fable of Wolf and Owl',),\n",
       "  Counter({'b': 1, 'd': 1, 'f': 3, 'l': 3, 'w': 2})),\n",
       " (('Shell Skulkin',), Counter({'h': 1, 'k': 2, 'l': 3})),\n",
       " (('Order of the White Shield',),\n",
       "  Counter({'d': 2, 'f': 1, 'h': 3, 'l': 1, 'w': 1})),\n",
       " (('Dreams of the Dead',), Counter({'d': 3, 'f': 1, 'h': 1, 'm': 1})),\n",
       " (('Thought Lash',), Counter({'g': 1, 'h': 3, 'l': 1})),\n",
       " (('Wall of Kelp',), Counter({'f': 1, 'k': 1, 'l': 3, 'p': 1, 'w': 1})),\n",
       " (('Balduvian Dead',), Counter({'b': 1, 'd': 3, 'l': 1, 'v': 1})),\n",
       " (('Dance of the Dead',), Counter({'c': 1, 'd': 3, 'f': 1, 'h': 1})),\n",
       " (('Drift of the Dead',), Counter({'d': 3, 'f': 2, 'h': 1})),\n",
       " (('Kjeldoran Dead',), Counter({'d': 3, 'j': 1, 'k': 1, 'l': 1})),\n",
       " (('Orcish Conscripts',), Counter({'c': 3, 'h': 1, 'p': 1})),\n",
       " (('Feral Thallid',), Counter({'d': 1, 'f': 1, 'h': 1, 'l': 3})),\n",
       " (('Woolly Mammoths',), Counter({'h': 1, 'l': 2, 'm': 3, 'w': 1, 'y': 1})),\n",
       " (('Skull Catapult',), Counter({'c': 1, 'k': 1, 'l': 3, 'p': 1})),\n",
       " (('Puppet Conjurer',), Counter({'c': 1, 'j': 1, 'p': 3})),\n",
       " (('Bloodpyre Elemental',),\n",
       "  Counter({'b': 1, 'd': 1, 'l': 3, 'm': 1, 'p': 1, 'y': 1})),\n",
       " (('Caldera Hellion',), Counter({'c': 1, 'd': 1, 'h': 1, 'l': 3})),\n",
       " ((\"Behemoth's Herald\",),\n",
       "  Counter({\"'\": 1, 'b': 1, 'd': 1, 'h': 3, 'l': 1, 'm': 1})),\n",
       " (('Gift of the Gargantuan',), Counter({'f': 2, 'g': 3, 'h': 1})),\n",
       " (('Skullmulcher',), Counter({'c': 1, 'h': 1, 'k': 1, 'l': 3, 'm': 1})),\n",
       " (('Brilliant Ultimatum',), Counter({'b': 1, 'l': 3, 'm': 2})),\n",
       " (('Hellkite Overlord',), Counter({'d': 1, 'h': 1, 'k': 1, 'l': 3, 'v': 1})),\n",
       " (('Worldly Counsel',), Counter({'c': 1, 'd': 1, 'l': 3, 'w': 1, 'y': 1})),\n",
       " (('Bloodhall Ooze',), Counter({'b': 1, 'd': 1, 'h': 1, 'l': 3, 'z': 1})),\n",
       " (('Aven Mimeomancer',), Counter({'c': 1, 'm': 3, 'v': 1})),\n",
       " (('Shield of the Righteous',),\n",
       "  Counter({'d': 1, 'f': 1, 'g': 1, 'h': 3, 'l': 1})),\n",
       " (('Demonic Dread',), Counter({'c': 1, 'd': 3, 'm': 1})),\n",
       " (('Blitz Hellion',), Counter({'b': 1, 'h': 1, 'l': 3, 'z': 1})),\n",
       " (('Wildfield Borderpost',),\n",
       "  Counter({'b': 1, 'd': 3, 'f': 1, 'l': 2, 'p': 1, 'w': 1})),\n",
       " (('Fight to the Death',), Counter({'d': 1, 'f': 1, 'g': 1, 'h': 3})),\n",
       " (('Goblin Artillery',), Counter({'b': 1, 'g': 1, 'l': 3, 'y': 1})),\n",
       " (('Mold Adder',), Counter({'d': 3, 'l': 1, 'm': 1})),\n",
       " (('Rockslide Elemental',), Counter({'c': 1, 'd': 1, 'k': 1, 'l': 3, 'm': 1})),\n",
       " ((\"Guan Yu's 1,000-Li March\",),\n",
       "  Counter({\"'\": 1,\n",
       "           ',': 1,\n",
       "           '0': 3,\n",
       "           '1': 1,\n",
       "           'c': 1,\n",
       "           'g': 1,\n",
       "           'h': 1,\n",
       "           'l': 1,\n",
       "           'm': 1,\n",
       "           'y': 1})),\n",
       " (('Wall of Light',), Counter({'f': 1, 'g': 1, 'h': 1, 'l': 3, 'w': 1})),\n",
       " (('Kobold Drill Sergeant',),\n",
       "  Counter({'b': 1, 'd': 2, 'g': 1, 'k': 1, 'l': 3})),\n",
       " (('Kobolds of Kher Keep',),\n",
       "  Counter({'b': 1, 'd': 1, 'f': 1, 'h': 1, 'k': 3, 'l': 1, 'p': 1})),\n",
       " (('Concordant Crossroads',), Counter({'c': 3, 'd': 2})),\n",
       " (('Hunting Cheetah',), Counter({'c': 1, 'g': 1, 'h': 3})),\n",
       " (('Didgeridoo',), Counter({'d': 3, 'g': 1})),\n",
       " (('Hammerheim',), Counter({'h': 2, 'm': 3})),\n",
       " (('Armament Master',), Counter({'m': 3})),\n",
       " (('Celestial Mantle',), Counter({'c': 1, 'l': 3, 'm': 1})),\n",
       " (('Shepherd of the Lost',),\n",
       "  Counter({'d': 1, 'f': 1, 'h': 3, 'l': 1, 'p': 1})),\n",
       " (('World Queller',), Counter({'d': 1, 'l': 3, 'q': 1, 'w': 1})),\n",
       " (('Lullmage Mentor',), Counter({'g': 1, 'l': 3, 'm': 2})),\n",
       " (('Roil Elemental',), Counter({'l': 3, 'm': 1})),\n",
       " (('Crypt Ripper',), Counter({'c': 1, 'p': 3, 'y': 1})),\n",
       " (('Mindless Null',), Counter({'d': 1, 'l': 3, 'm': 1})),\n",
       " (('Elemental Appeal',), Counter({'l': 3, 'm': 1, 'p': 2})),\n",
       " (('Lavaball Trap',), Counter({'b': 1, 'l': 3, 'p': 1, 'v': 1})),\n",
       " (('Primal Bellow',), Counter({'b': 1, 'l': 3, 'm': 1, 'p': 1, 'w': 1})),\n",
       " (('Valakut, the Molten Pinnacle',),\n",
       "  Counter({',': 1, 'c': 1, 'h': 1, 'k': 1, 'l': 3, 'm': 1, 'p': 1, 'v': 1})),\n",
       " (('Fledgling Griffin',), Counter({'d': 1, 'f': 3, 'g': 3, 'l': 2})),\n",
       " (('Grappler Spider',), Counter({'d': 1, 'g': 1, 'l': 1, 'p': 3})),\n",
       " (('Caustic Crawler',), Counter({'c': 3, 'l': 1, 'w': 1})),\n",
       " (('Scrib Nibblers',), Counter({'b': 3, 'c': 1, 'l': 1})),\n",
       " (('Snapping Creeper',), Counter({'c': 1, 'g': 1, 'p': 3})),\n",
       " (('Celestial Colonnade',), Counter({'c': 2, 'd': 1, 'l': 3})),\n",
       " (('Puppet Strings',), Counter({'g': 1, 'p': 3})),\n",
       " (('Thornscape Apprentice',), Counter({'c': 2, 'h': 1, 'p': 3})),\n",
       " (('Coralhelm Commander',), Counter({'c': 2, 'd': 1, 'h': 1, 'l': 2, 'm': 3})),\n",
       " (('Lighthouse Chronologist',), Counter({'c': 1, 'g': 2, 'h': 3, 'l': 2})),\n",
       " (('Renegade Doppelganger',), Counter({'d': 2, 'g': 3, 'l': 1, 'p': 2})),\n",
       " (('Thought Gorger',), Counter({'g': 3, 'h': 2})),\n",
       " (('Grotag Siege-Runner',), Counter({'g': 3})),\n",
       " (('Lord of Shatterskull Pass',),\n",
       "  Counter({'d': 1, 'f': 1, 'h': 1, 'k': 1, 'l': 3, 'p': 1})),\n",
       " (('Soulsurge Elemental',), Counter({'g': 1, 'l': 3, 'm': 1})),\n",
       " (('Underworld Dreams',), Counter({'d': 3, 'l': 1, 'm': 1, 'w': 1})),\n",
       " (('Approach My Molten Realm',),\n",
       "  Counter({'c': 1, 'h': 1, 'l': 2, 'm': 3, 'p': 2, 'y': 1})),\n",
       " (('March of the Machines',), Counter({'c': 2, 'f': 1, 'h': 3, 'm': 2})),\n",
       " (('Every Hope Shall Vanish',),\n",
       "  Counter({'h': 3, 'l': 2, 'p': 1, 'v': 2, 'y': 1})),\n",
       " (('Every Last Vestige Shall Rot',),\n",
       "  Counter({'g': 1, 'h': 1, 'l': 3, 'v': 2, 'y': 1})),\n",
       " (('The Fate of the Flammable',),\n",
       "  Counter({'b': 1, 'f': 3, 'h': 2, 'l': 2, 'm': 2})),\n",
       " (('I Call on the Ancient Magics',),\n",
       "  Counter({'c': 3, 'g': 1, 'h': 1, 'l': 2, 'm': 1})),\n",
       " (('Look Skyward and Despair',),\n",
       "  Counter({'d': 3, 'k': 2, 'l': 1, 'p': 1, 'w': 1, 'y': 1})),\n",
       " (('May Civilization Collapse',),\n",
       "  Counter({'c': 2, 'l': 3, 'm': 1, 'p': 1, 'v': 1, 'y': 1, 'z': 1})),\n",
       " (('My Undead Horde Awakens',),\n",
       "  Counter({'d': 3, 'h': 1, 'k': 1, 'm': 1, 'w': 1, 'y': 1})),\n",
       " (('My Wish Is Your Command',),\n",
       "  Counter({'c': 1, 'd': 1, 'h': 1, 'm': 3, 'w': 1, 'y': 2})),\n",
       " (('Realms Befitting My Majesty',),\n",
       "  Counter({'b': 1, 'f': 1, 'g': 1, 'j': 1, 'l': 1, 'm': 3, 'y': 2})),\n",
       " (('Roots of All Evil',), Counter({'f': 1, 'l': 3, 'v': 1})),\n",
       " (('The Very Soil Shall Shake',),\n",
       "  Counter({'h': 3, 'k': 1, 'l': 3, 'v': 1, 'y': 1})),\n",
       " (('Imperial Hellkite',), Counter({'h': 1, 'k': 1, 'l': 3, 'm': 1, 'p': 1})),\n",
       " (('Which of You Burns Brightest?',),\n",
       "  Counter({'?': 1, 'b': 2, 'c': 1, 'f': 1, 'g': 1, 'h': 3, 'w': 1, 'y': 1})),\n",
       " (('Two-Headed Dragon',), Counter({'d': 3, 'g': 1, 'h': 1, 'w': 1})),\n",
       " (('Molimo, Maro-Sorcerer',), Counter({',': 1, 'c': 1, 'l': 1, 'm': 3})),\n",
       " (('Yavimaya Dryad',), Counter({'d': 2, 'm': 1, 'v': 1, 'y': 3})),\n",
       " (('Leyline of Vitality',), Counter({'f': 1, 'l': 3, 'v': 1, 'y': 2})),\n",
       " (('Crystal Ball',), Counter({'b': 1, 'c': 1, 'l': 3, 'y': 1})),\n",
       " (('Burrenton Bombardier',), Counter({'b': 3, 'd': 1, 'm': 1})),\n",
       " (('Rustic Clachan',), Counter({'c': 3, 'h': 1, 'l': 1})),\n",
       " (('Steel Wall',), Counter({'l': 3, 'w': 1})),\n",
       " (('Clockwork Condor',), Counter({'c': 3, 'd': 1, 'k': 2, 'l': 1, 'w': 1})),\n",
       " (('Darkslick Drake',), Counter({'c': 1, 'd': 2, 'k': 3, 'l': 1})),\n",
       " (('Screeching Silcaw',), Counter({'c': 3, 'g': 1, 'h': 1, 'l': 1, 'w': 1})),\n",
       " (('Blackcleave Goblin',),\n",
       "  Counter({'b': 2, 'c': 2, 'g': 1, 'k': 1, 'l': 3, 'v': 1})),\n",
       " (('Flesh Allergy',), Counter({'f': 1, 'g': 1, 'h': 1, 'l': 3, 'y': 1})),\n",
       " (('Relic Putrescence',), Counter({'c': 3, 'l': 1, 'p': 1})),\n",
       " (('Skithiryx, the Blight Dragon',),\n",
       "  Counter({',': 1,\n",
       "           'b': 1,\n",
       "           'd': 1,\n",
       "           'g': 2,\n",
       "           'h': 3,\n",
       "           'k': 1,\n",
       "           'l': 1,\n",
       "           'x': 1,\n",
       "           'y': 1})),\n",
       " (('Blade-Tribe Berserkers',), Counter({'b': 3, 'd': 1, 'k': 1, 'l': 1})),\n",
       " (('Flameborn Hellion',), Counter({'b': 1, 'f': 1, 'h': 1, 'l': 3, 'm': 1})),\n",
       " (('Ogre Geargrabber',), Counter({'b': 2, 'g': 3})),\n",
       " (('Bellowing Tanglewurm',),\n",
       "  Counter({'b': 1, 'g': 2, 'l': 3, 'm': 1, 'w': 2})),\n",
       " (('Engulfing Slagwurm',), Counter({'f': 1, 'g': 3, 'l': 2, 'm': 1, 'w': 1})),\n",
       " (('Barbed Battlegear',), Counter({'b': 3, 'd': 1, 'g': 1, 'l': 1})),\n",
       " (('Clone Shell',), Counter({'c': 1, 'h': 1, 'l': 3})),\n",
       " (('Echo Circlet',), Counter({'c': 3, 'h': 1, 'l': 1})),\n",
       " (('Flight Spellbomb',),\n",
       "  Counter({'b': 2, 'f': 1, 'g': 1, 'h': 1, 'l': 3, 'm': 1, 'p': 1})),\n",
       " (('Prototype Portal',), Counter({'l': 1, 'p': 3, 'y': 1})),\n",
       " (('Sylvok Lifestaff',), Counter({'f': 3, 'k': 1, 'l': 2, 'v': 1, 'y': 1})),\n",
       " (('Wall of Tanglecord',),\n",
       "  Counter({'c': 1, 'd': 1, 'f': 1, 'g': 1, 'l': 3, 'w': 1})),\n",
       " (('Blackcleave Cliffs',),\n",
       "  Counter({'b': 1, 'c': 3, 'f': 2, 'k': 1, 'l': 3, 'v': 1})),\n",
       " (('Ball Lightning',), Counter({'b': 1, 'g': 2, 'h': 1, 'l': 3})),\n",
       " (('Symbol of Unsummoning',),\n",
       "  Counter({'b': 1, 'f': 1, 'g': 1, 'l': 1, 'm': 3, 'y': 1})),\n",
       " (('Cyclopean Mummy',), Counter({'c': 2, 'l': 1, 'm': 3, 'p': 1, 'y': 2})),\n",
       " (('Scavenging Ghoul',), Counter({'c': 1, 'g': 3, 'h': 1, 'l': 1, 'v': 1})),\n",
       " (('Goblin Bully',), Counter({'b': 2, 'g': 1, 'l': 3, 'y': 1})),\n",
       " (('Orcish Mechanics',), Counter({'c': 3, 'h': 2, 'm': 1})),\n",
       " (('Red Elemental Blast',), Counter({'b': 1, 'd': 1, 'l': 3, 'm': 1})),\n",
       " (('War Mammoth',), Counter({'h': 1, 'm': 3, 'w': 1})),\n",
       " (('Living Wall',), Counter({'g': 1, 'l': 3, 'v': 1, 'w': 1})),\n",
       " (('Staff of Zegon',), Counter({'f': 3, 'g': 1, 'z': 1})),\n",
       " (('Quilled Slagwurm',),\n",
       "  Counter({'d': 1, 'g': 1, 'l': 3, 'm': 1, 'q': 1, 'w': 1})),\n",
       " (('Thrun, the Last Troll',), Counter({',': 1, 'h': 2, 'l': 3})),\n",
       " (('Blightsteel Colossus',),\n",
       "  Counter({'b': 1, 'c': 1, 'g': 1, 'h': 1, 'l': 3})),\n",
       " (('Lumengrid Gargoyle',), Counter({'d': 1, 'g': 3, 'l': 2, 'm': 1, 'y': 1})),\n",
       " (('Wilt-Leaf Cavaliers',), Counter({'c': 1, 'f': 1, 'l': 3, 'v': 1, 'w': 1})),\n",
       " (('Fire-Belly Changeling',),\n",
       "  Counter({'b': 1, 'c': 1, 'f': 1, 'g': 2, 'h': 1, 'l': 3, 'y': 1})),\n",
       " (('Chancellor of the Tangle',),\n",
       "  Counter({'c': 2, 'f': 1, 'g': 1, 'h': 2, 'l': 3})),\n",
       " (('Triumph of the Hordes',),\n",
       "  Counter({'d': 1, 'f': 1, 'h': 3, 'm': 1, 'p': 1})),\n",
       " (('Isolation Cell',), Counter({'c': 1, 'l': 3})),\n",
       " (('Murmurs from Beyond',), Counter({'b': 1, 'd': 1, 'f': 1, 'm': 3, 'y': 1})),\n",
       " (('Spell Crumple',), Counter({'c': 1, 'l': 3, 'm': 1, 'p': 2})),\n",
       " (('Whirlpool Whelm',), Counter({'h': 2, 'l': 3, 'm': 1, 'p': 1, 'w': 2})),\n",
       " (('Chorus of the Conclave',),\n",
       "  Counter({'c': 3, 'f': 1, 'h': 2, 'l': 1, 'v': 1})),\n",
       " (('Skullbriar, the Walking Grave',),\n",
       "  Counter({',': 1, 'b': 1, 'g': 2, 'h': 1, 'k': 2, 'l': 3, 'v': 1, 'w': 1})),\n",
       " (('Vorosh, the Hunter',), Counter({',': 1, 'h': 3, 'v': 1})),\n",
       " (('Merfolk Mesmerist',), Counter({'f': 1, 'k': 1, 'l': 1, 'm': 3})),\n",
       " (('Lightning Elemental',), Counter({'g': 2, 'h': 1, 'l': 3, 'm': 1})),\n",
       " (('Cudgel Troll',), Counter({'c': 1, 'd': 1, 'g': 1, 'l': 3})),\n",
       " (('Kresh the Bloodbraided',),\n",
       "  Counter({'b': 2, 'd': 3, 'h': 2, 'k': 1, 'l': 1})),\n",
       " (('Slavering Nulls',), Counter({'g': 1, 'l': 3, 'v': 1})),\n",
       " (('Hellfire Mongrel',), Counter({'f': 1, 'g': 1, 'h': 1, 'l': 3, 'm': 1})),\n",
       " (('Angel of Flight Alabaster',),\n",
       "  Counter({'b': 1, 'f': 2, 'g': 2, 'h': 1, 'l': 3})),\n",
       " (('Mirror-Mad Phantasm',), Counter({'d': 1, 'h': 1, 'm': 3, 'p': 1})),\n",
       " (('Endless Ranks of the Dead',),\n",
       "  Counter({'d': 3, 'f': 1, 'h': 1, 'k': 1, 'l': 1})),\n",
       " ((\"Ghoulcaller's Chant\",), Counter({\"'\": 1, 'c': 2, 'g': 1, 'h': 2, 'l': 3})),\n",
       " (('Village Cannibals',), Counter({'b': 1, 'c': 1, 'g': 1, 'l': 3, 'v': 1})),\n",
       " (('Rolling Temblor',), Counter({'b': 1, 'g': 1, 'l': 3, 'm': 1})),\n",
       " (('Elder of Laurels',), Counter({'d': 1, 'f': 1, 'l': 3})),\n",
       " (('Stensia Bloodhall',), Counter({'b': 1, 'd': 1, 'h': 1, 'l': 3})),\n",
       " (('Sulfur Falls',), Counter({'f': 2, 'l': 3})),\n",
       " (('Sudden Disappearance',), Counter({'c': 1, 'd': 3, 'p': 2})),\n",
       " (('Beguiler of Wills',), Counter({'b': 1, 'f': 1, 'g': 1, 'l': 3, 'w': 1})),\n",
       " (('Deadly Allure',), Counter({'d': 2, 'l': 3, 'y': 1})),\n",
       " (('Highborn Ghoul',), Counter({'b': 1, 'g': 2, 'h': 3, 'l': 1})),\n",
       " (('Somberwald Dryad',),\n",
       "  Counter({'b': 1, 'd': 3, 'l': 1, 'm': 1, 'w': 1, 'y': 1})),\n",
       " (('Village Survivors',), Counter({'g': 1, 'l': 2, 'v': 3})),\n",
       " (('Koth of the Hammer',), Counter({'f': 1, 'h': 3, 'k': 1, 'm': 2})),\n",
       " (('Pygmy Pyrosaur',), Counter({'g': 1, 'm': 1, 'p': 2, 'y': 3})),\n",
       " (('Volley of Boulders',),\n",
       "  Counter({'b': 1, 'd': 1, 'f': 1, 'l': 3, 'v': 1, 'y': 1})),\n",
       " (('Polluted Dead',), Counter({'d': 3, 'l': 2, 'p': 1})),\n",
       " (('Raging Poltergeist',), Counter({'g': 3, 'l': 1, 'p': 1})),\n",
       " (('Nightshade Peddler',), Counter({'d': 3, 'g': 1, 'h': 2, 'l': 1, 'p': 1})),\n",
       " (('Scroll of Griselbrand',),\n",
       "  Counter({'b': 1, 'c': 1, 'd': 1, 'f': 1, 'g': 1, 'l': 3})),\n",
       " (('Battleflight Eagle',), Counter({'b': 1, 'f': 1, 'g': 2, 'h': 1, 'l': 3})),\n",
       " ((\"Akroma's Memorial\",), Counter({\"'\": 1, 'k': 1, 'l': 1, 'm': 3})),\n",
       " (('Hellion Crucible',), Counter({'b': 1, 'c': 2, 'h': 1, 'l': 3})),\n",
       " (('Boseiju, Who Shelters All',),\n",
       "  Counter({',': 1, 'b': 1, 'h': 2, 'j': 1, 'l': 3, 'w': 1})),\n",
       " (('Call to Heel',), Counter({'c': 1, 'h': 1, 'l': 3})),\n",
       " (('Overwhelming Intellect',),\n",
       "  Counter({'c': 1, 'g': 1, 'h': 1, 'l': 3, 'm': 1, 'v': 1, 'w': 1})),\n",
       " (('Golgari Thug',), Counter({'g': 3, 'h': 1, 'l': 1})),\n",
       " (('Shambling Shell',), Counter({'b': 1, 'g': 1, 'h': 2, 'l': 3, 'm': 1})),\n",
       " (('Golgari Grave-Troll',), Counter({'g': 3, 'l': 3, 'v': 1})),\n",
       " ((\"Twilight's Call\",),\n",
       "  Counter({\"'\": 1, 'c': 1, 'g': 1, 'h': 1, 'l': 3, 'w': 1})),\n",
       " (('Conjured Currency',), Counter({'c': 3, 'd': 1, 'j': 1, 'y': 1})),\n",
       " (('Sphinx of the Chimes',),\n",
       "  Counter({'c': 1, 'f': 1, 'h': 3, 'm': 1, 'p': 1, 'x': 1})),\n",
       " (('Goblin Rally',), Counter({'b': 1, 'g': 1, 'l': 3, 'y': 1})),\n",
       " (('Deadbridge Goliath',), Counter({'b': 1, 'd': 3, 'g': 2, 'h': 1, 'l': 1})),\n",
       " (('Rubbleback Rhino',), Counter({'b': 3, 'c': 1, 'h': 1, 'k': 1, 'l': 1})),\n",
       " (('Carnival Hellsteed',), Counter({'c': 1, 'd': 1, 'h': 1, 'l': 3, 'v': 1})),\n",
       " (('Collective Blessing',), Counter({'b': 1, 'c': 2, 'g': 1, 'l': 3, 'v': 1})),\n",
       " ((\"Coursers' Accord\",), Counter({\"'\": 1, 'c': 3, 'd': 1})),\n",
       " (('Fall of the Gavel',), Counter({'f': 2, 'g': 1, 'h': 1, 'l': 3, 'v': 1})),\n",
       " (('Trestle Troll',), Counter({'l': 3})),\n",
       " (('Vitu-Ghazi Guildmage',),\n",
       "  Counter({'d': 1, 'g': 3, 'h': 1, 'l': 1, 'm': 1, 'v': 1, 'z': 1})),\n",
       " (('Codex Shredder',), Counter({'c': 1, 'd': 3, 'h': 1, 'x': 1})),\n",
       " (('The Mimeoplasm',), Counter({'h': 1, 'l': 1, 'm': 3, 'p': 1})),\n",
       " (('Dutiful Thrull',), Counter({'d': 1, 'f': 1, 'h': 1, 'l': 3})),\n",
       " (('Frilled Oculus',), Counter({'c': 1, 'd': 1, 'f': 1, 'l': 3})),\n",
       " (('Totally Lost',), Counter({'l': 3, 'y': 1})),\n",
       " (('Basilica Screecher',), Counter({'b': 1, 'c': 3, 'h': 1, 'l': 1})),\n",
       " (('Killing Glare',), Counter({'g': 2, 'k': 1, 'l': 3})),\n",
       " (('Sepulchral Primordial',),\n",
       "  Counter({'c': 1, 'd': 1, 'h': 1, 'l': 3, 'm': 1, 'p': 2})),\n",
       " (('Homing Lightning',), Counter({'g': 3, 'h': 2, 'l': 1, 'm': 1})),\n",
       " (('Legion Loyalist',), Counter({'g': 1, 'l': 3, 'y': 1})),\n",
       " (('Mugging',), Counter({'g': 3, 'm': 1})),\n",
       " (('Structural Collapse',), Counter({'c': 2, 'l': 3, 'p': 1})),\n",
       " (('Miming Slime',), Counter({'g': 1, 'l': 1, 'm': 3})),\n",
       " ((\"Predator's Rapport\",), Counter({\"'\": 1, 'd': 1, 'p': 3})),\n",
       " (('Scab-Clan Charger',), Counter({'b': 1, 'c': 3, 'g': 1, 'h': 1, 'l': 1})),\n",
       " (('Lazav, Dimir Mastermind',),\n",
       "  Counter({',': 1, 'd': 2, 'l': 1, 'm': 3, 'v': 1, 'z': 1})),\n",
       " (('Skarrg Guildmage',), Counter({'d': 1, 'g': 3, 'k': 1, 'l': 1, 'm': 1})),\n",
       " (('Coerced Confession',), Counter({'c': 3, 'd': 1, 'f': 1})),\n",
       " (('Glaring Spotlight',), Counter({'g': 3, 'h': 1, 'l': 2, 'p': 1})),\n",
       " (('Tibalt, the Fiend-Blooded',),\n",
       "  Counter({',': 1, 'b': 2, 'd': 3, 'f': 1, 'h': 1, 'l': 2})),\n",
       " (('Ashmouth Hound',), Counter({'d': 1, 'h': 3, 'm': 1})),\n",
       " (('Murmuring Phantasm',), Counter({'g': 1, 'h': 1, 'm': 3, 'p': 1})),\n",
       " (('Bane Alley Blackguard',),\n",
       "  Counter({'b': 2, 'c': 1, 'd': 1, 'g': 1, 'k': 1, 'l': 3, 'y': 1})),\n",
       " (('Deadbridge Chant',), Counter({'b': 1, 'c': 1, 'd': 3, 'g': 1, 'h': 1})),\n",
       " (('Mirko Vosk, Mind Drinker',),\n",
       "  Counter({',': 1, 'd': 2, 'k': 3, 'm': 2, 'v': 1})),\n",
       " (('Saltfield Recluse',), Counter({'c': 1, 'd': 1, 'f': 1, 'l': 3})),\n",
       " (('Peppersmoke',), Counter({'k': 1, 'm': 1, 'p': 3})),\n",
       " (('Greater Gargadon',), Counter({'d': 1, 'g': 3})),\n",
       " (('Grinning Ignus',), Counter({'g': 3})),\n",
       " (('Hammerheim Deadeye',), Counter({'d': 2, 'h': 2, 'm': 3, 'y': 1})),\n",
       " (('Squee, Goblin Nabob',), Counter({',': 1, 'b': 3, 'g': 1, 'l': 1, 'q': 1})),\n",
       " (('Angelic Wall',), Counter({'c': 1, 'g': 1, 'l': 3, 'w': 1})),\n",
       " (('Colossal Whale',), Counter({'c': 1, 'h': 1, 'l': 3, 'w': 1})),\n",
       " (('Deathgaze Cockatrice',),\n",
       "  Counter({'c': 3, 'd': 1, 'g': 1, 'h': 1, 'k': 1, 'z': 1})),\n",
       " (('Liliana of the Dark Realms',),\n",
       "  Counter({'d': 1, 'f': 1, 'h': 1, 'k': 1, 'l': 3, 'm': 1})),\n",
       " (('Flames of the Firebrand',),\n",
       "  Counter({'b': 1, 'd': 1, 'f': 3, 'h': 1, 'l': 1, 'm': 1})),\n",
       " (('Howl of the Night Pack',),\n",
       "  Counter({'c': 1, 'f': 1, 'g': 1, 'h': 3, 'k': 1, 'l': 1, 'p': 1, 'w': 1})),\n",
       " (('Skarrgan Skybreaker',), Counter({'b': 1, 'g': 1, 'k': 3, 'y': 1})),\n",
       " (('Breaching Hippocamp',),\n",
       "  Counter({'b': 1, 'c': 2, 'g': 1, 'h': 2, 'm': 1, 'p': 3})),\n",
       " (('Shipbreaker Kraken',), Counter({'b': 1, 'h': 1, 'k': 3, 'p': 1})),\n",
       " (('Baleful Eidolon',), Counter({'b': 1, 'd': 1, 'f': 1, 'l': 3})),\n",
       " (('Erebos, God of the Dead',),\n",
       "  Counter({',': 1, 'b': 1, 'd': 3, 'f': 1, 'g': 1, 'h': 1})),\n",
       " (('Hythonia the Cruel',), Counter({'c': 1, 'h': 3, 'l': 1, 'y': 1})),\n",
       " (('Lash of the Whip',), Counter({'f': 1, 'h': 3, 'l': 1, 'p': 1, 'w': 1})),\n",
       " (('Boulderfall',), Counter({'b': 1, 'd': 1, 'f': 1, 'l': 3})),\n",
       " (('Minotaur Skullcleaver',),\n",
       "  Counter({'c': 1, 'k': 1, 'l': 3, 'm': 1, 'v': 1})),\n",
       " (('Defend the Hearth',), Counter({'d': 2, 'f': 1, 'h': 3})),\n",
       " (('Hunt the Hunter',), Counter({'h': 3})),\n",
       " (('Shredding Winds',), Counter({'d': 3, 'g': 1, 'h': 1, 'w': 1})),\n",
       " (('Brilliant Plan',), Counter({'b': 1, 'l': 3, 'p': 1})),\n",
       " (('Dirge of Dread',), Counter({'d': 3, 'f': 1, 'g': 1})),\n",
       " (('Endless Cockroaches',), Counter({'c': 3, 'd': 1, 'h': 1, 'k': 1, 'l': 1})),\n",
       " (('Tempt with Immortality',),\n",
       "  Counter({'h': 1, 'l': 1, 'm': 3, 'p': 1, 'w': 1, 'y': 1})),\n",
       " (('Deadwood Treefolk',), Counter({'d': 3, 'f': 1, 'k': 1, 'l': 1, 'w': 1})),\n",
       " (('Hua Tuo, Honored Physician',),\n",
       "  Counter({',': 1, 'c': 1, 'd': 1, 'h': 3, 'p': 1, 'y': 1})),\n",
       " ((\"Lim-Dûl's Vault\",),\n",
       "  Counter({\"'\": 1, 'd': 1, 'l': 3, 'm': 1, 'v': 1, 'û': 1})),\n",
       " (('Marath, Will of the Wild',),\n",
       "  Counter({',': 1, 'd': 1, 'f': 1, 'h': 2, 'l': 3, 'm': 1, 'w': 2})),\n",
       " ((\"Sek'Kuar, Deathkeeper\",),\n",
       "  Counter({\"'\": 1, ',': 1, 'd': 1, 'h': 1, 'k': 3, 'p': 1})),\n",
       " (('Eidolon of Countless Battles',),\n",
       "  Counter({'b': 1, 'c': 1, 'd': 1, 'f': 1, 'l': 3})),\n",
       " (('Griffin Dreamfinder',), Counter({'d': 2, 'f': 3, 'g': 1, 'm': 1})),\n",
       " (('Lightning Volley',), Counter({'g': 2, 'h': 1, 'l': 3, 'v': 1, 'y': 1})),\n",
       " (('Charging Badger',), Counter({'b': 1, 'c': 1, 'd': 1, 'g': 3, 'h': 1})),\n",
       " (('Mischief and Mayhem',),\n",
       "  Counter({'c': 1, 'd': 1, 'f': 1, 'h': 2, 'm': 3, 'y': 1})),\n",
       " (('Font of Fortunes',), Counter({'f': 3})),\n",
       " (('Mogis, God of Slaughter',),\n",
       "  Counter({',': 1, 'd': 1, 'f': 1, 'g': 3, 'h': 1, 'l': 1, 'm': 1})),\n",
       " (('Jace, Architect of Thought',),\n",
       "  Counter({',': 1, 'c': 3, 'f': 1, 'g': 1, 'h': 3, 'j': 1})),\n",
       " (('Lagonna-Band Trailblazer',),\n",
       "  Counter({'b': 2, 'd': 1, 'g': 1, 'l': 3, 'z': 1})),\n",
       " (('Tethmos High Priest',), Counter({'g': 1, 'h': 3, 'm': 1, 'p': 1})),\n",
       " (('Crystalline Nautilus',), Counter({'c': 1, 'l': 3, 'y': 1})),\n",
       " ((\"Flamespeaker's Will\",),\n",
       "  Counter({\"'\": 1, 'f': 1, 'k': 1, 'l': 3, 'm': 1, 'p': 1, 'w': 1})),\n",
       " (('Prophetic Flamespeaker',),\n",
       "  Counter({'c': 1, 'f': 1, 'h': 1, 'k': 1, 'l': 1, 'm': 1, 'p': 3})),\n",
       " (('Pheres-Band Thunderhoof',),\n",
       "  Counter({'b': 1, 'd': 2, 'f': 1, 'h': 3, 'p': 1})),\n",
       " (('Fleetfeather Cockatrice',),\n",
       "  Counter({'c': 3, 'f': 2, 'h': 1, 'k': 1, 'l': 1})),\n",
       " (('Pharika, God of Affliction',),\n",
       "  Counter({',': 1,\n",
       "           'c': 1,\n",
       "           'd': 1,\n",
       "           'f': 3,\n",
       "           'g': 1,\n",
       "           'h': 1,\n",
       "           'k': 1,\n",
       "           'l': 1,\n",
       "           'p': 1})),\n",
       " (('Revel of the Fallen God',),\n",
       "  Counter({'d': 1, 'f': 2, 'g': 1, 'h': 1, 'l': 3, 'v': 1})),\n",
       " (('Temple of Epiphany',),\n",
       "  Counter({'f': 1, 'h': 1, 'l': 1, 'm': 1, 'p': 3, 'y': 1})),\n",
       " (('Shrine of Loyal Legions',),\n",
       "  Counter({'f': 1, 'g': 1, 'h': 1, 'l': 3, 'y': 1})),\n",
       " (('Paliano, the High City',),\n",
       "  Counter({',': 1, 'c': 1, 'g': 1, 'h': 3, 'l': 1, 'p': 1, 'y': 1})),\n",
       " (('Pillarfield Ox',), Counter({'d': 1, 'f': 1, 'l': 3, 'p': 1, 'x': 1})),\n",
       " (('Phage the Untouchable',),\n",
       "  Counter({'b': 1, 'c': 1, 'g': 1, 'h': 3, 'l': 1, 'p': 1})),\n",
       " (('Uncontrollable Anger',), Counter({'b': 1, 'c': 1, 'g': 1, 'l': 3})),\n",
       " (('Volcanic Fallout',), Counter({'c': 2, 'f': 1, 'l': 3, 'v': 1})),\n",
       " (('Hunger of the Howlpack',),\n",
       "  Counter({'c': 1, 'f': 1, 'g': 1, 'h': 3, 'k': 1, 'l': 1, 'p': 1, 'w': 1})),\n",
       " (('Sporecap Spider',), Counter({'c': 1, 'd': 1, 'p': 3})),\n",
       " (('Galvanic Juggernaut',), Counter({'c': 1, 'g': 3, 'j': 1, 'l': 1, 'v': 1})),\n",
       " (('Ancestral Recall',), Counter({'c': 2, 'l': 3})),\n",
       " (('Brilliant Halo',), Counter({'b': 1, 'h': 1, 'l': 3})),\n",
       " (('Circular Logic',), Counter({'c': 3, 'g': 1, 'l': 2})),\n",
       " ((\"Volrath's Shapeshifter\",),\n",
       "  Counter({\"'\": 1, 'f': 1, 'h': 3, 'l': 1, 'p': 1, 'v': 1})),\n",
       " ((\"Death's-Head Buzzard\",),\n",
       "  Counter({\"'\": 1, 'b': 1, 'd': 3, 'h': 2, 'z': 2})),\n",
       " (('Flowstone Hellion',), Counter({'f': 1, 'h': 1, 'l': 3, 'w': 1})),\n",
       " (('Lightning Dragon',), Counter({'d': 1, 'g': 3, 'h': 1, 'l': 1})),\n",
       " (('Claws of Wirewood',), Counter({'c': 1, 'd': 1, 'f': 1, 'l': 1, 'w': 3})),\n",
       " (('Reviving Vapors',), Counter({'g': 1, 'p': 1, 'v': 3})),\n",
       " (('Pillar of Light',), Counter({'f': 1, 'g': 1, 'h': 1, 'l': 3, 'p': 1})),\n",
       " (('Razorfoot Griffin',), Counter({'f': 3, 'g': 1, 'z': 1})),\n",
       " (('Military Intelligence',),\n",
       "  Counter({'c': 1, 'g': 1, 'l': 3, 'm': 1, 'y': 1})),\n",
       " (('Paragon of Gathering Mists',),\n",
       "  Counter({'f': 1, 'g': 3, 'h': 1, 'm': 1, 'p': 1})),\n",
       " ((\"Necromancer's Stockpile\",),\n",
       "  Counter({\"'\": 1, 'c': 3, 'k': 1, 'l': 1, 'm': 1, 'p': 1})),\n",
       " (('Wall of Limbs',), Counter({'b': 1, 'f': 1, 'l': 3, 'm': 1, 'w': 1})),\n",
       " (('Aggressive Mining',), Counter({'g': 3, 'm': 1, 'v': 1})),\n",
       " (('Belligerent Sliver',), Counter({'b': 1, 'g': 1, 'l': 3, 'v': 1})),\n",
       " (('Paragon of Fierce Defiance',),\n",
       "  Counter({'c': 2, 'd': 1, 'f': 3, 'g': 1, 'p': 1})),\n",
       " (('Wall of Mulch',),\n",
       "  Counter({'c': 1, 'f': 1, 'h': 1, 'l': 3, 'm': 1, 'w': 1})),\n",
       " (('Staff of the Death Magus',),\n",
       "  Counter({'d': 1, 'f': 3, 'g': 1, 'h': 2, 'm': 1})),\n",
       " (('Staff of the Mind Magus',),\n",
       "  Counter({'d': 1, 'f': 3, 'g': 1, 'h': 1, 'm': 2})),\n",
       " (('Staff of the Sun Magus',), Counter({'f': 3, 'g': 1, 'h': 1, 'm': 1})),\n",
       " (('Staff of the Wild Magus',),\n",
       "  Counter({'d': 1, 'f': 3, 'g': 1, 'h': 1, 'l': 1, 'm': 1, 'w': 1})),\n",
       " (('Will-Forged Golem',),\n",
       "  Counter({'d': 1, 'f': 1, 'g': 2, 'l': 3, 'm': 1, 'w': 1})),\n",
       " (('Font of Fertility',), Counter({'f': 3, 'l': 1, 'y': 1})),\n",
       " (('Prophet of Kruphix',), Counter({'f': 1, 'h': 2, 'k': 1, 'p': 3, 'x': 1})),\n",
       " (('Hellraiser Goblin',), Counter({'b': 1, 'g': 1, 'h': 1, 'l': 3})),\n",
       " (('Sparkmage Apprentice',),\n",
       "  Counter({'c': 1, 'g': 1, 'k': 1, 'm': 1, 'p': 3})),\n",
       " (('High Sentinels of Arashin',), Counter({'f': 1, 'g': 1, 'h': 3, 'l': 1})),\n",
       " (('Glacial Stalker',), Counter({'c': 1, 'g': 1, 'k': 1, 'l': 3})),\n",
       " (('Bellowing Saddlebrute',),\n",
       "  Counter({'b': 2, 'd': 2, 'g': 1, 'l': 3, 'w': 1})),\n",
       " (('Dead Drop',), Counter({'d': 3, 'p': 1})),\n",
       " (('Gurmag Swiftwing',), Counter({'f': 1, 'g': 3, 'm': 1, 'w': 2})),\n",
       " (('Howl of the Horde',), Counter({'d': 1, 'f': 1, 'h': 3, 'l': 1, 'w': 1})),\n",
       " (('Become Immense',), Counter({'b': 1, 'c': 1, 'm': 3})),\n",
       " (('Hooded Hydra',), Counter({'d': 3, 'h': 2, 'y': 1})),\n",
       " (('Woolly Loxodon',), Counter({'d': 1, 'l': 3, 'w': 1, 'x': 1, 'y': 1})),\n",
       " (('Butcher of the Horde',),\n",
       "  Counter({'b': 1, 'c': 1, 'd': 1, 'f': 1, 'h': 3})),\n",
       " (('Villainous Wealth',), Counter({'h': 1, 'l': 3, 'v': 1, 'w': 1})),\n",
       " (('Angelic Field Marshal',),\n",
       "  Counter({'c': 1, 'd': 1, 'f': 1, 'g': 1, 'h': 1, 'l': 3, 'm': 1})),\n",
       " (('Nahiri, the Lithomancer',),\n",
       "  Counter({',': 1, 'c': 1, 'h': 3, 'l': 1, 'm': 1})),\n",
       " (('Intellectual Offering',), Counter({'c': 1, 'f': 2, 'g': 1, 'l': 3})),\n",
       " (('Ghoulcaller Gisa',), Counter({'c': 1, 'g': 2, 'h': 1, 'l': 3})),\n",
       " (('Infernal Offering',), Counter({'f': 3, 'g': 1, 'l': 1})),\n",
       " (('Feldon of the Third Path',),\n",
       "  Counter({'d': 2, 'f': 2, 'h': 3, 'l': 1, 'p': 1})),\n",
       " (('Flamekin Village',),\n",
       "  Counter({'f': 1, 'g': 1, 'k': 1, 'l': 3, 'm': 1, 'v': 1})),\n",
       " (('Silverblade Paladin',), Counter({'b': 1, 'd': 2, 'l': 3, 'p': 1, 'v': 1})),\n",
       " (('Magus of the Coffers',),\n",
       "  Counter({'c': 1, 'f': 3, 'g': 1, 'h': 1, 'm': 1})),\n",
       " (('Pontiff of Blight',),\n",
       "  Counter({'b': 1, 'f': 3, 'g': 1, 'h': 1, 'l': 1, 'p': 1})),\n",
       " (('Mask of Memory',), Counter({'f': 1, 'k': 1, 'm': 3, 'y': 1})),\n",
       " (('Pearl Medallion',), Counter({'d': 1, 'l': 3, 'm': 1, 'p': 1})),\n",
       " (('Coral Atoll',), Counter({'c': 1, 'l': 3})),\n",
       " (('Albino Troll',), Counter({'b': 1, 'l': 3})),\n",
       " (('Ambush Commander',), Counter({'b': 1, 'c': 1, 'd': 1, 'h': 1, 'm': 3})),\n",
       " (('Raging Goblin',), Counter({'b': 1, 'g': 3, 'l': 1})),\n",
       " (('Boggart Shenanigans',), Counter({'b': 1, 'g': 3, 'h': 1})),\n",
       " (('Twilight Shepherd',),\n",
       "  Counter({'d': 1, 'g': 1, 'h': 3, 'l': 1, 'p': 1, 'w': 1})),\n",
       " (('Sultai Skullkeeper',), Counter({'k': 2, 'l': 3, 'p': 1})),\n",
       " (('Gurmag Angler',), Counter({'g': 3, 'l': 1, 'm': 1})),\n",
       " (('Sibsig Muckdraggers',),\n",
       "  Counter({'b': 1, 'c': 1, 'd': 1, 'g': 3, 'k': 1, 'm': 1})),\n",
       " (('Tasigur, the Golden Fang',),\n",
       "  Counter({',': 1, 'd': 1, 'f': 1, 'g': 3, 'h': 1, 'l': 1})),\n",
       " (('Break Through the Line',),\n",
       "  Counter({'b': 1, 'g': 1, 'h': 3, 'k': 1, 'l': 1})),\n",
       " (('Collateral Damage',), Counter({'c': 1, 'd': 1, 'g': 1, 'l': 3, 'm': 1})),\n",
       " (('Shaman of the Great Hunt',), Counter({'f': 1, 'g': 1, 'h': 3, 'm': 1})),\n",
       " (('Fruit of the First Tree',), Counter({'f': 3, 'h': 1})),\n",
       " (('Wildcall',), Counter({'c': 1, 'd': 1, 'l': 3, 'w': 1})),\n",
       " (('Nimbus Swimmer',), Counter({'b': 1, 'm': 3, 'w': 1})),\n",
       " (('Glaring Aegis',), Counter({'g': 3, 'l': 1})),\n",
       " (('Hidden Dragonslayer',), Counter({'d': 3, 'g': 1, 'h': 1, 'l': 1, 'y': 1})),\n",
       " (('Shieldhide Dragon',), Counter({'d': 3, 'g': 1, 'h': 2, 'l': 1})),\n",
       " (('Deadly Wanderings',), Counter({'d': 3, 'g': 1, 'l': 1, 'w': 1, 'y': 1})),\n",
       " (('Silumgar Spell-Eater',), Counter({'g': 1, 'l': 3, 'm': 1, 'p': 1})),\n",
       " (('Sidisi, Undead Vizier',), Counter({',': 1, 'd': 3, 'v': 1, 'z': 1})),\n",
       " (('Collected Company',),\n",
       "  Counter({'c': 3, 'd': 1, 'l': 2, 'm': 1, 'p': 1, 'y': 1})),\n",
       " (('Dragonlord Dromoka',), Counter({'d': 3, 'g': 1, 'k': 1, 'l': 1, 'm': 1})),\n",
       " ((\"Dromoka's Command\",), Counter({\"'\": 1, 'c': 1, 'd': 2, 'k': 1, 'm': 3})),\n",
       " (('Harbinger of the Hunt',), Counter({'b': 1, 'f': 1, 'g': 1, 'h': 3})),\n",
       " (('Dromoka Monument',), Counter({'d': 1, 'k': 1, 'm': 3})),\n",
       " (('Silumgar Monument',), Counter({'g': 1, 'l': 1, 'm': 3})),\n",
       " (('Avenging Angel',), Counter({'g': 3, 'l': 1, 'v': 1})),\n",
       " (('Hammerhead Shark',), Counter({'d': 1, 'h': 3, 'k': 1, 'm': 2})),\n",
       " (('Killer Whale',), Counter({'h': 1, 'k': 1, 'l': 3, 'w': 1})),\n",
       " ((\"Legacy's Allure\",), Counter({\"'\": 1, 'c': 1, 'g': 1, 'l': 3, 'y': 1})),\n",
       " (('Spell Blast',), Counter({'b': 1, 'l': 3, 'p': 1})),\n",
       " (('Tradewind Rider',), Counter({'d': 3, 'w': 1})),\n",
       " (('Metallic Sliver',), Counter({'c': 1, 'l': 3, 'm': 1, 'v': 1})),\n",
       " (('Wall of Souls',), Counter({'f': 1, 'l': 3, 'w': 1})),\n",
       " (('Goblin Bombardment',), Counter({'b': 3, 'd': 1, 'g': 1, 'l': 1, 'm': 2})),\n",
       " (('Wall of Diffusion',), Counter({'d': 1, 'f': 3, 'l': 2, 'w': 1})),\n",
       " (('Endangered Armodon',), Counter({'d': 3, 'g': 1, 'm': 1})),\n",
       " (('Heartwood Dryad',), Counter({'d': 3, 'h': 1, 'w': 1, 'y': 1})),\n",
       " (('Lowland Basilisk',), Counter({'b': 1, 'd': 1, 'k': 1, 'l': 3, 'w': 1})),\n",
       " (('Crystalline Sliver',), Counter({'c': 1, 'l': 3, 'v': 1, 'y': 1})),\n",
       " (('Soltari Guerrillas',), Counter({'g': 1, 'l': 3})),\n",
       " (('Thalakos Lowlands',), Counter({'d': 1, 'h': 1, 'k': 1, 'l': 3, 'w': 1})),\n",
       " (('Cloud Elemental',), Counter({'c': 1, 'd': 1, 'l': 3, 'm': 1})),\n",
       " ((\"Hurkyl's Recall\",),\n",
       "  Counter({\"'\": 1, 'c': 1, 'h': 1, 'k': 1, 'l': 3, 'y': 1})),\n",
       " (('Surrakar Spellblade',), Counter({'b': 1, 'd': 1, 'k': 1, 'l': 3, 'p': 1})),\n",
       " (('Vigean Graftmage',), Counter({'f': 1, 'g': 3, 'm': 1, 'v': 1})),\n",
       " (('Death Denied',), Counter({'d': 3, 'h': 1})),\n",
       " (('Dread Drone',), Counter({'d': 3})),\n",
       " (('Ghostly Changeling',), Counter({'c': 1, 'g': 3, 'h': 2, 'l': 2, 'y': 1})),\n",
       " (('Blades of Velis Vel',), Counter({'b': 1, 'd': 1, 'f': 1, 'l': 3, 'v': 2})),\n",
       " (('Hearthfire Hobgoblin',),\n",
       "  Counter({'b': 2, 'f': 1, 'g': 1, 'h': 3, 'l': 1})),\n",
       " (('Shrewd Hatchling',),\n",
       "  Counter({'c': 1, 'd': 1, 'g': 1, 'h': 3, 'l': 1, 'w': 1})),\n",
       " (('Wilt-Leaf Liege',), Counter({'f': 1, 'g': 1, 'l': 3, 'w': 1})),\n",
       " (('Copper Carapace',), Counter({'c': 3, 'p': 3})),\n",
       " (('Long-Forgotten Gohei',), Counter({'f': 1, 'g': 3, 'h': 1, 'l': 1})),\n",
       " (('Celestial Flare',), Counter({'c': 1, 'f': 1, 'l': 3})),\n",
       " (('Charging Griffin',), Counter({'c': 1, 'f': 2, 'g': 3, 'h': 1})),\n",
       " (('Hallowed Moonlight',),\n",
       "  Counter({'d': 1, 'g': 1, 'h': 2, 'l': 3, 'm': 1, 'w': 1})),\n",
       " (('Alhammarret, High Arbiter',),\n",
       "  Counter({',': 1, 'b': 1, 'g': 1, 'h': 3, 'l': 1, 'm': 2})),\n",
       " (('Anchor to the Aether',), Counter({'c': 1, 'h': 3})),\n",
       " (('Calculated Dismissal',), Counter({'c': 2, 'd': 2, 'l': 3, 'm': 1})),\n",
       " (('Clash of Wills',), Counter({'c': 1, 'f': 1, 'h': 1, 'l': 3, 'w': 1})),\n",
       " (('Mizzium Meddler',), Counter({'d': 2, 'l': 1, 'm': 3, 'z': 2})),\n",
       " (('Kothophed, Soul Hoarder',),\n",
       "  Counter({',': 1, 'd': 2, 'h': 3, 'k': 1, 'l': 1, 'p': 1})),\n",
       " (('Necromantic Summons',), Counter({'c': 2, 'm': 3})),\n",
       " (('Bellows Lizard',), Counter({'b': 1, 'd': 1, 'l': 3, 'w': 1, 'z': 1})),\n",
       " (('Cobblebrute',), Counter({'b': 3, 'c': 1, 'l': 1})),\n",
       " (('Aerial Volley',), Counter({'l': 3, 'v': 1, 'y': 1})),\n",
       " (('Caustic Caterpillar',), Counter({'c': 3, 'l': 2, 'p': 1})),\n",
       " (('Herald of the Pantheon',),\n",
       "  Counter({'d': 1, 'f': 1, 'h': 3, 'l': 1, 'p': 1})),\n",
       " (('Hitchclaw Recluse',), Counter({'c': 3, 'h': 2, 'l': 2, 'w': 1})),\n",
       " (('Woodland Bellower',), Counter({'b': 1, 'd': 2, 'l': 3, 'w': 2})),\n",
       " (('Blazing Hellhound',),\n",
       "  Counter({'b': 1, 'd': 1, 'g': 1, 'h': 2, 'l': 3, 'z': 1})),\n",
       " (('Citadel Castellan',), Counter({'c': 2, 'd': 1, 'l': 3})),\n",
       " ((\"Pyromancer's Goggles\",),\n",
       "  Counter({\"'\": 1, 'c': 1, 'g': 3, 'l': 1, 'm': 1, 'p': 1, 'y': 1})),\n",
       " (('Honored Hierarch',), Counter({'c': 1, 'd': 1, 'h': 3})),\n",
       " (('Lightning Angel',), Counter({'g': 3, 'h': 1, 'l': 2})),\n",
       " (('Knight of Cliffhaven',),\n",
       "  Counter({'c': 1, 'f': 3, 'g': 1, 'h': 2, 'k': 1, 'l': 1, 'v': 1})),\n",
       " (('Beastbreaker of Bala Ged',),\n",
       "  Counter({'b': 3, 'd': 1, 'f': 1, 'g': 1, 'k': 1, 'l': 1})),\n",
       " (('Grazing Gladehart',), Counter({'d': 1, 'g': 3, 'h': 1, 'l': 1, 'z': 1})),\n",
       " (('Flooded Strand',), Counter({'d': 3, 'f': 1, 'l': 1})),\n",
       " (('Polluted Delta',), Counter({'d': 2, 'l': 3, 'p': 1})),\n",
       " (('Deathless Behemoth',), Counter({'b': 1, 'd': 1, 'h': 3, 'l': 1, 'm': 1})),\n",
       " (('Cryptic Cruiser',), Counter({'c': 3, 'p': 1, 'y': 1})),\n",
       " (('Spell Shrivel',), Counter({'h': 1, 'l': 3, 'p': 1, 'v': 1})),\n",
       " (('Clutch of Currents',), Counter({'c': 3, 'f': 1, 'h': 1, 'l': 1})),\n",
       " (('Halimar Tidecaller',), Counter({'c': 1, 'd': 1, 'h': 1, 'l': 3, 'm': 1})),\n",
       " (('Defiant Bloodlord',), Counter({'b': 1, 'd': 3, 'f': 1, 'l': 2})),\n",
       " (('Hagra Sharpshooter',), Counter({'g': 1, 'h': 3, 'p': 1})),\n",
       " ...]"
      ]
     },
     "execution_count": 53,
     "metadata": {},
     "output_type": "execute_result"
    }
   ],
   "source": [
    "from collections import Counter\n",
    "sorted([(name, Counter(name[0].lower().translate(dict.fromkeys(map(ord, 'aeiounrst .-'), None)))) for name in Card.objects.values_list('name')], key=lambda x: max(x[1].values() or [0]), reverse=True)\n"
   ]
  },
  {
   "cell_type": "code",
   "execution_count": 50,
   "metadata": {},
   "outputs": [
    {
     "data": {
      "text/plain": [
       "[0, 1, 4]"
      ]
     },
     "execution_count": 50,
     "metadata": {},
     "output_type": "execute_result"
    }
   ],
   "source": [
    "[x**2 for x in range(3)]"
   ]
  },
  {
   "cell_type": "code",
   "execution_count": 66,
   "metadata": {},
   "outputs": [
    {
     "data": {
      "text/plain": [
       "Counter({' ': 21135,\n",
       "         '!': 13,\n",
       "         '\"': 8,\n",
       "         '&': 3,\n",
       "         \"'\": 1125,\n",
       "         '(': 6,\n",
       "         ')': 6,\n",
       "         ',': 587,\n",
       "         '-': 538,\n",
       "         '.': 31,\n",
       "         '0': 9,\n",
       "         '1': 2,\n",
       "         '4': 1,\n",
       "         ':': 15,\n",
       "         '?': 3,\n",
       "         '_': 5,\n",
       "         'a': 22386,\n",
       "         'b': 4296,\n",
       "         'c': 8037,\n",
       "         'd': 9137,\n",
       "         'e': 27601,\n",
       "         'f': 5543,\n",
       "         'g': 7808,\n",
       "         'h': 8650,\n",
       "         'i': 17602,\n",
       "         'j': 522,\n",
       "         'k': 3734,\n",
       "         'l': 13215,\n",
       "         'm': 7116,\n",
       "         'n': 16285,\n",
       "         'o': 17031,\n",
       "         'p': 5313,\n",
       "         'q': 307,\n",
       "         'r': 22527,\n",
       "         's': 15888,\n",
       "         't': 16277,\n",
       "         'u': 7221,\n",
       "         'v': 3286,\n",
       "         'w': 3397,\n",
       "         'x': 660,\n",
       "         'y': 2964,\n",
       "         'z': 882,\n",
       "         '®': 1,\n",
       "         'à': 2,\n",
       "         'á': 5,\n",
       "         'â': 2,\n",
       "         'é': 3,\n",
       "         'í': 1,\n",
       "         'ö': 3,\n",
       "         'ú': 1,\n",
       "         'û': 9})"
      ]
     },
     "execution_count": 66,
     "metadata": {},
     "output_type": "execute_result"
    }
   ],
   "source": [
    "from collections import Counter\n",
    "Counter(''.join([name[0].lower() for name in Card.objects.values_list('name')]))"
   ]
  },
  {
   "cell_type": "code",
   "execution_count": 67,
   "metadata": {},
   "outputs": [
    {
     "data": {
      "text/plain": [
       "<QuerySet [<Card: S.N.E.A.K. Dispatcher>, <Card: \"Rumors of My Death . . .\">, <Card: Dr. Julius Jumblemorph>, <Card: Phoebe, Head of S.N.E.A.K.>, <Card: Richard Garfield, Ph.D.>, <Card: Goblin S.W.A.T. Team>, <Card: S.N.O.T.>, <Card: Sarpadian Empires, Vol. VII>, <Card: B.F.M. (Big Furry Monster) (left)>, <Card: B.F.M. (Big Furry Monster) (right)>]>"
      ]
     },
     "execution_count": 67,
     "metadata": {},
     "output_type": "execute_result"
    }
   ],
   "source": [
    "Card.objects.filter(name__contains='.').all()"
   ]
  },
  {
   "cell_type": "code",
   "execution_count": 1,
   "metadata": {},
   "outputs": [
    {
     "data": {
      "text/plain": [
       "<QuerySet [<Card: Fleet-Footed Monk>, <Card: Fool's Tome>, <Card: Shu Foot Soldiers>, <Card: Rishadan Footpad>, <Card: Food Chain>, <Card: Soltari Foot Soldier>, <Card: Foothill Guide>, <Card: Ogre Leadfoot>, <Card: Footsteps of the Goryo>, <Card: Foot Soldiers>, <Card: Phyrexian Ironfoot>, <Card: Nath's Buffoon>, <Card: Unstable Footing>, <Card: Akoum Boulderfoot>, <Card: Footbottom Feast>, <Card: Fleetfoot Panther>, <Card: Crush Underfoot>, <Card: Razorfoot Griffin>, <Card: Fool's Demise>, <Card: Wooded Foothills>, '...(remaining elements truncated)...']>"
      ]
     },
     "execution_count": 1,
     "metadata": {},
     "output_type": "execute_result"
    }
   ],
   "source": [
    "from cardsearch import cardsearch\n",
    "\n",
    "searcher = cardsearch.CardSearch()\n",
    "param = cardsearch.CardNameSearchParameter('foo')\n",
    "searcher.add_parameter(param)\n",
    "searcher.search()"
   ]
  },
  {
   "cell_type": "code",
   "execution_count": 3,
   "metadata": {},
   "outputs": [
    {
     "data": {
      "text/plain": [
       "<QuerySet [<Card: Ol' Buzzbark>, <Card: Bombard>, <Card: Barbary Apes>, <Card: Barbarian Guides>, <Card: Jabari's Influence>, <Card: Sandbar Crocodile>, <Card: Jabari's Banner>, <Card: Sandbar Merfolk>, <Card: Sandbar Serpent>, <Card: Barbarian General>, <Card: Barbarian Horde>, <Card: Embargo>, <Card: Yavimaya Barbarian>, <Card: Barbarian Lunatic>, <Card: Barbarian Outcast>, <Card: Possessed Barbarian>, <Card: Barbarian Bully>, <Card: Spellgorger Barbarian>, <Card: Ogre Leadfoot>, <Card: Balduvian Barbarians>, '...(remaining elements truncated)...']>"
      ]
     },
     "execution_count": 3,
     "metadata": {},
     "output_type": "execute_result"
    }
   ],
   "source": [
    "Card.objects.filter(Q(name__contains='foo') | Q(name__contains='bar'))"
   ]
  },
  {
   "cell_type": "raw",
   "metadata": {},
   "source": []
  },
  {
   "cell_type": "code",
   "execution_count": 4,
   "metadata": {},
   "outputs": [
    {
     "data": {
      "text/plain": [
       "<QuerySet [<Card: Akoum Boulderfoot>, <Card: Phyrexian Obliterator>]>"
      ]
     },
     "execution_count": 4,
     "metadata": {},
     "output_type": "execute_result"
    }
   ],
   "source": [
    "Card.objects.filter((Q(name__contains='foo') & Q(printings__set__code='ROE') | Q(name__contains='Obliterator')))"
   ]
  },
  {
   "cell_type": "code",
   "execution_count": 13,
   "metadata": {},
   "outputs": [
    {
     "data": {
      "text/plain": [
       "<Q: (AND: ('name', 'foo'))>"
      ]
     },
     "execution_count": 13,
     "metadata": {},
     "output_type": "execute_result"
    }
   ],
   "source": [
    "Q(name='foo')"
   ]
  },
  {
   "cell_type": "code",
   "execution_count": 3,
   "metadata": {},
   "outputs": [
    {
     "data": {
      "text/plain": [
       "<Q: (AND: ('printings__set__code', 'ROE'))>"
      ]
     },
     "execution_count": 3,
     "metadata": {},
     "output_type": "execute_result"
    }
   ],
   "source": [
    "Q(printings__set__code='ROE')"
   ]
  },
  {
   "cell_type": "code",
   "execution_count": 1,
   "metadata": {},
   "outputs": [
    {
     "data": {
      "text/plain": [
       "<QuerySet [<Card: Elven Lyre>, <Card: Orcish Captain>, <Card: Thelonite Druid>, <Card: Success!>, <Card: Curious Killbot>, <Card: Pet Project>, <Card: Quick-Stick Lick Trick>, <Card: Record Store>, <Card: Sundering Fork>, <Card: Thud-for-Duds>, <Card: Top-Secret Tunnel>, <Card: Plains>, <Card: Island>, <Card: Swamp>, <Card: Gimme Five>, <Card: GO TO JAIL>, <Card: Humming->, <Card: Jackknight>, <Card: Knight of the Kitchen Sink>, <Card: Knight of the Widget>, '...(remaining elements truncated)...']>"
      ]
     },
     "execution_count": 1,
     "metadata": {},
     "output_type": "execute_result"
    }
   ],
   "source": [
    "from cardsearch import cardsearch\n",
    "searcher = cardsearch.CardSearch()\n",
    "searcher.root_parameter = cardsearch.AndParameterNode()\n",
    "searcher.root_parameter.add_parameter(cardsearch.CardNameSearchParameter('a'))\n",
    "searcher.root_parameter.add_parameter(cardsearch.CardNameSearchParameter('e'))\n",
    "searcher.root_parameter.boolean_flag = False\n",
    "searcher.tree_search()"
   ]
  },
  {
   "cell_type": "code",
   "execution_count": 11,
   "metadata": {},
   "outputs": [
    {
     "data": {
      "text/plain": [
       "<Q: (OR: ('name__contains', 'foo'), ('name__contains', 'bar'))>"
      ]
     },
     "execution_count": 11,
     "metadata": {},
     "output_type": "execute_result"
    }
   ],
   "source": [
    "param = cardsearch.OrParameterNode()\n",
    "param.add_parameter(cardsearch.CardNameSearchParameter('foo'))\n",
    "param.add_parameter(cardsearch.CardNameSearchParameter('bar'))\n",
    "param.get_filter()"
   ]
  },
  {
   "cell_type": "raw",
   "metadata": {},
   "source": [
    "Colour.green()"
   ]
  },
  {
   "cell_type": "code",
   "execution_count": 17,
   "metadata": {},
   "outputs": [
    {
     "data": {
      "text/plain": [
       "<QuerySet [<Colour: Black>]>"
      ]
     },
     "execution_count": 17,
     "metadata": {},
     "output_type": "execute_result"
    }
   ],
   "source": [
    "Card.objects.get(name='Ow').colours.all()"
   ]
  },
  {
   "cell_type": "code",
   "execution_count": 18,
   "metadata": {},
   "outputs": [
    {
     "data": {
      "text/plain": [
       "<QuerySet [<Colour: Black>]>"
      ]
     },
     "execution_count": 18,
     "metadata": {},
     "output_type": "execute_result"
    }
   ],
   "source": [
    "Colour.objects.filter(symbol__in=['B']).all()"
   ]
  },
  {
   "cell_type": "code",
   "execution_count": 23,
   "metadata": {},
   "outputs": [
    {
     "data": {
      "text/plain": [
       "True"
      ]
     },
     "execution_count": 23,
     "metadata": {},
     "output_type": "execute_result"
    }
   ],
   "source": [
    "list(Card.objects.get(name='Wrecking Ball').colours.all()) == list(Colour.objects.filter(symbol__in=['B','R']).all())"
   ]
  },
  {
   "cell_type": "code",
   "execution_count": 24,
   "metadata": {},
   "outputs": [
    {
     "data": {
      "text/plain": [
       "<QuerySet [<Colour: Black>, <Colour: Red>]>"
      ]
     },
     "execution_count": 24,
     "metadata": {},
     "output_type": "execute_result"
    }
   ],
   "source": [
    "Card.objects.get(name='Wrecking Ball').colours.all()"
   ]
  },
  {
   "cell_type": "code",
   "execution_count": 28,
   "metadata": {},
   "outputs": [
    {
     "data": {
      "text/plain": [
       "2683"
      ]
     },
     "execution_count": 28,
     "metadata": {},
     "output_type": "execute_result"
    }
   ],
   "source": [
    "Colour.objects.get(symbol='W').colour_cards.count()"
   ]
  },
  {
   "cell_type": "raw",
   "metadata": {},
   "source": []
  },
  {
   "cell_type": "code",
   "execution_count": 33,
   "metadata": {},
   "outputs": [
    {
     "data": {
      "text/plain": [
       "2683"
      ]
     },
     "execution_count": 33,
     "metadata": {},
     "output_type": "execute_result"
    }
   ],
   "source": [
    "Card.objects.filter(colours__=Colour.white()).count()"
   ]
  },
  {
   "cell_type": "raw",
   "metadata": {},
   "source": []
  },
  {
   "cell_type": "code",
   "execution_count": 48,
   "metadata": {},
   "outputs": [
    {
     "data": {
      "text/plain": [
       "False"
      ]
     },
     "execution_count": 48,
     "metadata": {},
     "output_type": "execute_result"
    }
   ],
   "source": [
    "Card.objects.get(name='Woolly Thoctar').colours == Colour.white()"
   ]
  },
  {
   "cell_type": "code",
   "execution_count": 46,
   "metadata": {},
   "outputs": [
    {
     "ename": "TypeError",
     "evalue": "int() argument must be a string, a bytes-like object or a number, not 'list'",
     "output_type": "error",
     "traceback": [
      "\u001b[1;31m---------------------------------------------------------------------------\u001b[0m",
      "\u001b[1;31mTypeError\u001b[0m                                 Traceback (most recent call last)",
      "\u001b[1;32m<ipython-input-46-e6dff7310ada>\u001b[0m in \u001b[0;36m<module>\u001b[1;34m()\u001b[0m\n\u001b[1;32m----> 1\u001b[1;33m \u001b[0mCard\u001b[0m\u001b[1;33m.\u001b[0m\u001b[0mobjects\u001b[0m\u001b[1;33m.\u001b[0m\u001b[0mget\u001b[0m\u001b[1;33m(\u001b[0m\u001b[0mname\u001b[0m\u001b[1;33m=\u001b[0m\u001b[1;34m'Woolly Thoctar'\u001b[0m\u001b[1;33m,\u001b[0m \u001b[0mcolours\u001b[0m\u001b[1;33m=\u001b[0m\u001b[1;33m[\u001b[0m\u001b[0mColour\u001b[0m\u001b[1;33m.\u001b[0m\u001b[0mwhite\u001b[0m\u001b[1;33m(\u001b[0m\u001b[1;33m)\u001b[0m\u001b[1;33m,\u001b[0m \u001b[0mColour\u001b[0m\u001b[1;33m.\u001b[0m\u001b[0mblue\u001b[0m\u001b[1;33m(\u001b[0m\u001b[1;33m)\u001b[0m\u001b[1;33m]\u001b[0m\u001b[1;33m)\u001b[0m\u001b[1;33m\u001b[0m\u001b[0m\n\u001b[0m",
      "\u001b[1;32m~\\Projects\\sylvan_library\\sylvan_env\\lib\\site-packages\\django\\db\\models\\manager.py\u001b[0m in \u001b[0;36mmanager_method\u001b[1;34m(self, *args, **kwargs)\u001b[0m\n\u001b[0;32m     83\u001b[0m         \u001b[1;32mdef\u001b[0m \u001b[0mcreate_method\u001b[0m\u001b[1;33m(\u001b[0m\u001b[0mname\u001b[0m\u001b[1;33m,\u001b[0m \u001b[0mmethod\u001b[0m\u001b[1;33m)\u001b[0m\u001b[1;33m:\u001b[0m\u001b[1;33m\u001b[0m\u001b[0m\n\u001b[0;32m     84\u001b[0m             \u001b[1;32mdef\u001b[0m \u001b[0mmanager_method\u001b[0m\u001b[1;33m(\u001b[0m\u001b[0mself\u001b[0m\u001b[1;33m,\u001b[0m \u001b[1;33m*\u001b[0m\u001b[0margs\u001b[0m\u001b[1;33m,\u001b[0m \u001b[1;33m**\u001b[0m\u001b[0mkwargs\u001b[0m\u001b[1;33m)\u001b[0m\u001b[1;33m:\u001b[0m\u001b[1;33m\u001b[0m\u001b[0m\n\u001b[1;32m---> 85\u001b[1;33m                 \u001b[1;32mreturn\u001b[0m \u001b[0mgetattr\u001b[0m\u001b[1;33m(\u001b[0m\u001b[0mself\u001b[0m\u001b[1;33m.\u001b[0m\u001b[0mget_queryset\u001b[0m\u001b[1;33m(\u001b[0m\u001b[1;33m)\u001b[0m\u001b[1;33m,\u001b[0m \u001b[0mname\u001b[0m\u001b[1;33m)\u001b[0m\u001b[1;33m(\u001b[0m\u001b[1;33m*\u001b[0m\u001b[0margs\u001b[0m\u001b[1;33m,\u001b[0m \u001b[1;33m**\u001b[0m\u001b[0mkwargs\u001b[0m\u001b[1;33m)\u001b[0m\u001b[1;33m\u001b[0m\u001b[0m\n\u001b[0m\u001b[0;32m     86\u001b[0m             \u001b[0mmanager_method\u001b[0m\u001b[1;33m.\u001b[0m\u001b[0m__name__\u001b[0m \u001b[1;33m=\u001b[0m \u001b[0mmethod\u001b[0m\u001b[1;33m.\u001b[0m\u001b[0m__name__\u001b[0m\u001b[1;33m\u001b[0m\u001b[0m\n\u001b[0;32m     87\u001b[0m             \u001b[0mmanager_method\u001b[0m\u001b[1;33m.\u001b[0m\u001b[0m__doc__\u001b[0m \u001b[1;33m=\u001b[0m \u001b[0mmethod\u001b[0m\u001b[1;33m.\u001b[0m\u001b[0m__doc__\u001b[0m\u001b[1;33m\u001b[0m\u001b[0m\n",
      "\u001b[1;32m~\\Projects\\sylvan_library\\sylvan_env\\lib\\site-packages\\django\\db\\models\\query.py\u001b[0m in \u001b[0;36mget\u001b[1;34m(self, *args, **kwargs)\u001b[0m\n\u001b[0;32m    369\u001b[0m         \u001b[0mkeyword\u001b[0m \u001b[0marguments\u001b[0m\u001b[1;33m.\u001b[0m\u001b[1;33m\u001b[0m\u001b[0m\n\u001b[0;32m    370\u001b[0m         \"\"\"\n\u001b[1;32m--> 371\u001b[1;33m         \u001b[0mclone\u001b[0m \u001b[1;33m=\u001b[0m \u001b[0mself\u001b[0m\u001b[1;33m.\u001b[0m\u001b[0mfilter\u001b[0m\u001b[1;33m(\u001b[0m\u001b[1;33m*\u001b[0m\u001b[0margs\u001b[0m\u001b[1;33m,\u001b[0m \u001b[1;33m**\u001b[0m\u001b[0mkwargs\u001b[0m\u001b[1;33m)\u001b[0m\u001b[1;33m\u001b[0m\u001b[0m\n\u001b[0m\u001b[0;32m    372\u001b[0m         \u001b[1;32mif\u001b[0m \u001b[0mself\u001b[0m\u001b[1;33m.\u001b[0m\u001b[0mquery\u001b[0m\u001b[1;33m.\u001b[0m\u001b[0mcan_filter\u001b[0m\u001b[1;33m(\u001b[0m\u001b[1;33m)\u001b[0m \u001b[1;32mand\u001b[0m \u001b[1;32mnot\u001b[0m \u001b[0mself\u001b[0m\u001b[1;33m.\u001b[0m\u001b[0mquery\u001b[0m\u001b[1;33m.\u001b[0m\u001b[0mdistinct_fields\u001b[0m\u001b[1;33m:\u001b[0m\u001b[1;33m\u001b[0m\u001b[0m\n\u001b[0;32m    373\u001b[0m             \u001b[0mclone\u001b[0m \u001b[1;33m=\u001b[0m \u001b[0mclone\u001b[0m\u001b[1;33m.\u001b[0m\u001b[0morder_by\u001b[0m\u001b[1;33m(\u001b[0m\u001b[1;33m)\u001b[0m\u001b[1;33m\u001b[0m\u001b[0m\n",
      "\u001b[1;32m~\\Projects\\sylvan_library\\sylvan_env\\lib\\site-packages\\django\\db\\models\\query.py\u001b[0m in \u001b[0;36mfilter\u001b[1;34m(self, *args, **kwargs)\u001b[0m\n\u001b[0;32m    782\u001b[0m         \u001b[0mset\u001b[0m\u001b[1;33m.\u001b[0m\u001b[1;33m\u001b[0m\u001b[0m\n\u001b[0;32m    783\u001b[0m         \"\"\"\n\u001b[1;32m--> 784\u001b[1;33m         \u001b[1;32mreturn\u001b[0m \u001b[0mself\u001b[0m\u001b[1;33m.\u001b[0m\u001b[0m_filter_or_exclude\u001b[0m\u001b[1;33m(\u001b[0m\u001b[1;32mFalse\u001b[0m\u001b[1;33m,\u001b[0m \u001b[1;33m*\u001b[0m\u001b[0margs\u001b[0m\u001b[1;33m,\u001b[0m \u001b[1;33m**\u001b[0m\u001b[0mkwargs\u001b[0m\u001b[1;33m)\u001b[0m\u001b[1;33m\u001b[0m\u001b[0m\n\u001b[0m\u001b[0;32m    785\u001b[0m \u001b[1;33m\u001b[0m\u001b[0m\n\u001b[0;32m    786\u001b[0m     \u001b[1;32mdef\u001b[0m \u001b[0mexclude\u001b[0m\u001b[1;33m(\u001b[0m\u001b[0mself\u001b[0m\u001b[1;33m,\u001b[0m \u001b[1;33m*\u001b[0m\u001b[0margs\u001b[0m\u001b[1;33m,\u001b[0m \u001b[1;33m**\u001b[0m\u001b[0mkwargs\u001b[0m\u001b[1;33m)\u001b[0m\u001b[1;33m:\u001b[0m\u001b[1;33m\u001b[0m\u001b[0m\n",
      "\u001b[1;32m~\\Projects\\sylvan_library\\sylvan_env\\lib\\site-packages\\django\\db\\models\\query.py\u001b[0m in \u001b[0;36m_filter_or_exclude\u001b[1;34m(self, negate, *args, **kwargs)\u001b[0m\n\u001b[0;32m    800\u001b[0m             \u001b[0mclone\u001b[0m\u001b[1;33m.\u001b[0m\u001b[0mquery\u001b[0m\u001b[1;33m.\u001b[0m\u001b[0madd_q\u001b[0m\u001b[1;33m(\u001b[0m\u001b[1;33m~\u001b[0m\u001b[0mQ\u001b[0m\u001b[1;33m(\u001b[0m\u001b[1;33m*\u001b[0m\u001b[0margs\u001b[0m\u001b[1;33m,\u001b[0m \u001b[1;33m**\u001b[0m\u001b[0mkwargs\u001b[0m\u001b[1;33m)\u001b[0m\u001b[1;33m)\u001b[0m\u001b[1;33m\u001b[0m\u001b[0m\n\u001b[0;32m    801\u001b[0m         \u001b[1;32melse\u001b[0m\u001b[1;33m:\u001b[0m\u001b[1;33m\u001b[0m\u001b[0m\n\u001b[1;32m--> 802\u001b[1;33m             \u001b[0mclone\u001b[0m\u001b[1;33m.\u001b[0m\u001b[0mquery\u001b[0m\u001b[1;33m.\u001b[0m\u001b[0madd_q\u001b[0m\u001b[1;33m(\u001b[0m\u001b[0mQ\u001b[0m\u001b[1;33m(\u001b[0m\u001b[1;33m*\u001b[0m\u001b[0margs\u001b[0m\u001b[1;33m,\u001b[0m \u001b[1;33m**\u001b[0m\u001b[0mkwargs\u001b[0m\u001b[1;33m)\u001b[0m\u001b[1;33m)\u001b[0m\u001b[1;33m\u001b[0m\u001b[0m\n\u001b[0m\u001b[0;32m    803\u001b[0m         \u001b[1;32mreturn\u001b[0m \u001b[0mclone\u001b[0m\u001b[1;33m\u001b[0m\u001b[0m\n\u001b[0;32m    804\u001b[0m \u001b[1;33m\u001b[0m\u001b[0m\n",
      "\u001b[1;32m~\\Projects\\sylvan_library\\sylvan_env\\lib\\site-packages\\django\\db\\models\\sql\\query.py\u001b[0m in \u001b[0;36madd_q\u001b[1;34m(self, q_object)\u001b[0m\n\u001b[0;32m   1248\u001b[0m         existing_inner = set(\n\u001b[0;32m   1249\u001b[0m             (a for a in self.alias_map if self.alias_map[a].join_type == INNER))\n\u001b[1;32m-> 1250\u001b[1;33m         \u001b[0mclause\u001b[0m\u001b[1;33m,\u001b[0m \u001b[0m_\u001b[0m \u001b[1;33m=\u001b[0m \u001b[0mself\u001b[0m\u001b[1;33m.\u001b[0m\u001b[0m_add_q\u001b[0m\u001b[1;33m(\u001b[0m\u001b[0mq_object\u001b[0m\u001b[1;33m,\u001b[0m \u001b[0mself\u001b[0m\u001b[1;33m.\u001b[0m\u001b[0mused_aliases\u001b[0m\u001b[1;33m)\u001b[0m\u001b[1;33m\u001b[0m\u001b[0m\n\u001b[0m\u001b[0;32m   1251\u001b[0m         \u001b[1;32mif\u001b[0m \u001b[0mclause\u001b[0m\u001b[1;33m:\u001b[0m\u001b[1;33m\u001b[0m\u001b[0m\n\u001b[0;32m   1252\u001b[0m             \u001b[0mself\u001b[0m\u001b[1;33m.\u001b[0m\u001b[0mwhere\u001b[0m\u001b[1;33m.\u001b[0m\u001b[0madd\u001b[0m\u001b[1;33m(\u001b[0m\u001b[0mclause\u001b[0m\u001b[1;33m,\u001b[0m \u001b[0mAND\u001b[0m\u001b[1;33m)\u001b[0m\u001b[1;33m\u001b[0m\u001b[0m\n",
      "\u001b[1;32m~\\Projects\\sylvan_library\\sylvan_env\\lib\\site-packages\\django\\db\\models\\sql\\query.py\u001b[0m in \u001b[0;36m_add_q\u001b[1;34m(self, q_object, used_aliases, branch_negated, current_negated, allow_joins, split_subq)\u001b[0m\n\u001b[0;32m   1274\u001b[0m                     \u001b[0mchild\u001b[0m\u001b[1;33m,\u001b[0m \u001b[0mcan_reuse\u001b[0m\u001b[1;33m=\u001b[0m\u001b[0mused_aliases\u001b[0m\u001b[1;33m,\u001b[0m \u001b[0mbranch_negated\u001b[0m\u001b[1;33m=\u001b[0m\u001b[0mbranch_negated\u001b[0m\u001b[1;33m,\u001b[0m\u001b[1;33m\u001b[0m\u001b[0m\n\u001b[0;32m   1275\u001b[0m                     \u001b[0mcurrent_negated\u001b[0m\u001b[1;33m=\u001b[0m\u001b[0mcurrent_negated\u001b[0m\u001b[1;33m,\u001b[0m \u001b[0mconnector\u001b[0m\u001b[1;33m=\u001b[0m\u001b[0mconnector\u001b[0m\u001b[1;33m,\u001b[0m\u001b[1;33m\u001b[0m\u001b[0m\n\u001b[1;32m-> 1276\u001b[1;33m                     \u001b[0mallow_joins\u001b[0m\u001b[1;33m=\u001b[0m\u001b[0mallow_joins\u001b[0m\u001b[1;33m,\u001b[0m \u001b[0msplit_subq\u001b[0m\u001b[1;33m=\u001b[0m\u001b[0msplit_subq\u001b[0m\u001b[1;33m,\u001b[0m\u001b[1;33m\u001b[0m\u001b[0m\n\u001b[0m\u001b[0;32m   1277\u001b[0m                 )\n\u001b[0;32m   1278\u001b[0m                 \u001b[0mjoinpromoter\u001b[0m\u001b[1;33m.\u001b[0m\u001b[0madd_votes\u001b[0m\u001b[1;33m(\u001b[0m\u001b[0mneeded_inner\u001b[0m\u001b[1;33m)\u001b[0m\u001b[1;33m\u001b[0m\u001b[0m\n",
      "\u001b[1;32m~\\Projects\\sylvan_library\\sylvan_env\\lib\\site-packages\\django\\db\\models\\sql\\query.py\u001b[0m in \u001b[0;36mbuild_filter\u001b[1;34m(self, filter_expr, branch_negated, current_negated, can_reuse, connector, allow_joins, split_subq)\u001b[0m\n\u001b[0;32m   1204\u001b[0m             \u001b[1;32melse\u001b[0m\u001b[1;33m:\u001b[0m\u001b[1;33m\u001b[0m\u001b[0m\n\u001b[0;32m   1205\u001b[0m                 \u001b[0mlhs\u001b[0m \u001b[1;33m=\u001b[0m \u001b[0mMultiColSource\u001b[0m\u001b[1;33m(\u001b[0m\u001b[0malias\u001b[0m\u001b[1;33m,\u001b[0m \u001b[0mtargets\u001b[0m\u001b[1;33m,\u001b[0m \u001b[0msources\u001b[0m\u001b[1;33m,\u001b[0m \u001b[0mfield\u001b[0m\u001b[1;33m)\u001b[0m\u001b[1;33m\u001b[0m\u001b[0m\n\u001b[1;32m-> 1206\u001b[1;33m             \u001b[0mcondition\u001b[0m \u001b[1;33m=\u001b[0m \u001b[0mlookup_class\u001b[0m\u001b[1;33m(\u001b[0m\u001b[0mlhs\u001b[0m\u001b[1;33m,\u001b[0m \u001b[0mvalue\u001b[0m\u001b[1;33m)\u001b[0m\u001b[1;33m\u001b[0m\u001b[0m\n\u001b[0m\u001b[0;32m   1207\u001b[0m             \u001b[0mlookup_type\u001b[0m \u001b[1;33m=\u001b[0m \u001b[0mlookup_class\u001b[0m\u001b[1;33m.\u001b[0m\u001b[0mlookup_name\u001b[0m\u001b[1;33m\u001b[0m\u001b[0m\n\u001b[0;32m   1208\u001b[0m         \u001b[1;32melse\u001b[0m\u001b[1;33m:\u001b[0m\u001b[1;33m\u001b[0m\u001b[0m\n",
      "\u001b[1;32m~\\Projects\\sylvan_library\\sylvan_env\\lib\\site-packages\\django\\db\\models\\lookups.py\u001b[0m in \u001b[0;36m__init__\u001b[1;34m(self, lhs, rhs)\u001b[0m\n\u001b[0;32m     22\u001b[0m     \u001b[1;32mdef\u001b[0m \u001b[0m__init__\u001b[0m\u001b[1;33m(\u001b[0m\u001b[0mself\u001b[0m\u001b[1;33m,\u001b[0m \u001b[0mlhs\u001b[0m\u001b[1;33m,\u001b[0m \u001b[0mrhs\u001b[0m\u001b[1;33m)\u001b[0m\u001b[1;33m:\u001b[0m\u001b[1;33m\u001b[0m\u001b[0m\n\u001b[0;32m     23\u001b[0m         \u001b[0mself\u001b[0m\u001b[1;33m.\u001b[0m\u001b[0mlhs\u001b[0m\u001b[1;33m,\u001b[0m \u001b[0mself\u001b[0m\u001b[1;33m.\u001b[0m\u001b[0mrhs\u001b[0m \u001b[1;33m=\u001b[0m \u001b[0mlhs\u001b[0m\u001b[1;33m,\u001b[0m \u001b[0mrhs\u001b[0m\u001b[1;33m\u001b[0m\u001b[0m\n\u001b[1;32m---> 24\u001b[1;33m         \u001b[0mself\u001b[0m\u001b[1;33m.\u001b[0m\u001b[0mrhs\u001b[0m \u001b[1;33m=\u001b[0m \u001b[0mself\u001b[0m\u001b[1;33m.\u001b[0m\u001b[0mget_prep_lookup\u001b[0m\u001b[1;33m(\u001b[0m\u001b[1;33m)\u001b[0m\u001b[1;33m\u001b[0m\u001b[0m\n\u001b[0m\u001b[0;32m     25\u001b[0m         \u001b[1;32mif\u001b[0m \u001b[0mhasattr\u001b[0m\u001b[1;33m(\u001b[0m\u001b[0mself\u001b[0m\u001b[1;33m.\u001b[0m\u001b[0mlhs\u001b[0m\u001b[1;33m,\u001b[0m \u001b[1;34m'get_bilateral_transforms'\u001b[0m\u001b[1;33m)\u001b[0m\u001b[1;33m:\u001b[0m\u001b[1;33m\u001b[0m\u001b[0m\n\u001b[0;32m     26\u001b[0m             \u001b[0mbilateral_transforms\u001b[0m \u001b[1;33m=\u001b[0m \u001b[0mself\u001b[0m\u001b[1;33m.\u001b[0m\u001b[0mlhs\u001b[0m\u001b[1;33m.\u001b[0m\u001b[0mget_bilateral_transforms\u001b[0m\u001b[1;33m(\u001b[0m\u001b[1;33m)\u001b[0m\u001b[1;33m\u001b[0m\u001b[0m\n",
      "\u001b[1;32m~\\Projects\\sylvan_library\\sylvan_env\\lib\\site-packages\\django\\db\\models\\fields\\related_lookups.py\u001b[0m in \u001b[0;36mget_prep_lookup\u001b[1;34m(self)\u001b[0m\n\u001b[0;32m    110\u001b[0m                 \u001b[1;31m# as we don't get to the direct value branch otherwise.\u001b[0m\u001b[1;33m\u001b[0m\u001b[1;33m\u001b[0m\u001b[0m\n\u001b[0;32m    111\u001b[0m                 \u001b[0mtarget_field\u001b[0m \u001b[1;33m=\u001b[0m \u001b[0mself\u001b[0m\u001b[1;33m.\u001b[0m\u001b[0mlhs\u001b[0m\u001b[1;33m.\u001b[0m\u001b[0moutput_field\u001b[0m\u001b[1;33m.\u001b[0m\u001b[0mget_path_info\u001b[0m\u001b[1;33m(\u001b[0m\u001b[1;33m)\u001b[0m\u001b[1;33m[\u001b[0m\u001b[1;33m-\u001b[0m\u001b[1;36m1\u001b[0m\u001b[1;33m]\u001b[0m\u001b[1;33m.\u001b[0m\u001b[0mtarget_fields\u001b[0m\u001b[1;33m[\u001b[0m\u001b[1;33m-\u001b[0m\u001b[1;36m1\u001b[0m\u001b[1;33m]\u001b[0m\u001b[1;33m\u001b[0m\u001b[0m\n\u001b[1;32m--> 112\u001b[1;33m                 \u001b[0mself\u001b[0m\u001b[1;33m.\u001b[0m\u001b[0mrhs\u001b[0m \u001b[1;33m=\u001b[0m \u001b[0mtarget_field\u001b[0m\u001b[1;33m.\u001b[0m\u001b[0mget_prep_value\u001b[0m\u001b[1;33m(\u001b[0m\u001b[0mself\u001b[0m\u001b[1;33m.\u001b[0m\u001b[0mrhs\u001b[0m\u001b[1;33m)\u001b[0m\u001b[1;33m\u001b[0m\u001b[0m\n\u001b[0m\u001b[0;32m    113\u001b[0m \u001b[1;33m\u001b[0m\u001b[0m\n\u001b[0;32m    114\u001b[0m         \u001b[1;32mreturn\u001b[0m \u001b[0msuper\u001b[0m\u001b[1;33m(\u001b[0m\u001b[0mRelatedLookupMixin\u001b[0m\u001b[1;33m,\u001b[0m \u001b[0mself\u001b[0m\u001b[1;33m)\u001b[0m\u001b[1;33m.\u001b[0m\u001b[0mget_prep_lookup\u001b[0m\u001b[1;33m(\u001b[0m\u001b[1;33m)\u001b[0m\u001b[1;33m\u001b[0m\u001b[0m\n",
      "\u001b[1;32m~\\Projects\\sylvan_library\\sylvan_env\\lib\\site-packages\\django\\db\\models\\fields\\__init__.py\u001b[0m in \u001b[0;36mget_prep_value\u001b[1;34m(self, value)\u001b[0m\n\u001b[0;32m    964\u001b[0m         \u001b[1;32mif\u001b[0m \u001b[0mvalue\u001b[0m \u001b[1;32mis\u001b[0m \u001b[1;32mNone\u001b[0m\u001b[1;33m:\u001b[0m\u001b[1;33m\u001b[0m\u001b[0m\n\u001b[0;32m    965\u001b[0m             \u001b[1;32mreturn\u001b[0m \u001b[1;32mNone\u001b[0m\u001b[1;33m\u001b[0m\u001b[0m\n\u001b[1;32m--> 966\u001b[1;33m         \u001b[1;32mreturn\u001b[0m \u001b[0mint\u001b[0m\u001b[1;33m(\u001b[0m\u001b[0mvalue\u001b[0m\u001b[1;33m)\u001b[0m\u001b[1;33m\u001b[0m\u001b[0m\n\u001b[0m\u001b[0;32m    967\u001b[0m \u001b[1;33m\u001b[0m\u001b[0m\n\u001b[0;32m    968\u001b[0m     \u001b[1;32mdef\u001b[0m \u001b[0mcontribute_to_class\u001b[0m\u001b[1;33m(\u001b[0m\u001b[0mself\u001b[0m\u001b[1;33m,\u001b[0m \u001b[0mcls\u001b[0m\u001b[1;33m,\u001b[0m \u001b[0mname\u001b[0m\u001b[1;33m,\u001b[0m \u001b[1;33m**\u001b[0m\u001b[0mkwargs\u001b[0m\u001b[1;33m)\u001b[0m\u001b[1;33m:\u001b[0m\u001b[1;33m\u001b[0m\u001b[0m\n",
      "\u001b[1;31mTypeError\u001b[0m: int() argument must be a string, a bytes-like object or a number, not 'list'"
     ]
    }
   ],
   "source": [
    "Card.objects.get(name='Woolly Thoctar', colours=[Colour.white(), Colour.blue()])"
   ]
  },
  {
   "cell_type": "code",
   "execution_count": 45,
   "metadata": {},
   "outputs": [
    {
     "ename": "ValueError",
     "evalue": "too many values to unpack (expected 2)",
     "output_type": "error",
     "traceback": [
      "\u001b[1;31m---------------------------------------------------------------------------\u001b[0m",
      "\u001b[1;31mValueError\u001b[0m                                Traceback (most recent call last)",
      "\u001b[1;32m<ipython-input-45-aa97a9127e75>\u001b[0m in \u001b[0;36m<module>\u001b[1;34m()\u001b[0m\n\u001b[0;32m      1\u001b[0m \u001b[0mcard_name\u001b[0m \u001b[1;33m=\u001b[0m \u001b[1;34m'Glory Seeker'\u001b[0m\u001b[1;33m\u001b[0m\u001b[0m\n\u001b[1;32m----> 2\u001b[1;33m \u001b[0mCard\u001b[0m\u001b[1;33m.\u001b[0m\u001b[0mobjects\u001b[0m\u001b[1;33m.\u001b[0m\u001b[0mfilter\u001b[0m\u001b[1;33m(\u001b[0m\u001b[0mcard_name\u001b[0m\u001b[1;33m)\u001b[0m\u001b[1;33m\u001b[0m\u001b[0m\n\u001b[0m",
      "\u001b[1;32m~\\Projects\\sylvan_library\\sylvan_env\\lib\\site-packages\\django\\db\\models\\manager.py\u001b[0m in \u001b[0;36mmanager_method\u001b[1;34m(self, *args, **kwargs)\u001b[0m\n\u001b[0;32m     83\u001b[0m         \u001b[1;32mdef\u001b[0m \u001b[0mcreate_method\u001b[0m\u001b[1;33m(\u001b[0m\u001b[0mname\u001b[0m\u001b[1;33m,\u001b[0m \u001b[0mmethod\u001b[0m\u001b[1;33m)\u001b[0m\u001b[1;33m:\u001b[0m\u001b[1;33m\u001b[0m\u001b[0m\n\u001b[0;32m     84\u001b[0m             \u001b[1;32mdef\u001b[0m \u001b[0mmanager_method\u001b[0m\u001b[1;33m(\u001b[0m\u001b[0mself\u001b[0m\u001b[1;33m,\u001b[0m \u001b[1;33m*\u001b[0m\u001b[0margs\u001b[0m\u001b[1;33m,\u001b[0m \u001b[1;33m**\u001b[0m\u001b[0mkwargs\u001b[0m\u001b[1;33m)\u001b[0m\u001b[1;33m:\u001b[0m\u001b[1;33m\u001b[0m\u001b[0m\n\u001b[1;32m---> 85\u001b[1;33m                 \u001b[1;32mreturn\u001b[0m \u001b[0mgetattr\u001b[0m\u001b[1;33m(\u001b[0m\u001b[0mself\u001b[0m\u001b[1;33m.\u001b[0m\u001b[0mget_queryset\u001b[0m\u001b[1;33m(\u001b[0m\u001b[1;33m)\u001b[0m\u001b[1;33m,\u001b[0m \u001b[0mname\u001b[0m\u001b[1;33m)\u001b[0m\u001b[1;33m(\u001b[0m\u001b[1;33m*\u001b[0m\u001b[0margs\u001b[0m\u001b[1;33m,\u001b[0m \u001b[1;33m**\u001b[0m\u001b[0mkwargs\u001b[0m\u001b[1;33m)\u001b[0m\u001b[1;33m\u001b[0m\u001b[0m\n\u001b[0m\u001b[0;32m     86\u001b[0m             \u001b[0mmanager_method\u001b[0m\u001b[1;33m.\u001b[0m\u001b[0m__name__\u001b[0m \u001b[1;33m=\u001b[0m \u001b[0mmethod\u001b[0m\u001b[1;33m.\u001b[0m\u001b[0m__name__\u001b[0m\u001b[1;33m\u001b[0m\u001b[0m\n\u001b[0;32m     87\u001b[0m             \u001b[0mmanager_method\u001b[0m\u001b[1;33m.\u001b[0m\u001b[0m__doc__\u001b[0m \u001b[1;33m=\u001b[0m \u001b[0mmethod\u001b[0m\u001b[1;33m.\u001b[0m\u001b[0m__doc__\u001b[0m\u001b[1;33m\u001b[0m\u001b[0m\n",
      "\u001b[1;32m~\\Projects\\sylvan_library\\sylvan_env\\lib\\site-packages\\django\\db\\models\\query.py\u001b[0m in \u001b[0;36mfilter\u001b[1;34m(self, *args, **kwargs)\u001b[0m\n\u001b[0;32m    782\u001b[0m         \u001b[0mset\u001b[0m\u001b[1;33m.\u001b[0m\u001b[1;33m\u001b[0m\u001b[0m\n\u001b[0;32m    783\u001b[0m         \"\"\"\n\u001b[1;32m--> 784\u001b[1;33m         \u001b[1;32mreturn\u001b[0m \u001b[0mself\u001b[0m\u001b[1;33m.\u001b[0m\u001b[0m_filter_or_exclude\u001b[0m\u001b[1;33m(\u001b[0m\u001b[1;32mFalse\u001b[0m\u001b[1;33m,\u001b[0m \u001b[1;33m*\u001b[0m\u001b[0margs\u001b[0m\u001b[1;33m,\u001b[0m \u001b[1;33m**\u001b[0m\u001b[0mkwargs\u001b[0m\u001b[1;33m)\u001b[0m\u001b[1;33m\u001b[0m\u001b[0m\n\u001b[0m\u001b[0;32m    785\u001b[0m \u001b[1;33m\u001b[0m\u001b[0m\n\u001b[0;32m    786\u001b[0m     \u001b[1;32mdef\u001b[0m \u001b[0mexclude\u001b[0m\u001b[1;33m(\u001b[0m\u001b[0mself\u001b[0m\u001b[1;33m,\u001b[0m \u001b[1;33m*\u001b[0m\u001b[0margs\u001b[0m\u001b[1;33m,\u001b[0m \u001b[1;33m**\u001b[0m\u001b[0mkwargs\u001b[0m\u001b[1;33m)\u001b[0m\u001b[1;33m:\u001b[0m\u001b[1;33m\u001b[0m\u001b[0m\n",
      "\u001b[1;32m~\\Projects\\sylvan_library\\sylvan_env\\lib\\site-packages\\django\\db\\models\\query.py\u001b[0m in \u001b[0;36m_filter_or_exclude\u001b[1;34m(self, negate, *args, **kwargs)\u001b[0m\n\u001b[0;32m    800\u001b[0m             \u001b[0mclone\u001b[0m\u001b[1;33m.\u001b[0m\u001b[0mquery\u001b[0m\u001b[1;33m.\u001b[0m\u001b[0madd_q\u001b[0m\u001b[1;33m(\u001b[0m\u001b[1;33m~\u001b[0m\u001b[0mQ\u001b[0m\u001b[1;33m(\u001b[0m\u001b[1;33m*\u001b[0m\u001b[0margs\u001b[0m\u001b[1;33m,\u001b[0m \u001b[1;33m**\u001b[0m\u001b[0mkwargs\u001b[0m\u001b[1;33m)\u001b[0m\u001b[1;33m)\u001b[0m\u001b[1;33m\u001b[0m\u001b[0m\n\u001b[0;32m    801\u001b[0m         \u001b[1;32melse\u001b[0m\u001b[1;33m:\u001b[0m\u001b[1;33m\u001b[0m\u001b[0m\n\u001b[1;32m--> 802\u001b[1;33m             \u001b[0mclone\u001b[0m\u001b[1;33m.\u001b[0m\u001b[0mquery\u001b[0m\u001b[1;33m.\u001b[0m\u001b[0madd_q\u001b[0m\u001b[1;33m(\u001b[0m\u001b[0mQ\u001b[0m\u001b[1;33m(\u001b[0m\u001b[1;33m*\u001b[0m\u001b[0margs\u001b[0m\u001b[1;33m,\u001b[0m \u001b[1;33m**\u001b[0m\u001b[0mkwargs\u001b[0m\u001b[1;33m)\u001b[0m\u001b[1;33m)\u001b[0m\u001b[1;33m\u001b[0m\u001b[0m\n\u001b[0m\u001b[0;32m    803\u001b[0m         \u001b[1;32mreturn\u001b[0m \u001b[0mclone\u001b[0m\u001b[1;33m\u001b[0m\u001b[0m\n\u001b[0;32m    804\u001b[0m \u001b[1;33m\u001b[0m\u001b[0m\n",
      "\u001b[1;32m~\\Projects\\sylvan_library\\sylvan_env\\lib\\site-packages\\django\\db\\models\\sql\\query.py\u001b[0m in \u001b[0;36madd_q\u001b[1;34m(self, q_object)\u001b[0m\n\u001b[0;32m   1248\u001b[0m         existing_inner = set(\n\u001b[0;32m   1249\u001b[0m             (a for a in self.alias_map if self.alias_map[a].join_type == INNER))\n\u001b[1;32m-> 1250\u001b[1;33m         \u001b[0mclause\u001b[0m\u001b[1;33m,\u001b[0m \u001b[0m_\u001b[0m \u001b[1;33m=\u001b[0m \u001b[0mself\u001b[0m\u001b[1;33m.\u001b[0m\u001b[0m_add_q\u001b[0m\u001b[1;33m(\u001b[0m\u001b[0mq_object\u001b[0m\u001b[1;33m,\u001b[0m \u001b[0mself\u001b[0m\u001b[1;33m.\u001b[0m\u001b[0mused_aliases\u001b[0m\u001b[1;33m)\u001b[0m\u001b[1;33m\u001b[0m\u001b[0m\n\u001b[0m\u001b[0;32m   1251\u001b[0m         \u001b[1;32mif\u001b[0m \u001b[0mclause\u001b[0m\u001b[1;33m:\u001b[0m\u001b[1;33m\u001b[0m\u001b[0m\n\u001b[0;32m   1252\u001b[0m             \u001b[0mself\u001b[0m\u001b[1;33m.\u001b[0m\u001b[0mwhere\u001b[0m\u001b[1;33m.\u001b[0m\u001b[0madd\u001b[0m\u001b[1;33m(\u001b[0m\u001b[0mclause\u001b[0m\u001b[1;33m,\u001b[0m \u001b[0mAND\u001b[0m\u001b[1;33m)\u001b[0m\u001b[1;33m\u001b[0m\u001b[0m\n",
      "\u001b[1;32m~\\Projects\\sylvan_library\\sylvan_env\\lib\\site-packages\\django\\db\\models\\sql\\query.py\u001b[0m in \u001b[0;36m_add_q\u001b[1;34m(self, q_object, used_aliases, branch_negated, current_negated, allow_joins, split_subq)\u001b[0m\n\u001b[0;32m   1274\u001b[0m                     \u001b[0mchild\u001b[0m\u001b[1;33m,\u001b[0m \u001b[0mcan_reuse\u001b[0m\u001b[1;33m=\u001b[0m\u001b[0mused_aliases\u001b[0m\u001b[1;33m,\u001b[0m \u001b[0mbranch_negated\u001b[0m\u001b[1;33m=\u001b[0m\u001b[0mbranch_negated\u001b[0m\u001b[1;33m,\u001b[0m\u001b[1;33m\u001b[0m\u001b[0m\n\u001b[0;32m   1275\u001b[0m                     \u001b[0mcurrent_negated\u001b[0m\u001b[1;33m=\u001b[0m\u001b[0mcurrent_negated\u001b[0m\u001b[1;33m,\u001b[0m \u001b[0mconnector\u001b[0m\u001b[1;33m=\u001b[0m\u001b[0mconnector\u001b[0m\u001b[1;33m,\u001b[0m\u001b[1;33m\u001b[0m\u001b[0m\n\u001b[1;32m-> 1276\u001b[1;33m                     \u001b[0mallow_joins\u001b[0m\u001b[1;33m=\u001b[0m\u001b[0mallow_joins\u001b[0m\u001b[1;33m,\u001b[0m \u001b[0msplit_subq\u001b[0m\u001b[1;33m=\u001b[0m\u001b[0msplit_subq\u001b[0m\u001b[1;33m,\u001b[0m\u001b[1;33m\u001b[0m\u001b[0m\n\u001b[0m\u001b[0;32m   1277\u001b[0m                 )\n\u001b[0;32m   1278\u001b[0m                 \u001b[0mjoinpromoter\u001b[0m\u001b[1;33m.\u001b[0m\u001b[0madd_votes\u001b[0m\u001b[1;33m(\u001b[0m\u001b[0mneeded_inner\u001b[0m\u001b[1;33m)\u001b[0m\u001b[1;33m\u001b[0m\u001b[0m\n",
      "\u001b[1;32m~\\Projects\\sylvan_library\\sylvan_env\\lib\\site-packages\\django\\db\\models\\sql\\query.py\u001b[0m in \u001b[0;36mbuild_filter\u001b[1;34m(self, filter_expr, branch_negated, current_negated, can_reuse, connector, allow_joins, split_subq)\u001b[0m\n\u001b[0;32m   1149\u001b[0m         \u001b[1;32mif\u001b[0m \u001b[0misinstance\u001b[0m\u001b[1;33m(\u001b[0m\u001b[0mfilter_expr\u001b[0m\u001b[1;33m,\u001b[0m \u001b[0mdict\u001b[0m\u001b[1;33m)\u001b[0m\u001b[1;33m:\u001b[0m\u001b[1;33m\u001b[0m\u001b[0m\n\u001b[0;32m   1150\u001b[0m             \u001b[1;32mraise\u001b[0m \u001b[0mFieldError\u001b[0m\u001b[1;33m(\u001b[0m\u001b[1;34m\"Cannot parse keyword query as dict\"\u001b[0m\u001b[1;33m)\u001b[0m\u001b[1;33m\u001b[0m\u001b[0m\n\u001b[1;32m-> 1151\u001b[1;33m         \u001b[0marg\u001b[0m\u001b[1;33m,\u001b[0m \u001b[0mvalue\u001b[0m \u001b[1;33m=\u001b[0m \u001b[0mfilter_expr\u001b[0m\u001b[1;33m\u001b[0m\u001b[0m\n\u001b[0m\u001b[0;32m   1152\u001b[0m         \u001b[1;32mif\u001b[0m \u001b[1;32mnot\u001b[0m \u001b[0marg\u001b[0m\u001b[1;33m:\u001b[0m\u001b[1;33m\u001b[0m\u001b[0m\n\u001b[0;32m   1153\u001b[0m             \u001b[1;32mraise\u001b[0m \u001b[0mFieldError\u001b[0m\u001b[1;33m(\u001b[0m\u001b[1;34m\"Cannot parse keyword query %r\"\u001b[0m \u001b[1;33m%\u001b[0m \u001b[0marg\u001b[0m\u001b[1;33m)\u001b[0m\u001b[1;33m\u001b[0m\u001b[0m\n",
      "\u001b[1;31mValueError\u001b[0m: too many values to unpack (expected 2)"
     ]
    }
   ],
   "source": [
    "card_name = 'Glory Seeker'\n",
    "Card.objects.filter(card_name)"
   ]
  },
  {
   "cell_type": "code",
   "execution_count": 49,
   "metadata": {},
   "outputs": [
    {
     "data": {
      "text/plain": [
       "<QuerySet [<Colour: White>]>"
      ]
     },
     "execution_count": 49,
     "metadata": {},
     "output_type": "execute_result"
    }
   ],
   "source": [
    "Card.objects.get(name=card_name).colours.order_by('display_order').all()"
   ]
  },
  {
   "cell_type": "code",
   "execution_count": null,
   "metadata": {},
   "outputs": [],
   "source": []
  },
  {
   "cell_type": "code",
   "execution_count": 53,
   "metadata": {},
   "outputs": [
    {
     "data": {
      "text/plain": [
       "<QuerySet []>"
      ]
     },
     "execution_count": 53,
     "metadata": {},
     "output_type": "execute_result"
    }
   ],
   "source": [
    "Card.objects.get(name='The Scarab God').colours.all()"
   ]
  },
  {
   "cell_type": "code",
   "execution_count": 58,
   "metadata": {},
   "outputs": [
    {
     "data": {
      "text/plain": [
       "<QuerySet [<Card: Sliver Queen>, <Card: Coalition Victory>, <Card: Cromat>, <Card: Last Stand>, <Card: Atogatog>, <Card: Karona, False God>, <Card: Sliver Overlord>, <Card: Genju of the Realm>, <Card: Transguild Courier>, <Card: Scion of the Ur-Dragon>, <Card: Sliver Legion>, <Card: Horde of Notions>, <Card: Reaper King>, <Card: Child of Alara>, <Card: Conflux>, <Card: Fusion Elemental>, <Card: Maelstrom Archangel>, <Card: Progenitus>, <Card: Maelstrom Nexus>, <Card: Chromanticore>, '...(remaining elements truncated)...']>"
      ]
     },
     "execution_count": 58,
     "metadata": {},
     "output_type": "execute_result"
    }
   ],
   "source": [
    "#Card.objects.get(colours__count__gt=1)\n",
    "Card.objects.all().annotate(colour_count=Count('colours')).filter(colour_count=5)"
   ]
  },
  {
   "cell_type": "code",
   "execution_count": 1,
   "metadata": {},
   "outputs": [
    {
     "data": {
      "text/plain": [
       "<QuerySet [<Card: Alms Beast>, <Card: Anurid Brushhopper>, <Card: Bazaar Krovod>, <Card: Beast Walkers>, <Card: Bull Cerodon>, <Card: Calciderm>, <Card: Cerodon Yearling>, <Card: Dromad Purebred>, <Card: Felidar Cub>, <Card: Felidar Guardian>, <Card: Felidar Sovereign>, <Card: Flowstone Charger>, <Card: Gahiji, Honored One>, <Card: Godsire>, <Card: Great-Horn Krushok>, <Card: Kjeldoran Frostbeast>, <Card: Lexivore>, <Card: Marath, Will of the Wild>, <Card: Meglonoth>, <Card: Ondu Greathorn>, '...(remaining elements truncated)...']>"
      ]
     },
     "execution_count": 1,
     "metadata": {},
     "output_type": "execute_result"
    }
   ],
   "source": [
    "from cardsearch import simplesearch\n",
    "ss = simplesearch.SimpleSearch()\n",
    "ss.text = 'Beast'\n",
    "ss.include_types = True\n",
    "ss.colours = [Colour.white()]\n",
    "#ss.exclude_colours = True\n",
    "#ss.set = Set.objects.get(name='Zendikar')\n",
    "ss.get_query().all().order_by('name')"
   ]
  },
  {
   "cell_type": "code",
   "execution_count": 13,
   "metadata": {},
   "outputs": [
    {
     "name": "stdout",
     "output_type": "stream",
     "text": [
      "SELECT \"cards_card\".\"id\", \"cards_card\".\"name\", \"cards_card\".\"cost\", \"cards_card\".\"cmc\", \"cards_card\".\"colour_count\", \"cards_card\".\"type\", \"cards_card\".\"subtype\", \"cards_card\".\"power\", \"cards_card\".\"num_power\", \"cards_card\".\"toughness\", \"cards_card\".\"num_toughness\", \"cards_card\".\"loyalty\", \"cards_card\".\"num_loyalty\", \"cards_card\".\"hand_modifier\", \"cards_card\".\"life_modifier\", \"cards_card\".\"rules_text\", \"cards_card\".\"layout\", \"cards_card\".\"is_reserved\" FROM \"cards_card\" INNER JOIN \"cards_card_colours\" ON (\"cards_card\".\"id\" = \"cards_card_colours\".\"card_id\") WHERE (\"cards_card\".\"subtype\"::text LIKE %Beast% AND \"cards_card_colours\".\"colour_id\" = 1 AND NOT (\"cards_card\".\"id\" IN (SELECT U1.\"card_id\" AS Col1 FROM \"cards_card_colours\" U1 WHERE (U1.\"colour_id\" = 2 AND U1.\"id\" = (\"cards_card_colours\".\"id\")))) AND NOT (\"cards_card\".\"id\" IN (SELECT U1.\"card_id\" AS Col1 FROM \"cards_card_colours\" U1 WHERE (U1.\"colour_id\" = 4 AND U1.\"id\" = (\"cards_card_colours\".\"id\")))))\n"
     ]
    }
   ],
   "source": [
    "print(Card.objects.filter(Q(subtype__contains='Beast') & Q(colours=Colour.white()) & ~Q(colours=Colour.blue()) & ~Q(colours=Colour.red())).query)"
   ]
  },
  {
   "cell_type": "code",
   "execution_count": 37,
   "metadata": {},
   "outputs": [
    {
     "data": {
      "text/plain": [
       "<QuerySet [<Card: Fellwar Stone>, <Card: Apprentice Necromancer>, <Card: Crosis, the Purger>, <Card: Elfhame Palace>, <Card: Urborg Volcano>, <Card: Crosis's Charm>, <Card: Decree of Pain>, <Card: Fist of Suns>, <Card: Niv-Mizzet, the Firemind>, <Card: Jedit Ojanen of Efrava>, <Card: Exotic Orchard>, <Card: Blood Tribute>, <Card: Malakir Bloodwitch>, <Card: Blade of the Bloodchief>, <Card: Anowon, the Ruin Sage>, <Card: Captivating Vampire>, <Card: Leonin Arbiter>, <Card: Nin, the Pain Artist>, <Card: Bloodlord of Vaasgoth>, <Card: Rakish Heir>, '...(remaining elements truncated)...']>"
      ]
     },
     "execution_count": 37,
     "metadata": {},
     "output_type": "execute_result"
    }
   ],
   "source": [
    "Card.objects.exclude(printings__printed_languages__physical_cards__ownerships__owner=User.objects.get(username='Liam')).filter(printings__set=Set.objects.get(name='Commander 2017'))"
   ]
  },
  {
   "cell_type": "code",
   "execution_count": 41,
   "metadata": {},
   "outputs": [
    {
     "data": {
      "text/plain": [
       "\"Terminate, Terminate, Aven Mimeomancer, Ethersworn Shieldmage, Fieldmist Borderpost, Filigree Angel, Glassdust Hulk, Offering to Asha, Sanctum Plowbeast, Stormcaller's Boon, Talon Trooper, Unbender Tine, Wall of Denial, Wall of Denial, Architects of Will, Brainbite, Deny Reality, Etherium Abomination, Jhessian Zombies, Mask of Riddles, Soul Manipulation, Vedalken Ghoul, Anathemancer, Bituminous Blast, Breath of Malfegor, Demonic Dread, Demonspine Whip, Igneous Pouncer, Kathari Bomber, Monstrous Carabid, Singe-Mind Ogre, Veinfire Borderpost, Bloodbraid Elf, Colossal Might, Colossal Might, Deadshot Minotaur, Firewild Borderpost, Godtracker of Jund, Gorger Wurm, Mage Slayer, Mage Slayer, Rhox Brute, Spellbreaker Behemoth, Valley Rannet, Vengeful Rebirth, Violent Outburst, Vithian Renegades, Behemoth Sledge, Captured Sunlight, Enlisted Wurm, Grizzled Leotau, Knotvine Paladin, Mycoid Shepherd, Pale Recluse, Pale Recluse, Qasali Pridemage, Reborn Hope, Sigil Captain, Sigil of the Nayan Gods, Wildfield Borderpost, Vectis Dominator, Zealous Persecution, Double Negative, Magefire Wings, Skyclaw Thrash, Marrow Chomper, Morbid Bloom, Putrid Leech, Cerodon Yearling, Cerodon Yearling, Fight to the Death, Glory of Warfare, Intimidation Bolt, Stun Sniper, Lorescale Coatl, Nulltread Gargantuan, Winged Coatl, Etherwrought Page, Dragon Appeasement, Jund Sojourners, Mayael's Aria, Naya Sojourners, Retaliator Griffin, Uril, the Miststalker, Bant Sojourners, Finest Hour, Arsenal Thresher, Esper Stormblade, Thopter Foundry, Grixis Grimblade, Slave of Bolas, Jund Hackblade, Marisi's Twinclaws, Naya Hushblade, Trace of Abundance, Bant Sureblade, Crystallization, Messenger Falcons, Lavalanche, Mistvein Borderpost, Winged Coatl, Spellbreaker Behemoth, Valley Rannet, Behemoth Sledge, Drastic Revelation, Soulquake, Deathbringer Thoctar, Lightning Reaver, Madrush Cyclops, Sages of the Anima, Enigma Sphinx, Sphinx of the Steel Wind, Spellbound Dragon, Predatory Advantage, Lorescale Coatl, Blitz Hellion, Knight of New Alara, Thraximundar, Defiler of Souls, Terminate, Unscythe, Killer of Kings, Jenara, Asura of War\""
      ]
     },
     "execution_count": 41,
     "metadata": {},
     "output_type": "execute_result"
    }
   ],
   "source": [
    "', '.join([x.name for x in Card.objects.filter(Q(printings__printed_languages__physical_cards__ownerships__owner=User.objects.get(username='Liam'))).filter(printings__set=Set.objects.get(name='Alara Reborn'))])"
   ]
  },
  {
   "cell_type": "code",
   "execution_count": 52,
   "metadata": {},
   "outputs": [
    {
     "data": {
      "text/plain": [
       "<QuerySet [<Card: Forest>, <Card: Island>, <Card: Mountain>, <Card: Plains>, <Card: Swamp>, <Card: Armor Sliver>, <Card: Barbed Sliver>, <Card: Clot Sliver>, <Card: Heart Sliver>, <Card: Metallic Sliver>, <Card: Muscle Sliver>, <Card: Winged Sliver>, <Card: Acidic Sliver>, <Card: Crystalline Sliver>, <Card: Heartstone>, <Card: Hibernation Sliver>, <Card: Spined Sliver>, <Card: Victual Sliver>, <Card: Coat of Arms>, <Card: Aphetto Dredging>, '...(remaining elements truncated)...']>"
      ]
     },
     "execution_count": 52,
     "metadata": {},
     "output_type": "execute_result"
    }
   ],
   "source": [
    "Card.objects.filter(printings__set=Set.objects.get(code='H09')).all()"
   ]
  },
  {
   "cell_type": "code",
   "execution_count": 56,
   "metadata": {},
   "outputs": [
    {
     "data": {
      "text/plain": [
       "<QuerySet []>"
      ]
     },
     "execution_count": 56,
     "metadata": {},
     "output_type": "execute_result"
    }
   ],
   "source": [
    "Card.objects.filter(Q(subtype__contains='Sliver') & ~Q(printings__set=Set.objects.get(code='H09'))).filter(name='Heart Sliver')"
   ]
  },
  {
   "cell_type": "code",
   "execution_count": 15,
   "metadata": {},
   "outputs": [
    {
     "ename": "SyntaxError",
     "evalue": "unexpected EOF while parsing (<ipython-input-15-33e9925a15c5>, line 1)",
     "output_type": "error",
     "traceback": [
      "\u001b[1;36m  File \u001b[1;32m\"<ipython-input-15-33e9925a15c5>\"\u001b[1;36m, line \u001b[1;32m1\u001b[0m\n\u001b[1;33m    Card.objects.filter(Q(subtype__contains='Beast') & Q(colours=Colour.white()) & (~Q(colours=Colour.blue()) & ~Q(colours=Colour.red()))\u001b[0m\n\u001b[1;37m                                                                                                                                         ^\u001b[0m\n\u001b[1;31mSyntaxError\u001b[0m\u001b[1;31m:\u001b[0m unexpected EOF while parsing\n"
     ]
    }
   ],
   "source": [
    "Card.objects.filter(Q(subtype__contains='Beast') & Q(colours=Colour.white()) & (~Q(colours=Colour.blue()) & ~Q(colours=Colour.red())))"
   ]
  },
  {
   "cell_type": "code",
   "execution_count": 3,
   "metadata": {},
   "outputs": [
    {
     "ename": "FieldError",
     "evalue": "Related Field got invalid lookup: contains",
     "output_type": "error",
     "traceback": [
      "\u001b[1;31m---------------------------------------------------------------------------\u001b[0m",
      "\u001b[1;31mFieldError\u001b[0m                                Traceback (most recent call last)",
      "\u001b[1;32m<ipython-input-3-de006d59397e>\u001b[0m in \u001b[0;36m<module>\u001b[1;34m()\u001b[0m\n\u001b[1;32m----> 1\u001b[1;33m \u001b[0mCard\u001b[0m\u001b[1;33m.\u001b[0m\u001b[0mobjects\u001b[0m\u001b[1;33m.\u001b[0m\u001b[0mfilter\u001b[0m\u001b[1;33m(\u001b[0m\u001b[0mcolours__contains\u001b[0m\u001b[1;33m=\u001b[0m\u001b[0mColour\u001b[0m\u001b[1;33m.\u001b[0m\u001b[0mblue\u001b[0m\u001b[1;33m(\u001b[0m\u001b[1;33m)\u001b[0m\u001b[1;33m)\u001b[0m\u001b[1;33m\u001b[0m\u001b[0m\n\u001b[0m",
      "\u001b[1;32m~\\Projects\\sylvan_library\\sylvan_env\\lib\\site-packages\\django\\db\\models\\manager.py\u001b[0m in \u001b[0;36mmanager_method\u001b[1;34m(self, *args, **kwargs)\u001b[0m\n\u001b[0;32m     83\u001b[0m         \u001b[1;32mdef\u001b[0m \u001b[0mcreate_method\u001b[0m\u001b[1;33m(\u001b[0m\u001b[0mname\u001b[0m\u001b[1;33m,\u001b[0m \u001b[0mmethod\u001b[0m\u001b[1;33m)\u001b[0m\u001b[1;33m:\u001b[0m\u001b[1;33m\u001b[0m\u001b[0m\n\u001b[0;32m     84\u001b[0m             \u001b[1;32mdef\u001b[0m \u001b[0mmanager_method\u001b[0m\u001b[1;33m(\u001b[0m\u001b[0mself\u001b[0m\u001b[1;33m,\u001b[0m \u001b[1;33m*\u001b[0m\u001b[0margs\u001b[0m\u001b[1;33m,\u001b[0m \u001b[1;33m**\u001b[0m\u001b[0mkwargs\u001b[0m\u001b[1;33m)\u001b[0m\u001b[1;33m:\u001b[0m\u001b[1;33m\u001b[0m\u001b[0m\n\u001b[1;32m---> 85\u001b[1;33m                 \u001b[1;32mreturn\u001b[0m \u001b[0mgetattr\u001b[0m\u001b[1;33m(\u001b[0m\u001b[0mself\u001b[0m\u001b[1;33m.\u001b[0m\u001b[0mget_queryset\u001b[0m\u001b[1;33m(\u001b[0m\u001b[1;33m)\u001b[0m\u001b[1;33m,\u001b[0m \u001b[0mname\u001b[0m\u001b[1;33m)\u001b[0m\u001b[1;33m(\u001b[0m\u001b[1;33m*\u001b[0m\u001b[0margs\u001b[0m\u001b[1;33m,\u001b[0m \u001b[1;33m**\u001b[0m\u001b[0mkwargs\u001b[0m\u001b[1;33m)\u001b[0m\u001b[1;33m\u001b[0m\u001b[0m\n\u001b[0m\u001b[0;32m     86\u001b[0m             \u001b[0mmanager_method\u001b[0m\u001b[1;33m.\u001b[0m\u001b[0m__name__\u001b[0m \u001b[1;33m=\u001b[0m \u001b[0mmethod\u001b[0m\u001b[1;33m.\u001b[0m\u001b[0m__name__\u001b[0m\u001b[1;33m\u001b[0m\u001b[0m\n\u001b[0;32m     87\u001b[0m             \u001b[0mmanager_method\u001b[0m\u001b[1;33m.\u001b[0m\u001b[0m__doc__\u001b[0m \u001b[1;33m=\u001b[0m \u001b[0mmethod\u001b[0m\u001b[1;33m.\u001b[0m\u001b[0m__doc__\u001b[0m\u001b[1;33m\u001b[0m\u001b[0m\n",
      "\u001b[1;32m~\\Projects\\sylvan_library\\sylvan_env\\lib\\site-packages\\django\\db\\models\\query.py\u001b[0m in \u001b[0;36mfilter\u001b[1;34m(self, *args, **kwargs)\u001b[0m\n\u001b[0;32m    782\u001b[0m         \u001b[0mset\u001b[0m\u001b[1;33m.\u001b[0m\u001b[1;33m\u001b[0m\u001b[0m\n\u001b[0;32m    783\u001b[0m         \"\"\"\n\u001b[1;32m--> 784\u001b[1;33m         \u001b[1;32mreturn\u001b[0m \u001b[0mself\u001b[0m\u001b[1;33m.\u001b[0m\u001b[0m_filter_or_exclude\u001b[0m\u001b[1;33m(\u001b[0m\u001b[1;32mFalse\u001b[0m\u001b[1;33m,\u001b[0m \u001b[1;33m*\u001b[0m\u001b[0margs\u001b[0m\u001b[1;33m,\u001b[0m \u001b[1;33m**\u001b[0m\u001b[0mkwargs\u001b[0m\u001b[1;33m)\u001b[0m\u001b[1;33m\u001b[0m\u001b[0m\n\u001b[0m\u001b[0;32m    785\u001b[0m \u001b[1;33m\u001b[0m\u001b[0m\n\u001b[0;32m    786\u001b[0m     \u001b[1;32mdef\u001b[0m \u001b[0mexclude\u001b[0m\u001b[1;33m(\u001b[0m\u001b[0mself\u001b[0m\u001b[1;33m,\u001b[0m \u001b[1;33m*\u001b[0m\u001b[0margs\u001b[0m\u001b[1;33m,\u001b[0m \u001b[1;33m**\u001b[0m\u001b[0mkwargs\u001b[0m\u001b[1;33m)\u001b[0m\u001b[1;33m:\u001b[0m\u001b[1;33m\u001b[0m\u001b[0m\n",
      "\u001b[1;32m~\\Projects\\sylvan_library\\sylvan_env\\lib\\site-packages\\django\\db\\models\\query.py\u001b[0m in \u001b[0;36m_filter_or_exclude\u001b[1;34m(self, negate, *args, **kwargs)\u001b[0m\n\u001b[0;32m    800\u001b[0m             \u001b[0mclone\u001b[0m\u001b[1;33m.\u001b[0m\u001b[0mquery\u001b[0m\u001b[1;33m.\u001b[0m\u001b[0madd_q\u001b[0m\u001b[1;33m(\u001b[0m\u001b[1;33m~\u001b[0m\u001b[0mQ\u001b[0m\u001b[1;33m(\u001b[0m\u001b[1;33m*\u001b[0m\u001b[0margs\u001b[0m\u001b[1;33m,\u001b[0m \u001b[1;33m**\u001b[0m\u001b[0mkwargs\u001b[0m\u001b[1;33m)\u001b[0m\u001b[1;33m)\u001b[0m\u001b[1;33m\u001b[0m\u001b[0m\n\u001b[0;32m    801\u001b[0m         \u001b[1;32melse\u001b[0m\u001b[1;33m:\u001b[0m\u001b[1;33m\u001b[0m\u001b[0m\n\u001b[1;32m--> 802\u001b[1;33m             \u001b[0mclone\u001b[0m\u001b[1;33m.\u001b[0m\u001b[0mquery\u001b[0m\u001b[1;33m.\u001b[0m\u001b[0madd_q\u001b[0m\u001b[1;33m(\u001b[0m\u001b[0mQ\u001b[0m\u001b[1;33m(\u001b[0m\u001b[1;33m*\u001b[0m\u001b[0margs\u001b[0m\u001b[1;33m,\u001b[0m \u001b[1;33m**\u001b[0m\u001b[0mkwargs\u001b[0m\u001b[1;33m)\u001b[0m\u001b[1;33m)\u001b[0m\u001b[1;33m\u001b[0m\u001b[0m\n\u001b[0m\u001b[0;32m    803\u001b[0m         \u001b[1;32mreturn\u001b[0m \u001b[0mclone\u001b[0m\u001b[1;33m\u001b[0m\u001b[0m\n\u001b[0;32m    804\u001b[0m \u001b[1;33m\u001b[0m\u001b[0m\n",
      "\u001b[1;32m~\\Projects\\sylvan_library\\sylvan_env\\lib\\site-packages\\django\\db\\models\\sql\\query.py\u001b[0m in \u001b[0;36madd_q\u001b[1;34m(self, q_object)\u001b[0m\n\u001b[0;32m   1248\u001b[0m         existing_inner = set(\n\u001b[0;32m   1249\u001b[0m             (a for a in self.alias_map if self.alias_map[a].join_type == INNER))\n\u001b[1;32m-> 1250\u001b[1;33m         \u001b[0mclause\u001b[0m\u001b[1;33m,\u001b[0m \u001b[0m_\u001b[0m \u001b[1;33m=\u001b[0m \u001b[0mself\u001b[0m\u001b[1;33m.\u001b[0m\u001b[0m_add_q\u001b[0m\u001b[1;33m(\u001b[0m\u001b[0mq_object\u001b[0m\u001b[1;33m,\u001b[0m \u001b[0mself\u001b[0m\u001b[1;33m.\u001b[0m\u001b[0mused_aliases\u001b[0m\u001b[1;33m)\u001b[0m\u001b[1;33m\u001b[0m\u001b[0m\n\u001b[0m\u001b[0;32m   1251\u001b[0m         \u001b[1;32mif\u001b[0m \u001b[0mclause\u001b[0m\u001b[1;33m:\u001b[0m\u001b[1;33m\u001b[0m\u001b[0m\n\u001b[0;32m   1252\u001b[0m             \u001b[0mself\u001b[0m\u001b[1;33m.\u001b[0m\u001b[0mwhere\u001b[0m\u001b[1;33m.\u001b[0m\u001b[0madd\u001b[0m\u001b[1;33m(\u001b[0m\u001b[0mclause\u001b[0m\u001b[1;33m,\u001b[0m \u001b[0mAND\u001b[0m\u001b[1;33m)\u001b[0m\u001b[1;33m\u001b[0m\u001b[0m\n",
      "\u001b[1;32m~\\Projects\\sylvan_library\\sylvan_env\\lib\\site-packages\\django\\db\\models\\sql\\query.py\u001b[0m in \u001b[0;36m_add_q\u001b[1;34m(self, q_object, used_aliases, branch_negated, current_negated, allow_joins, split_subq)\u001b[0m\n\u001b[0;32m   1274\u001b[0m                     \u001b[0mchild\u001b[0m\u001b[1;33m,\u001b[0m \u001b[0mcan_reuse\u001b[0m\u001b[1;33m=\u001b[0m\u001b[0mused_aliases\u001b[0m\u001b[1;33m,\u001b[0m \u001b[0mbranch_negated\u001b[0m\u001b[1;33m=\u001b[0m\u001b[0mbranch_negated\u001b[0m\u001b[1;33m,\u001b[0m\u001b[1;33m\u001b[0m\u001b[0m\n\u001b[0;32m   1275\u001b[0m                     \u001b[0mcurrent_negated\u001b[0m\u001b[1;33m=\u001b[0m\u001b[0mcurrent_negated\u001b[0m\u001b[1;33m,\u001b[0m \u001b[0mconnector\u001b[0m\u001b[1;33m=\u001b[0m\u001b[0mconnector\u001b[0m\u001b[1;33m,\u001b[0m\u001b[1;33m\u001b[0m\u001b[0m\n\u001b[1;32m-> 1276\u001b[1;33m                     \u001b[0mallow_joins\u001b[0m\u001b[1;33m=\u001b[0m\u001b[0mallow_joins\u001b[0m\u001b[1;33m,\u001b[0m \u001b[0msplit_subq\u001b[0m\u001b[1;33m=\u001b[0m\u001b[0msplit_subq\u001b[0m\u001b[1;33m,\u001b[0m\u001b[1;33m\u001b[0m\u001b[0m\n\u001b[0m\u001b[0;32m   1277\u001b[0m                 )\n\u001b[0;32m   1278\u001b[0m                 \u001b[0mjoinpromoter\u001b[0m\u001b[1;33m.\u001b[0m\u001b[0madd_votes\u001b[0m\u001b[1;33m(\u001b[0m\u001b[0mneeded_inner\u001b[0m\u001b[1;33m)\u001b[0m\u001b[1;33m\u001b[0m\u001b[0m\n",
      "\u001b[1;32m~\\Projects\\sylvan_library\\sylvan_env\\lib\\site-packages\\django\\db\\models\\sql\\query.py\u001b[0m in \u001b[0;36mbuild_filter\u001b[1;34m(self, filter_expr, branch_negated, current_negated, can_reuse, connector, allow_joins, split_subq)\u001b[0m\n\u001b[0;32m   1199\u001b[0m             \u001b[0mlookup_class\u001b[0m \u001b[1;33m=\u001b[0m \u001b[0mfield\u001b[0m\u001b[1;33m.\u001b[0m\u001b[0mget_lookup\u001b[0m\u001b[1;33m(\u001b[0m\u001b[0mlookups\u001b[0m\u001b[1;33m[\u001b[0m\u001b[1;36m0\u001b[0m\u001b[1;33m]\u001b[0m\u001b[1;33m)\u001b[0m\u001b[1;33m\u001b[0m\u001b[0m\n\u001b[0;32m   1200\u001b[0m             \u001b[1;32mif\u001b[0m \u001b[0mlookup_class\u001b[0m \u001b[1;32mis\u001b[0m \u001b[1;32mNone\u001b[0m\u001b[1;33m:\u001b[0m\u001b[1;33m\u001b[0m\u001b[0m\n\u001b[1;32m-> 1201\u001b[1;33m                 \u001b[1;32mraise\u001b[0m \u001b[0mFieldError\u001b[0m\u001b[1;33m(\u001b[0m\u001b[1;34m'Related Field got invalid lookup: {}'\u001b[0m\u001b[1;33m.\u001b[0m\u001b[0mformat\u001b[0m\u001b[1;33m(\u001b[0m\u001b[0mlookups\u001b[0m\u001b[1;33m[\u001b[0m\u001b[1;36m0\u001b[0m\u001b[1;33m]\u001b[0m\u001b[1;33m)\u001b[0m\u001b[1;33m)\u001b[0m\u001b[1;33m\u001b[0m\u001b[0m\n\u001b[0m\u001b[0;32m   1202\u001b[0m             \u001b[1;32mif\u001b[0m \u001b[0mlen\u001b[0m\u001b[1;33m(\u001b[0m\u001b[0mtargets\u001b[0m\u001b[1;33m)\u001b[0m \u001b[1;33m==\u001b[0m \u001b[1;36m1\u001b[0m\u001b[1;33m:\u001b[0m\u001b[1;33m\u001b[0m\u001b[0m\n\u001b[0;32m   1203\u001b[0m                 \u001b[0mlhs\u001b[0m \u001b[1;33m=\u001b[0m \u001b[0mtargets\u001b[0m\u001b[1;33m[\u001b[0m\u001b[1;36m0\u001b[0m\u001b[1;33m]\u001b[0m\u001b[1;33m.\u001b[0m\u001b[0mget_col\u001b[0m\u001b[1;33m(\u001b[0m\u001b[0malias\u001b[0m\u001b[1;33m,\u001b[0m \u001b[0mfield\u001b[0m\u001b[1;33m)\u001b[0m\u001b[1;33m\u001b[0m\u001b[0m\n",
      "\u001b[1;31mFieldError\u001b[0m: Related Field got invalid lookup: contains"
     ]
    }
   ],
   "source": [
    "Card.objects.filter(colours__contains=Colour.blue())"
   ]
  },
  {
   "cell_type": "code",
   "execution_count": 3,
   "metadata": {},
   "outputs": [
    {
     "data": {
      "text/plain": [
       "\"Sekki, Seasons' Guide; Scornful Egotist; Phyrexian Dreadnought; Ormendahl, Profane Prince; Naya Soulbeast; Kraken; Gigantomancer; Death's Shadow; Cognivore; Broodstar; Arcbound Overseer\""
      ]
     },
     "execution_count": 3,
     "metadata": {},
     "output_type": "execute_result"
    }
   ],
   "source": [
    "from cardsearch.cardsearch import *\n",
    "cs = CardSearch()\n",
    "#cs.root_parameter.add_parameter(CardSubtypeParameter('beast'))\n",
    "#cs.root_parameter.add_parameter(CardSetParameter(Set.objects.get(code='C17')))\n",
    "root = cs.root_parameter# = OrParameterNode()\n",
    "o = root.add_parameter(OrParameterNode())\n",
    "p1 = o.add_parameter(AndParameterNode())\n",
    "p2 = o.add_parameter(AndParameterNode())\n",
    "p1.add_parameter(CardNumPowerParameter(1, '<='))\n",
    "p1.add_parameter(CardCmcParameter(8, '>='))\n",
    "#p1.add_parameter(CardTypeParameter('Creature'))\n",
    "p2.add_parameter(CardNumPowerParameter(8, '>='))\n",
    "p2.add_parameter(CardCmcParameter(1, '<='))\n",
    "root.add_parameter(CardTypeParameter('Creature'))\n",
    "#p = CardOwnerParameter(User.objects.get(username='Liam'))\n",
    "#p.boolean_flag = False\n",
    "#cs.root_parameter.add_parameter(p)\n",
    "cs.add_sort_order(CardNameSortOrder(True))\n",
    "'; '.join([x.name for x in cs.result_search().all()])\n",
    "#str(cs.result_search().query)\n",
    "#cs.result_search().count()"
   ]
  },
  {
   "cell_type": "code",
   "execution_count": 32,
   "metadata": {},
   "outputs": [
    {
     "data": {
      "text/plain": [
       "61"
      ]
     },
     "execution_count": 32,
     "metadata": {},
     "output_type": "execute_result"
    }
   ],
   "source": [
    "Card.objects.filter(Q(printings__set=Set.objects.get(code='C17'))).\\\n",
    "exclude(printings__printed_languages__physical_cards__ownerships__owner=User.objects.get(username='Liam')).count()"
   ]
  },
  {
   "cell_type": "code",
   "execution_count": 39,
   "metadata": {},
   "outputs": [
    {
     "data": {
      "text/plain": [
       "<QuerySet [<Card: Wirewood Savage>]>"
      ]
     },
     "execution_count": 39,
     "metadata": {},
     "output_type": "execute_result"
    }
   ],
   "source": [
    "Card.objects.filter(name__icontains='wirewood') & (Card.objects.filter(subtype__icontains='Beast') | Card.objects.filter(rules_text__icontains='Beast'))"
   ]
  },
  {
   "cell_type": "code",
   "execution_count": 43,
   "metadata": {},
   "outputs": [
    {
     "data": {
      "text/plain": [
       "<QuerySet [<Card: Knight of the Kitchen Sink>, <Card: Very Cryptic Command>, <Card: Ineffable Blessing>, <Card: Everythingamajig>, <Card: Deadfall>, <Card: Glyph of Delusion>, <Card: Glyph of Doom>, <Card: Sylvan Paradise>, <Card: Curse of Marit Lage>, <Card: Melting>, <Card: Aysen Abbey>, <Card: Reparations>, <Card: Vampiric Feast>, <Card: Sakashima the Impostor Avatar>, <Card: Mirri the Cursed Avatar>, <Card: Infernal Tribute>, <Card: Mishra's Helix>, <Card: Fevered Convulsions>, <Card: Ertai, Wizard Adept>, <Card: Onslaught>, '...(remaining elements truncated)...']>"
      ]
     },
     "execution_count": 43,
     "metadata": {},
     "output_type": "execute_result"
    }
   ],
   "source": [
    "Card.objects.all().exclude(type='Creature')"
   ]
  },
  {
   "cell_type": "code",
   "execution_count": 4,
   "metadata": {},
   "outputs": [
    {
     "data": {
      "text/plain": [
       "<QuerySet [<Card: Very Cryptic Command>, <Card: Ineffable Blessing>, <Card: Everythingamajig>, <Card: Deadfall>, <Card: Glyph of Delusion>, <Card: Glyph of Doom>, <Card: Sylvan Paradise>, <Card: Curse of Marit Lage>, <Card: Melting>, <Card: Aysen Abbey>, <Card: Reparations>, <Card: Vampiric Feast>, <Card: Sakashima the Impostor Avatar>, <Card: Mirri the Cursed Avatar>, <Card: Infernal Tribute>, <Card: Mishra's Helix>, <Card: Fevered Convulsions>, <Card: Onslaught>, <Card: Prismatic Wardrobe>, <Card: Mirror Gallery>, '...(remaining elements truncated)...']>"
      ]
     },
     "execution_count": 4,
     "metadata": {},
     "output_type": "execute_result"
    }
   ],
   "source": [
    "from cardsearch.cardsearch import *\n",
    "CardNumPowerParameter(0, '=').get_result().all()"
   ]
  },
  {
   "cell_type": "code",
   "execution_count": 60,
   "metadata": {},
   "outputs": [
    {
     "name": "stdout",
     "output_type": "stream",
     "text": [
      "a:3 b:3 eq:True\n"
     ]
    },
    {
     "data": {
      "text/plain": [
       "<QuerySet [<Card: Johan>, <Card: Civic Guildmage>, <Card: Oracle en-Vec>, <Card: Keeper of the Light>, <Card: Jasmine Seer>, <Card: Benalish Emissary>, <Card: Sunscape Apprentice>, <Card: Sunscape Master>, <Card: Kangee, Aerie Keeper>, <Card: Disciple of Kangee>, <Card: Ertai, the Corrupted>, <Card: Dega Disciple>, <Card: Shieldmage Elder>, <Card: Leonin Battlemage>, <Card: Auriok Windwalker>, <Card: Kitsune Riftwalker>, <Card: Spelltithe Enforcer>, <Card: Azorius Aethermage>, <Card: Magus of the Disk>, <Card: Mangara of Corondor>, '...(remaining elements truncated)...']>"
      ]
     },
     "execution_count": 60,
     "metadata": {},
     "output_type": "execute_result"
    }
   ],
   "source": [
    "a = Card.objects.get(name='Court Hussar').colour_identity_flags\n",
    "b = Card.colour_identity_flags.white | Card.colour_identity_flags.blue\n",
    "print('a:' + str(a) + ' b:' + str(b) + ' eq:' + str(int(a) == b))\n",
    "Card.objects.filter(colour_flags=Card.colour_flags.white).filter(name__icontains='azorius').exclude(colour_flags=Card.colour_flags.blue)\n",
    "Card.objects.filter(subtype__icontains='wizard').filter(colour_flags=Card.colour_flags.white)"
   ]
  },
  {
   "cell_type": "raw",
   "metadata": {},
   "source": []
  },
  {
   "cell_type": "code",
   "execution_count": 5,
   "metadata": {},
   "outputs": [
    {
     "ename": "TypeError",
     "evalue": "bad operand type for unary ~: 'BitFieldFlags'",
     "output_type": "error",
     "traceback": [
      "\u001b[1;31m---------------------------------------------------------------------------\u001b[0m",
      "\u001b[1;31mTypeError\u001b[0m                                 Traceback (most recent call last)",
      "\u001b[1;32m<ipython-input-5-044771fe98fe>\u001b[0m in \u001b[0;36m<module>\u001b[1;34m()\u001b[0m\n\u001b[0;32m      1\u001b[0m \u001b[0mc\u001b[0m \u001b[1;33m=\u001b[0m \u001b[0mCard\u001b[0m\u001b[1;33m(\u001b[0m\u001b[1;33m)\u001b[0m\u001b[1;33m\u001b[0m\u001b[0m\n\u001b[0;32m      2\u001b[0m \u001b[1;31m#c.colour_identity_flags = Card.colour_identity_flags.white.and(Card.colour_identity_flags.blue)\u001b[0m\u001b[1;33m\u001b[0m\u001b[1;33m\u001b[0m\u001b[0m\n\u001b[1;32m----> 3\u001b[1;33m \u001b[1;33m~\u001b[0m\u001b[0mCard\u001b[0m\u001b[1;33m.\u001b[0m\u001b[0mcolour_identity_flags\u001b[0m\u001b[1;33m\u001b[0m\u001b[0m\n\u001b[0m",
      "\u001b[1;31mTypeError\u001b[0m: bad operand type for unary ~: 'BitFieldFlags'"
     ]
    }
   ],
   "source": [
    "c = Card()\n",
    "#c.colour_identity_flags = Card.colour_identity_flags.white.and(Card.colour_identity_flags.blue)\n",
    "~Card.colour_identity_flags"
   ]
  },
  {
   "cell_type": "code",
   "execution_count": 9,
   "metadata": {},
   "outputs": [
    {
     "data": {
      "text/plain": [
       "<BitHandler: white=False, blue=False, black=False, red=False, green=False>"
      ]
     },
     "execution_count": 9,
     "metadata": {},
     "output_type": "execute_result"
    }
   ],
   "source": [
    "Card.objects.get(name='Bosh, Iron Golem').colour_flags"
   ]
  },
  {
   "cell_type": "code",
   "execution_count": 22,
   "metadata": {},
   "outputs": [
    {
     "data": {
      "text/plain": [
       "<BitHandler: white=True, blue=False, black=False, red=False, green=False>"
      ]
     },
     "execution_count": 22,
     "metadata": {},
     "output_type": "execute_result"
    }
   ],
   "source": [
    "Card.objects.get(name='Brisela, Voice of Nightmares').colour_identity_flags"
   ]
  },
  {
   "cell_type": "code",
   "execution_count": 1,
   "metadata": {},
   "outputs": [
    {
     "data": {
      "text/plain": [
       "<QuerySet [<Card: Jin-Gitaxias, Core Augur>, <Card: Vorinclex, Voice of Hunger>, <Card: Chancellor of the Tangle>, <Card: Maul Splicer>, <Card: Chancellor of the Forge>, <Card: Chancellor of the Dross>, <Card: Ichor Explosion>, <Card: Sheoldred, Whispering One>, <Card: Chancellor of the Spires>, <Card: Phyrexian Ingester>, <Card: Chancellor of the Annex>, <Card: Elesh Norn, Grand Cenobite>, <Card: Karn Liberated>, <Card: Phyrexian Swarmlord>, <Card: Spinebiter>, <Card: Thundering Tanadon>, <Card: Brutalizer Exarch>, <Card: Flameborn Viron>, <Card: Moltensteel Dragon>, <Card: Enslave>, '...(remaining elements truncated)...']>"
      ]
     },
     "execution_count": 1,
     "metadata": {},
     "output_type": "execute_result"
    }
   ],
   "source": [
    "from cardsearch.cardsearch import *\n",
    "cs = CardSearch()\n",
    "nph = Set.objects.get(code='NPH')\n",
    "cs.root_parameter.add_parameter(CardSetParameter(nph))\n",
    "cs.add_sort_param(CardColourWeightSortParam(True))\n",
    "cs.result_search()"
   ]
  },
  {
   "cell_type": "code",
   "execution_count": 12,
   "metadata": {},
   "outputs": [
    {
     "data": {
      "text/plain": [
       "<QuerySet [<Card: Dragon Whelp>, <Card: Forest>, <Card: Island>, <Card: Lightning Bolt>, <Card: Mountain>, <Card: Plains>, <Card: Swamp>, <Card: Unsummon>, <Card: Wall of Fire>, <Card: Pacifism>, <Card: Lava Axe>, <Card: Mind Rot>, <Card: Wind Drake>, <Card: Fling>, <Card: Duress>, <Card: Naturalize>, <Card: Secluded Steppe>, <Card: Raise the Alarm>, <Card: Ghost Quarter>, <Card: Cancel>, '...(remaining elements truncated)...']>"
      ]
     },
     "execution_count": 12,
     "metadata": {},
     "output_type": "execute_result"
    }
   ],
   "source": [
    "from django.db.models import Sum\n",
    "annotated = Card.objects.annotate(ownership_count=Sum('printings__printed_languages__physical_cards__ownerships__count'))\n",
    "\n",
    "kwargs = {f'ownership_count__gt': 8}\n",
    "q = Q(**kwargs)\n",
    "annotated.filter(q)"
   ]
  },
  {
   "cell_type": "code",
   "execution_count": 10,
   "metadata": {},
   "outputs": [
    {
     "name": "stdout",
     "output_type": "stream",
     "text": [
      "0.5360145568847656\n"
     ]
    }
   ],
   "source": [
    "from cardsearch.cardsearch import *\n",
    "import time\n",
    "start = time.time()\n",
    "[x.name for x in CardOwnershipCountParameter(User.objects.get(username='Liam'), 15, '>=').get_result()]\n",
    "end = time.time()\n",
    "print(end-start)"
   ]
  },
  {
   "cell_type": "code",
   "execution_count": 21,
   "metadata": {},
   "outputs": [
    {
     "data": {
      "text/plain": [
       "'SELECT \"cards_card\".\"id\", \"cards_card\".\"name\", \"cards_card\".\"cost\", \"cards_card\".\"cmc\", \"cards_card\".\"colour_flags\", \"cards_card\".\"colour_identity_flags\", \"cards_card\".\"colour_count\", \"cards_card\".\"colour_sort_key\", \"cards_card\".\"colour_weight\", \"cards_card\".\"type\", \"cards_card\".\"subtype\", \"cards_card\".\"power\", \"cards_card\".\"num_power\", \"cards_card\".\"toughness\", \"cards_card\".\"num_toughness\", \"cards_card\".\"loyalty\", \"cards_card\".\"num_loyalty\", \"cards_card\".\"hand_modifier\", \"cards_card\".\"life_modifier\", \"cards_card\".\"rules_text\", \"cards_card\".\"layout\", \"cards_card\".\"is_reserved\", SUM(CASE WHEN \"cards_userownedcard\".\"owner_id\" = 2 THEN \"cards_userownedcard\".\"count\" ELSE NULL END) AS \"ownership_count\" FROM \"cards_card\" LEFT OUTER JOIN \"cards_cardprinting\" ON (\"cards_card\".\"id\" = \"cards_cardprinting\".\"card_id\") LEFT OUTER JOIN \"cards_cardprintinglanguage\" ON (\"cards_cardprinting\".\"id\" = \"cards_cardprintinglanguage\".\"card_printing_id\") LEFT OUTER JOIN \"cards_cardprintinglanguage_physical_cards\" ON (\"cards_cardprintinglanguage\".\"id\" = \"cards_cardprintinglanguage_physical_cards\".\"cardprintinglanguage_id\") LEFT OUTER JOIN \"cards_physicalcard\" ON (\"cards_cardprintinglanguage_physical_cards\".\"physicalcard_id\" = \"cards_physicalcard\".\"id\") LEFT OUTER JOIN \"cards_userownedcard\" ON (\"cards_physicalcard\".\"id\" = \"cards_userownedcard\".\"physical_card_id\") GROUP BY \"cards_card\".\"id\"'"
      ]
     },
     "execution_count": 21,
     "metadata": {},
     "output_type": "execute_result"
    }
   ],
   "source": [
    "from django.db.models import IntegerField, Sum\n",
    "\n",
    "u = User.objects.get(username='Liam')\n",
    "\n",
    "str(Card.objects.annotate(\n",
    "    ownership_count=Sum(Case(When(printings__printed_languages__physical_cards__ownerships__owner=u, then='printings__printed_languages__physical_cards__ownerships__count'), output_field=IntegerField()))).query)"
   ]
  },
  {
   "cell_type": "code",
   "execution_count": 7,
   "metadata": {},
   "outputs": [
    {
     "data": {
      "text/plain": [
       "<QuerySet [<Card: Zuran Spellcaster>, <Card: Zuran Orb>, <Card: Zuran Enchanter>, <Card: Zur's Weirding>, <Card: Yavimaya Gnats>, <Card: Wrath of Marit Lage>, <Card: Word of Undoing>, <Card: Word of Blasting>, <Card: Woolly Spider>, <Card: Woolly Mammoths>, <Card: Withering Wisps>, <Card: Winter's Chill>, <Card: Wings of Aesthir>, <Card: Wind Spirit>, <Card: Wild Growth>, <Card: Wiitigo>, <Card: Whiteout>, <Card: White Scarab>, <Card: Whalebone Glider>, <Card: Warning>, '...(remaining elements truncated)...']>"
      ]
     },
     "execution_count": 7,
     "metadata": {},
     "output_type": "execute_result"
    }
   ],
   "source": [
    "block_obj = Block.objects.get(name='Ice Age')\n",
    "Card.objects.filter(printings__set__block=block_obj)\n"
   ]
  },
  {
   "cell_type": "code",
   "execution_count": 7,
   "metadata": {},
   "outputs": [
    {
     "data": {
      "text/plain": [
       "<QuerySet [<Card: Ruthless Deathfang>, <Card: Ur-Drago>, <Card: Dromar's Cavern>, <Card: Urborg Elf>, <Card: Merieke Ri Berit>, <Card: Sphinx Summoner>, <Card: Extract from Darkness>, <Card: Bound>, <Card: Stormscape Battlemage>, <Card: Dementia Sliver>, <Card: Lazav, Dimir Mastermind>, <Card: Wrexial, the Risen Deep>, <Card: Psychic Intrusion>, <Card: Sultai Ascendacy>, <Card: Rakshasa Vizier>, <Card: Perplex>, <Card: Tasigur, the Golden Fang>, <Card: The Mimeoplasm>, <Card: Leovold, Emissary of Trest>, <Card: X>, '...(remaining elements truncated)...']>"
      ]
     },
     "execution_count": 7,
     "metadata": {},
     "output_type": "execute_result"
    }
   ],
   "source": [
    "from cardsearch.cardsearch import *\n",
    "p = AndParameterNode()\n",
    "p.add_parameter(CardColourIdentityParam(Card.colour_flags.blue))\n",
    "p.add_parameter(CardColourIdentityParam(Card.colour_flags.black))\n",
    "p.add_parameter(CardColourIdentityParam(Card.colour_flags.red)).boolean_flag = False\n",
    "p.get_result()"
   ]
  },
  {
   "cell_type": "code",
   "execution_count": 11,
   "metadata": {},
   "outputs": [
    {
     "data": {
      "text/plain": [
       "<QuerySet [<Card: Draco>]>"
      ]
     },
     "execution_count": 11,
     "metadata": {},
     "output_type": "execute_result"
    }
   ],
   "source": [
    "CardCmcParam(16, '=').get_result()"
   ]
  },
  {
   "cell_type": "code",
   "execution_count": 3,
   "metadata": {},
   "outputs": [
    {
     "data": {
      "text/plain": [
       "<QuerySet [<Card: Powerleech>, <Card: People of the Woods>, <Card: Thelon's Curse>, <Card: Blizzard>, <Card: Freyalise's Charm>, <Card: Superior Numbers>, <Card: Eladamri, Lord of Leaves>, <Card: Keeper of the Beasts>, <Card: Multani's Acolyte>, <Card: Deepwood Elder>, <Card: Vintara Snapper>, <Card: Thoughtleech>, <Card: Slith Predator>, <Card: Nourish>, <Card: Wear Away>, <Card: Land Aid '04>, <Card: Old Fogey>, <Card: Thelon of Havenwood>, <Card: Whirling Dervish>, <Card: Magus of the Library>, '...(remaining elements truncated)...']>"
      ]
     },
     "execution_count": 3,
     "metadata": {},
     "output_type": "execute_result"
    }
   ],
   "source": [
    "from cardsearch.cardsearch import *\n",
    "CardManaCostParam('{G}{G}', True).get_result()"
   ]
  },
  {
   "cell_type": "code",
   "execution_count": 2,
   "metadata": {},
   "outputs": [
    {
     "data": {
      "text/plain": [
       "<QuerySet [<Card: Insectile Aberration>, <Card: Fyndhorn Elves>, <Card: Sol Ring>, <Card: Nevinyrral's Disk>, <Card: Wall of Blossoms>, <Card: Rampaging Baloths>, <Card: Exalted Angel>, <Card: Serra Angel>, <Card: Dark Ritual>, <Card: Akroma, Angel of Fury>, <Card: Impulse>, <Card: Maze's End>, <Card: Scourge of Valkas>, <Card: Sphinx of the Steel Wind>, <Card: Delver of Secrets>, <Card: Undergrowth Champion>, <Card: Sun Titan>, <Card: Descent into Madness>]>"
      ]
     },
     "execution_count": 2,
     "metadata": {},
     "output_type": "execute_result"
    }
   ],
   "source": [
    "from cardsearch.cardsearch import *\n",
    "p = AndParameterNode()\n",
    "p.add_parameter(CardRarityParam(Rarity.objects.get(symbol='M')))\n",
    "p.add_parameter(CardOwnershipCountParam(User.objects.get(username='Liam'), '>=', 4))\n",
    "p.get_result()"
   ]
  },
  {
   "cell_type": "code",
   "execution_count": 18,
   "metadata": {},
   "outputs": [
    {
     "data": {
      "text/plain": [
       "<QuerySet [<Card: Swamp>, <Card: Evolving Wilds>, <Card: Oblivion Ring>, <Card: Gruul Guildgate>, <Card: Ghost Quarter>, <Card: Sign in Blood>, <Card: Typhoid Rats>, <Card: Unsummon>, <Card: Cancel>, <Card: Wall of Fire>, <Card: Dragon Whelp>, <Card: Negate>, <Card: Lava Axe>, <Card: Pilgrim's Eye>, <Card: Lightning Bolt>, <Card: Secluded Steppe>, <Card: Terramorphic Expanse>, <Card: Wastes>, <Card: Augury Owl>, <Card: Boros Guildgate>, '...(remaining elements truncated)...']>"
      ]
     },
     "execution_count": 18,
     "metadata": {},
     "output_type": "execute_result"
    }
   ],
   "source": [
    "Card.objects.filter(id__in=CardOwnershipCountParam(User.objects.get(username='Liam'), '>', 8).get_result())"
   ]
  },
  {
   "cell_type": "code",
   "execution_count": 3,
   "metadata": {},
   "outputs": [
    {
     "name": "stdout",
     "output_type": "stream",
     "text": [
      "<Bit: number=3, is_set=True>\n",
      "<Bit: number=4, is_set=True>\n",
      "[<Bit: number=0, is_set=True>, <Bit: number=1, is_set=True>, <Bit: number=2, is_set=True>]\n",
      "<cardsearch.parameters.AndParam object at 0x08B7DE30>\n"
     ]
    },
    {
     "data": {
      "text/plain": [
       "'(((SELECT \"cards_card\".\"id\", \"cards_card\".\"name\", \"cards_card\".\"cost\", \"cards_card\".\"cmc\", \"cards_card\".\"colour_flags\", \"cards_card\".\"colour_identity_flags\", \"cards_card\".\"colour_count\", \"cards_card\".\"colour_sort_key\", \"cards_card\".\"colour_weight\", \"cards_card\".\"type\", \"cards_card\".\"subtype\", \"cards_card\".\"power\", \"cards_card\".\"num_power\", \"cards_card\".\"toughness\", \"cards_card\".\"num_toughness\", \"cards_card\".\"loyalty\", \"cards_card\".\"num_loyalty\", \"cards_card\".\"hand_modifier\", \"cards_card\".\"life_modifier\", \"cards_card\".\"rules_text\", \"cards_card\".\"layout\", \"cards_card\".\"is_reserved\" FROM \"cards_card\" WHERE \"cards_card\".\"colour_flags\" & 1 = 1) INTERSECT (SELECT \"cards_card\".\"id\", \"cards_card\".\"name\", \"cards_card\".\"cost\", \"cards_card\".\"cmc\", \"cards_card\".\"colour_flags\", \"cards_card\".\"colour_identity_flags\", \"cards_card\".\"colour_count\", \"cards_card\".\"colour_sort_key\", \"cards_card\".\"colour_weight\", \"cards_card\".\"type\", \"cards_card\".\"subtype\", \"cards_card\".\"power\", \"cards_card\".\"num_power\", \"cards_card\".\"toughness\", \"cards_card\".\"num_toughness\", \"cards_card\".\"loyalty\", \"cards_card\".\"num_loyalty\", \"cards_card\".\"hand_modifier\", \"cards_card\".\"life_modifier\", \"cards_card\".\"rules_text\", \"cards_card\".\"layout\", \"cards_card\".\"is_reserved\" FROM \"cards_card\" WHERE \"cards_card\".\"colour_flags\" & 2 = 2)) INTERSECT (SELECT \"cards_card\".\"id\", \"cards_card\".\"name\", \"cards_card\".\"cost\", \"cards_card\".\"cmc\", \"cards_card\".\"colour_flags\", \"cards_card\".\"colour_identity_flags\", \"cards_card\".\"colour_count\", \"cards_card\".\"colour_sort_key\", \"cards_card\".\"colour_weight\", \"cards_card\".\"type\", \"cards_card\".\"subtype\", \"cards_card\".\"power\", \"cards_card\".\"num_power\", \"cards_card\".\"toughness\", \"cards_card\".\"num_toughness\", \"cards_card\".\"loyalty\", \"cards_card\".\"num_loyalty\", \"cards_card\".\"hand_modifier\", \"cards_card\".\"life_modifier\", \"cards_card\".\"rules_text\", \"cards_card\".\"layout\", \"cards_card\".\"is_reserved\" FROM \"cards_card\" WHERE \"cards_card\".\"colour_flags\" & 4 = 4)) INTERSECT ((SELECT \"cards_card\".\"id\", \"cards_card\".\"name\", \"cards_card\".\"cost\", \"cards_card\".\"cmc\", \"cards_card\".\"colour_flags\", \"cards_card\".\"colour_identity_flags\", \"cards_card\".\"colour_count\", \"cards_card\".\"colour_sort_key\", \"cards_card\".\"colour_weight\", \"cards_card\".\"type\", \"cards_card\".\"subtype\", \"cards_card\".\"power\", \"cards_card\".\"num_power\", \"cards_card\".\"toughness\", \"cards_card\".\"num_toughness\", \"cards_card\".\"loyalty\", \"cards_card\".\"num_loyalty\", \"cards_card\".\"hand_modifier\", \"cards_card\".\"life_modifier\", \"cards_card\".\"rules_text\", \"cards_card\".\"layout\", \"cards_card\".\"is_reserved\" FROM \"cards_card\") EXCEPT ((SELECT \"cards_card\".\"id\", \"cards_card\".\"name\", \"cards_card\".\"cost\", \"cards_card\".\"cmc\", \"cards_card\".\"colour_flags\", \"cards_card\".\"colour_identity_flags\", \"cards_card\".\"colour_count\", \"cards_card\".\"colour_sort_key\", \"cards_card\".\"colour_weight\", \"cards_card\".\"type\", \"cards_card\".\"subtype\", \"cards_card\".\"power\", \"cards_card\".\"num_power\", \"cards_card\".\"toughness\", \"cards_card\".\"num_toughness\", \"cards_card\".\"loyalty\", \"cards_card\".\"num_loyalty\", \"cards_card\".\"hand_modifier\", \"cards_card\".\"life_modifier\", \"cards_card\".\"rules_text\", \"cards_card\".\"layout\", \"cards_card\".\"is_reserved\" FROM \"cards_card\" WHERE \"cards_card\".\"colour_flags\" & 8 = 8) UNION (SELECT \"cards_card\".\"id\", \"cards_card\".\"name\", \"cards_card\".\"cost\", \"cards_card\".\"cmc\", \"cards_card\".\"colour_flags\", \"cards_card\".\"colour_identity_flags\", \"cards_card\".\"colour_count\", \"cards_card\".\"colour_sort_key\", \"cards_card\".\"colour_weight\", \"cards_card\".\"type\", \"cards_card\".\"subtype\", \"cards_card\".\"power\", \"cards_card\".\"num_power\", \"cards_card\".\"toughness\", \"cards_card\".\"num_toughness\", \"cards_card\".\"loyalty\", \"cards_card\".\"num_loyalty\", \"cards_card\".\"hand_modifier\", \"cards_card\".\"life_modifier\", \"cards_card\".\"rules_text\", \"cards_card\".\"layout\", \"cards_card\".\"is_reserved\" FROM \"cards_card\" WHERE \"cards_card\".\"colour_flags\" & 16 = 16))) ORDER BY (2) ASC'"
      ]
     },
     "execution_count": 3,
     "metadata": {},
     "output_type": "execute_result"
    }
   ],
   "source": [
    "from cardsearch.simplesearch import SimpleSearch\n",
    "from pprint import pprint\n",
    "ss = SimpleSearch()\n",
    "ss.colours.append(Card.colour_flags.white)\n",
    "ss.colours.append(Card.colour_flags.blue)\n",
    "ss.colours.append(Card.colour_flags.black)\n",
    "ss.exclude_colours = True\n",
    "ss.match_colours = True\n",
    "str(ss.get_query().query)"
   ]
  },
  {
   "cell_type": "code",
   "execution_count": null,
   "metadata": {},
   "outputs": [],
   "source": []
  }
 ],
 "metadata": {
  "kernelspec": {
   "display_name": "Django Shell-Plus",
   "language": "python",
   "name": "django_extensions"
  },
  "language_info": {
   "codemirror_mode": {
    "name": "ipython",
    "version": 3
   },
   "file_extension": ".py",
   "mimetype": "text/x-python",
   "name": "python",
   "nbconvert_exporter": "python",
   "pygments_lexer": "ipython3",
   "version": "3.6.2"
  }
 },
 "nbformat": 4,
 "nbformat_minor": 2
}
