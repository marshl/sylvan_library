{
 "cells": [
  {
   "cell_type": "code",
   "execution_count": 1,
   "metadata": {},
   "outputs": [],
   "source": [
    "from cards.models import *"
   ]
  },
  {
   "cell_type": "code",
   "execution_count": 6,
   "metadata": {},
   "outputs": [
    {
     "data": {
      "text/plain": [
       "{'_state': <django.db.models.base.ModelState at 0x1146b7b0>,\n",
       " 'id': 4336,\n",
       " 'date_created': datetime.date(2018, 6, 1),\n",
       " 'last_modified': datetime.date(2019, 5, 4),\n",
       " 'name': 'An Aura of Death - Black/Green Auras v.1',\n",
       " 'description': '',\n",
       " 'owner_id': 2,\n",
       " 'format': 'standard',\n",
       " 'land_count_w': None,\n",
       " 'land_count_u': None,\n",
       " 'land_count_b': 12,\n",
       " 'land_count_r': None,\n",
       " 'land_count_g': 12,\n",
       " 'land_count_c': None}"
      ]
     },
     "execution_count": 6,
     "metadata": {},
     "output_type": "execute_result"
    }
   ],
   "source": [
    "deck = Deck.objects.get(owner=User.objects.get(username='Liam'), name__icontains='Auras')\n",
    "deck.calculate_land_symbol_counts()\n",
    "deck.__dict__"
   ]
  },
  {
   "cell_type": "code",
   "execution_count": null,
   "metadata": {},
   "outputs": [],
   "source": []
  },
  {
   "cell_type": "raw",
   "metadata": {},
   "source": []
  }
 ],
 "metadata": {
  "kernelspec": {
   "display_name": "Django Shell-Plus",
   "language": "python",
   "name": "django_extensions"
  },
  "language_info": {
   "codemirror_mode": {
    "name": "ipython",
    "version": 3
   },
   "file_extension": ".py",
   "mimetype": "text/x-python",
   "name": "python",
   "nbconvert_exporter": "python",
   "pygments_lexer": "ipython3",
   "version": "3.6.2"
  }
 },
 "nbformat": 4,
 "nbformat_minor": 2
}
