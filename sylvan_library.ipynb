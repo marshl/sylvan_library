{
 "cells": [
  {
   "cell_type": "code",
   "execution_count": null,
   "metadata": {},
   "outputs": [],
   "source": [
    "from collections import Counter\n",
    "sorted([(name, Counter(name[0].lower().translate(dict.fromkeys(map(ord, 'aeiounrst .-'), None)))) for name in Card.objects.values_list('name')], key=lambda x: max(x[1].values() or [0]), reverse=True)\n"
   ]
  },
  {
   "cell_type": "code",
   "execution_count": null,
   "metadata": {},
   "outputs": [],
   "source": [
    "from collections import Counter\n",
    "Counter(''.join([name[0].lower() for name in Card.objects.values_list('name')]))"
   ]
  },
  {
   "cell_type": "code",
   "execution_count": null,
   "metadata": {},
   "outputs": [],
   "source": [
    "from cards.models import *\n",
    "print(f'Cards: {Card.objects.count()}')"
   ]
  },
  {
   "cell_type": "code",
   "execution_count": null,
   "metadata": {},
   "outputs": [],
   "source": [
    "print(f'CardPrintings: {CardPrinting.objects.count()}')"
   ]
  },
  {
   "cell_type": "code",
   "execution_count": null,
   "metadata": {},
   "outputs": [],
   "source": [
    "print(f'CardPrintingLanguages: {CardPrintingLanguage.objects.count()}')"
   ]
  },
  {
   "cell_type": "code",
   "execution_count": null,
   "metadata": {},
   "outputs": [],
   "source": [
    "print(f'PhysicalCards: {PhysicalCard.objects.count()}')"
   ]
  },
  {
   "cell_type": "code",
   "execution_count": null,
   "metadata": {},
   "outputs": [],
   "source": [
    "print(f'UserOwnedCards: {UserOwnedCard.objects.filter(owner=User.objects.get(username=\"Liam\")).count()}')"
   ]
  },
  {
   "cell_type": "code",
   "execution_count": null,
   "metadata": {},
   "outputs": [],
   "source": [
    "from django.db.models import Sum\n",
    "print(f\"My Cards: {UserOwnedCard.objects.filter(owner=User.objects.get(username='Liam')).aggregate(Sum('count'))}\")"
   ]
  },
  {
   "cell_type": "code",
   "execution_count": null,
   "metadata": {},
   "outputs": [],
   "source": [
    "from django.db import connection\n",
    "with connection.cursor() as cursor:\n",
    "    cursor.execute(\"\"\"\n",
    "SELECT SUM(reltuples) rowcount\n",
    "FROM pg_class C\n",
    "LEFT JOIN pg_namespace N ON (N.oid = C.relnamespace)\n",
    "WHERE nspname NOT IN ('pg_catalog', 'information_schema') \n",
    "AND relkind='r' \n",
    "\"\"\")\n",
    "    result = cursor.fetchone()\n",
    "    \n",
    "print(result)"
   ]
  },
  {
   "cell_type": "code",
   "execution_count": 3,
   "metadata": {},
   "outputs": [],
   "source": [
    "for card in Card.objects.filter(is_token=True).all():\n",
    "    card.name = f\"{card.name} ({card.scryfall_oracle_id.split('-')[0]})\"\n",
    "    card.save()"
   ]
  },
  {
   "cell_type": "code",
   "execution_count": 6,
   "metadata": {},
   "outputs": [
    {
     "data": {
      "text/plain": [
       "(130,\n",
       " {'cards.Card_links': 0,\n",
       "  'cards.DeckCard': 0,\n",
       "  'cards.CardPrintingLanguage_physical_cards': 26,\n",
       "  'cards.CardImage': 26,\n",
       "  'cards.CardRuling': 0,\n",
       "  'cards.CardLegality': 0,\n",
       "  'cards.CardTag_cards': 0,\n",
       "  'cards.CardPrintingLanguage': 26,\n",
       "  'cards.CardPrinting': 26,\n",
       "  'cards.Card': 26})"
      ]
     },
     "execution_count": 6,
     "metadata": {},
     "output_type": "execute_result"
    }
   ],
   "source": [
    "Card.objects.filter(id__in=[29142, 29143, 29145, 29146, 29147, 29148, 29149, 29151, 29152, 29154, 29155, 29156, 29157, 29158, 29159, 29170, 29117, 29118, 29131, 29132, 29141, 29144, 29150, 29153, 29160, 29169]).delete()"
   ]
  },
  {
   "cell_type": "code",
   "execution_count": null,
   "metadata": {},
   "outputs": [],
   "source": []
  }
 ],
 "metadata": {
  "kernelspec": {
   "display_name": "Django Shell-Plus",
   "language": "python",
   "name": "django_extensions"
  },
  "language_info": {
   "codemirror_mode": {
    "name": "ipython",
    "version": 3
   },
   "file_extension": ".py",
   "mimetype": "text/x-python",
   "name": "python",
   "nbconvert_exporter": "python",
   "pygments_lexer": "ipython3",
   "version": "3.6.7"
  }
 },
 "nbformat": 4,
 "nbformat_minor": 2
}
